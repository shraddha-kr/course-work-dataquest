{
 "cells": [
  {
   "cell_type": "markdown",
   "metadata": {},
   "source": [
    "##### TITLE\n",
    "Combining Data With Pandas"
   ]
  },
  {
   "cell_type": "markdown",
   "metadata": {},
   "source": [
    "##### OBJECTIVE\n",
    "Analyze the 2015, 2016, and 2017 World Happiness Reports.\n",
    "\n",
    "It's very common practice to work with more than one data set at a time, you may need to pull the data from multiple sources. "
   ]
  },
  {
   "cell_type": "markdown",
   "metadata": {},
   "source": [
    "##### DATA INTRODUCTION\n",
    "These reports assign each country a happiness score based on a poll question that asks respondents to rank their life on a scale of 0 - 10, so \"world happiness\" refers to this definition.\n",
    "\n",
    "Below is a preview of the 2015 report:\n",
    "\n",
    "| Column      | Definition |\n",
    "| :---------- | :--------- |\n",
    "| Country  |Name of the country.|\n",
    "| Region     | Name of the region the country belongs to.|\n",
    "| Happiness Rank  |The rank of the country, as determined by its happiness score.|\n",
    "| Happiness Score | A score assigned to each country based on the answers to a poll question that asks respondents to rate their happiness on a scale of 0-10.|"
   ]
  },
  {
   "cell_type": "code",
   "execution_count": 6,
   "metadata": {},
   "outputs": [
    {
     "data": {
      "text/html": [
       "<div>\n",
       "<style scoped>\n",
       "    .dataframe tbody tr th:only-of-type {\n",
       "        vertical-align: middle;\n",
       "    }\n",
       "\n",
       "    .dataframe tbody tr th {\n",
       "        vertical-align: top;\n",
       "    }\n",
       "\n",
       "    .dataframe thead th {\n",
       "        text-align: right;\n",
       "    }\n",
       "</style>\n",
       "<table border=\"1\" class=\"dataframe\">\n",
       "  <thead>\n",
       "    <tr style=\"text-align: right;\">\n",
       "      <th></th>\n",
       "      <th>Country</th>\n",
       "      <th>Region</th>\n",
       "      <th>Happiness Rank</th>\n",
       "      <th>Happiness Score</th>\n",
       "      <th>Standard Error</th>\n",
       "      <th>Economy (GDP per Capita)</th>\n",
       "      <th>Family</th>\n",
       "      <th>Health (Life Expectancy)</th>\n",
       "      <th>Freedom</th>\n",
       "      <th>Trust (Government Corruption)</th>\n",
       "      <th>Generosity</th>\n",
       "      <th>Dystopia Residual</th>\n",
       "    </tr>\n",
       "  </thead>\n",
       "  <tbody>\n",
       "    <tr>\n",
       "      <th>0</th>\n",
       "      <td>Switzerland</td>\n",
       "      <td>Western Europe</td>\n",
       "      <td>1</td>\n",
       "      <td>7.587</td>\n",
       "      <td>0.03411</td>\n",
       "      <td>1.39651</td>\n",
       "      <td>1.34951</td>\n",
       "      <td>0.94143</td>\n",
       "      <td>0.66557</td>\n",
       "      <td>0.41978</td>\n",
       "      <td>0.29678</td>\n",
       "      <td>2.51738</td>\n",
       "    </tr>\n",
       "    <tr>\n",
       "      <th>1</th>\n",
       "      <td>Iceland</td>\n",
       "      <td>Western Europe</td>\n",
       "      <td>2</td>\n",
       "      <td>7.561</td>\n",
       "      <td>0.04884</td>\n",
       "      <td>1.30232</td>\n",
       "      <td>1.40223</td>\n",
       "      <td>0.94784</td>\n",
       "      <td>0.62877</td>\n",
       "      <td>0.14145</td>\n",
       "      <td>0.43630</td>\n",
       "      <td>2.70201</td>\n",
       "    </tr>\n",
       "    <tr>\n",
       "      <th>2</th>\n",
       "      <td>Denmark</td>\n",
       "      <td>Western Europe</td>\n",
       "      <td>3</td>\n",
       "      <td>7.527</td>\n",
       "      <td>0.03328</td>\n",
       "      <td>1.32548</td>\n",
       "      <td>1.36058</td>\n",
       "      <td>0.87464</td>\n",
       "      <td>0.64938</td>\n",
       "      <td>0.48357</td>\n",
       "      <td>0.34139</td>\n",
       "      <td>2.49204</td>\n",
       "    </tr>\n",
       "    <tr>\n",
       "      <th>3</th>\n",
       "      <td>Norway</td>\n",
       "      <td>Western Europe</td>\n",
       "      <td>4</td>\n",
       "      <td>7.522</td>\n",
       "      <td>0.03880</td>\n",
       "      <td>1.45900</td>\n",
       "      <td>1.33095</td>\n",
       "      <td>0.88521</td>\n",
       "      <td>0.66973</td>\n",
       "      <td>0.36503</td>\n",
       "      <td>0.34699</td>\n",
       "      <td>2.46531</td>\n",
       "    </tr>\n",
       "    <tr>\n",
       "      <th>4</th>\n",
       "      <td>Canada</td>\n",
       "      <td>North America</td>\n",
       "      <td>5</td>\n",
       "      <td>7.427</td>\n",
       "      <td>0.03553</td>\n",
       "      <td>1.32629</td>\n",
       "      <td>1.32261</td>\n",
       "      <td>0.90563</td>\n",
       "      <td>0.63297</td>\n",
       "      <td>0.32957</td>\n",
       "      <td>0.45811</td>\n",
       "      <td>2.45176</td>\n",
       "    </tr>\n",
       "  </tbody>\n",
       "</table>\n",
       "</div>"
      ],
      "text/plain": [
       "       Country          Region  Happiness Rank  Happiness Score  \\\n",
       "0  Switzerland  Western Europe               1            7.587   \n",
       "1      Iceland  Western Europe               2            7.561   \n",
       "2      Denmark  Western Europe               3            7.527   \n",
       "3       Norway  Western Europe               4            7.522   \n",
       "4       Canada   North America               5            7.427   \n",
       "\n",
       "   Standard Error  Economy (GDP per Capita)   Family  \\\n",
       "0         0.03411                   1.39651  1.34951   \n",
       "1         0.04884                   1.30232  1.40223   \n",
       "2         0.03328                   1.32548  1.36058   \n",
       "3         0.03880                   1.45900  1.33095   \n",
       "4         0.03553                   1.32629  1.32261   \n",
       "\n",
       "   Health (Life Expectancy)  Freedom  Trust (Government Corruption)  \\\n",
       "0                   0.94143  0.66557                        0.41978   \n",
       "1                   0.94784  0.62877                        0.14145   \n",
       "2                   0.87464  0.64938                        0.48357   \n",
       "3                   0.88521  0.66973                        0.36503   \n",
       "4                   0.90563  0.63297                        0.32957   \n",
       "\n",
       "   Generosity  Dystopia Residual  \n",
       "0     0.29678            2.51738  \n",
       "1     0.43630            2.70201  \n",
       "2     0.34139            2.49204  \n",
       "3     0.34699            2.46531  \n",
       "4     0.45811            2.45176  "
      ]
     },
     "execution_count": 6,
     "metadata": {},
     "output_type": "execute_result"
    }
   ],
   "source": [
    "import pandas as pd\n",
    "\n",
    "happiness2015 = pd.read_csv('./dataset/World_Happiness_2015.csv')\n",
    "happiness2016 = pd.read_csv('./dataset/World_Happiness_2016.csv')\n",
    "happiness2017 = pd.read_csv('./dataset/World_Happiness_2017.csv')\n",
    "\n",
    "happiness2015.head()"
   ]
  },
  {
   "cell_type": "markdown",
   "metadata": {},
   "source": [
    "##### Add a column called *Year*  to each dataframe with the corresponding year."
   ]
  },
  {
   "cell_type": "code",
   "execution_count": 14,
   "metadata": {
    "scrolled": true
   },
   "outputs": [
    {
     "name": "stdout",
     "output_type": "stream",
     "text": [
      "<class 'pandas.core.frame.DataFrame'>\n",
      "RangeIndex: 158 entries, 0 to 157\n",
      "Data columns (total 13 columns):\n",
      " #   Column                         Non-Null Count  Dtype  \n",
      "---  ------                         --------------  -----  \n",
      " 0   Country                        158 non-null    object \n",
      " 1   Region                         158 non-null    object \n",
      " 2   Happiness Rank                 158 non-null    int64  \n",
      " 3   Happiness Score                158 non-null    float64\n",
      " 4   Standard Error                 158 non-null    float64\n",
      " 5   Economy (GDP per Capita)       158 non-null    float64\n",
      " 6   Family                         158 non-null    float64\n",
      " 7   Health (Life Expectancy)       158 non-null    float64\n",
      " 8   Freedom                        158 non-null    float64\n",
      " 9   Trust (Government Corruption)  158 non-null    float64\n",
      " 10  Generosity                     158 non-null    float64\n",
      " 11  Dystopia Residual              158 non-null    float64\n",
      " 12  Year                           158 non-null    int64  \n",
      "dtypes: float64(9), int64(2), object(2)\n",
      "memory usage: 16.2+ KB\n"
     ]
    }
   ],
   "source": [
    "happiness2015['Year'] = 2015\n",
    "happiness2016['Year'] = 2016\n",
    "happiness2017['Year'] = 2017\n",
    "\n",
    "happiness2015.head()\n",
    "happiness2015.info()"
   ]
  },
  {
   "cell_type": "markdown",
   "metadata": {},
   "source": [
    "##### Combining DataFrames With The Concat Function"
   ]
  },
  {
   "cell_type": "markdown",
   "metadata": {},
   "source": [
    "![title](./img/Concat_1.png)\n",
    "![title](./img/Concat_2.png)\n",
    "![title](./img/Concat_3.png)\n"
   ]
  },
  {
   "cell_type": "code",
   "execution_count": 22,
   "metadata": {},
   "outputs": [
    {
     "name": "stdout",
     "output_type": "stream",
     "text": [
      "       Country  Happiness Score  Year\n",
      "0  Switzerland            7.587  2015\n",
      "1      Iceland            7.561  2015\n",
      "2      Denmark            7.527  2015\n",
      "0      Denmark            7.526  2016\n",
      "1  Switzerland            7.509  2016\n",
      "2      Iceland            7.501  2016 \n",
      "\n",
      "       Country  Happiness Score  Year      Country  Happiness Score  Year\n",
      "0  Switzerland            7.587  2015      Denmark            7.526  2016\n",
      "1      Iceland            7.561  2015  Switzerland            7.509  2016\n",
      "2      Denmark            7.527  2015      Iceland            7.501  2016\n"
     ]
    }
   ],
   "source": [
    "head_2015 = happiness2015[['Country','Happiness Score', 'Year']].head(3)\n",
    "head_2016 = happiness2016[['Country','Happiness Score', 'Year']].head(3)\n",
    "\n",
    "concat_axis0 = pd.concat([head_2015, head_2016])\n",
    "print(concat_axis0, '\\n')\n",
    "concat_axis1 = pd.concat([head_2015, head_2016], axis=1)\n",
    "print(concat_axis1)\n",
    " \n",
    "question1 = 6\n",
    "question2 = 3"
   ]
  },
  {
   "cell_type": "markdown",
   "metadata": {},
   "source": [
    "We notice from the above result, that we merely pushed the dataframes together vertically or horizontally - none of the values, column names, or indexes changed.\n",
    "When you use the *Concat()* function to combine dataframes with the same shape and index, you can think of the function as 'gluing' dataframes together.\n",
    "![title](./img/Concat_4.png)\n"
   ]
  },
  {
   "cell_type": "markdown",
   "metadata": {},
   "source": [
    "##### Combining DataFrames with Different Shapes Using the Concat Function\n",
    "If the dataframes have diferent shapes or columns, Let's see the concat() function's behavior when we cobine dataframes that don't have the same shape."
   ]
  },
  {
   "cell_type": "code",
   "execution_count": 24,
   "metadata": {},
   "outputs": [
    {
     "data": {
      "text/html": [
       "<div>\n",
       "<style scoped>\n",
       "    .dataframe tbody tr th:only-of-type {\n",
       "        vertical-align: middle;\n",
       "    }\n",
       "\n",
       "    .dataframe tbody tr th {\n",
       "        vertical-align: top;\n",
       "    }\n",
       "\n",
       "    .dataframe thead th {\n",
       "        text-align: right;\n",
       "    }\n",
       "</style>\n",
       "<table border=\"1\" class=\"dataframe\">\n",
       "  <thead>\n",
       "    <tr style=\"text-align: right;\">\n",
       "      <th></th>\n",
       "      <th>Year</th>\n",
       "      <th>Country</th>\n",
       "      <th>Happiness Score</th>\n",
       "      <th>Standard Error</th>\n",
       "    </tr>\n",
       "  </thead>\n",
       "  <tbody>\n",
       "    <tr>\n",
       "      <th>0</th>\n",
       "      <td>2015</td>\n",
       "      <td>Switzerland</td>\n",
       "      <td>7.587</td>\n",
       "      <td>0.03411</td>\n",
       "    </tr>\n",
       "    <tr>\n",
       "      <th>1</th>\n",
       "      <td>2015</td>\n",
       "      <td>Iceland</td>\n",
       "      <td>7.561</td>\n",
       "      <td>0.04884</td>\n",
       "    </tr>\n",
       "    <tr>\n",
       "      <th>2</th>\n",
       "      <td>2015</td>\n",
       "      <td>Denmark</td>\n",
       "      <td>7.527</td>\n",
       "      <td>0.03328</td>\n",
       "    </tr>\n",
       "    <tr>\n",
       "      <th>3</th>\n",
       "      <td>2015</td>\n",
       "      <td>Norway</td>\n",
       "      <td>7.522</td>\n",
       "      <td>0.03880</td>\n",
       "    </tr>\n",
       "    <tr>\n",
       "      <th>0</th>\n",
       "      <td>2016</td>\n",
       "      <td>Denmark</td>\n",
       "      <td>7.526</td>\n",
       "      <td>NaN</td>\n",
       "    </tr>\n",
       "    <tr>\n",
       "      <th>1</th>\n",
       "      <td>2016</td>\n",
       "      <td>Switzerland</td>\n",
       "      <td>7.509</td>\n",
       "      <td>NaN</td>\n",
       "    </tr>\n",
       "    <tr>\n",
       "      <th>2</th>\n",
       "      <td>2016</td>\n",
       "      <td>Iceland</td>\n",
       "      <td>7.501</td>\n",
       "      <td>NaN</td>\n",
       "    </tr>\n",
       "  </tbody>\n",
       "</table>\n",
       "</div>"
      ],
      "text/plain": [
       "   Year      Country  Happiness Score  Standard Error\n",
       "0  2015  Switzerland            7.587         0.03411\n",
       "1  2015      Iceland            7.561         0.04884\n",
       "2  2015      Denmark            7.527         0.03328\n",
       "3  2015       Norway            7.522         0.03880\n",
       "0  2016      Denmark            7.526             NaN\n",
       "1  2016  Switzerland            7.509             NaN\n",
       "2  2016      Iceland            7.501             NaN"
      ]
     },
     "execution_count": 24,
     "metadata": {},
     "output_type": "execute_result"
    }
   ],
   "source": [
    "head_2015 = happiness2015[['Year','Country','Happiness Score', 'Standard Error']].head(4)\n",
    "head_2016 = happiness2016[['Country','Happiness Score', 'Year']].head(3)\n",
    "concat_axis0 = pd.concat([head_2015, head_2016])\n",
    "rows = 7\n",
    "columns = 4\n",
    "concat_axis0"
   ]
  },
  {
   "cell_type": "markdown",
   "metadata": {},
   "source": [
    "![title](./img/Concat_5.png)\n",
    "Note that because the Standard Error column didn't exist in head_2016, **NaN** values were created to signify those values are missing. By default, the concat function will keep all of the data, no matter if missing values are created."
   ]
  },
  {
   "cell_type": "markdown",
   "metadata": {},
   "source": [
    "##### Re-setting Indexes\n",
    "The indexes of the original dataframes didn't change. When duplicate indexes are created, it can be better to reset them, because they could cause erroors as we perform other data cleaning tasks.\n",
    "The concat() has a parameter, **ignore_index**, that can be used to clear the existing index and reset it in the result."
   ]
  },
  {
   "cell_type": "code",
   "execution_count": 25,
   "metadata": {},
   "outputs": [
    {
     "data": {
      "text/html": [
       "<div>\n",
       "<style scoped>\n",
       "    .dataframe tbody tr th:only-of-type {\n",
       "        vertical-align: middle;\n",
       "    }\n",
       "\n",
       "    .dataframe tbody tr th {\n",
       "        vertical-align: top;\n",
       "    }\n",
       "\n",
       "    .dataframe thead th {\n",
       "        text-align: right;\n",
       "    }\n",
       "</style>\n",
       "<table border=\"1\" class=\"dataframe\">\n",
       "  <thead>\n",
       "    <tr style=\"text-align: right;\">\n",
       "      <th></th>\n",
       "      <th>Year</th>\n",
       "      <th>Country</th>\n",
       "      <th>Happiness Score</th>\n",
       "      <th>Standard Error</th>\n",
       "    </tr>\n",
       "  </thead>\n",
       "  <tbody>\n",
       "    <tr>\n",
       "      <th>0</th>\n",
       "      <td>2015</td>\n",
       "      <td>Switzerland</td>\n",
       "      <td>7.587</td>\n",
       "      <td>0.03411</td>\n",
       "    </tr>\n",
       "    <tr>\n",
       "      <th>1</th>\n",
       "      <td>2015</td>\n",
       "      <td>Iceland</td>\n",
       "      <td>7.561</td>\n",
       "      <td>0.04884</td>\n",
       "    </tr>\n",
       "    <tr>\n",
       "      <th>2</th>\n",
       "      <td>2015</td>\n",
       "      <td>Denmark</td>\n",
       "      <td>7.527</td>\n",
       "      <td>0.03328</td>\n",
       "    </tr>\n",
       "    <tr>\n",
       "      <th>3</th>\n",
       "      <td>2015</td>\n",
       "      <td>Norway</td>\n",
       "      <td>7.522</td>\n",
       "      <td>0.03880</td>\n",
       "    </tr>\n",
       "    <tr>\n",
       "      <th>4</th>\n",
       "      <td>2016</td>\n",
       "      <td>Denmark</td>\n",
       "      <td>7.526</td>\n",
       "      <td>NaN</td>\n",
       "    </tr>\n",
       "    <tr>\n",
       "      <th>5</th>\n",
       "      <td>2016</td>\n",
       "      <td>Switzerland</td>\n",
       "      <td>7.509</td>\n",
       "      <td>NaN</td>\n",
       "    </tr>\n",
       "    <tr>\n",
       "      <th>6</th>\n",
       "      <td>2016</td>\n",
       "      <td>Iceland</td>\n",
       "      <td>7.501</td>\n",
       "      <td>NaN</td>\n",
       "    </tr>\n",
       "  </tbody>\n",
       "</table>\n",
       "</div>"
      ],
      "text/plain": [
       "   Year      Country  Happiness Score  Standard Error\n",
       "0  2015  Switzerland            7.587         0.03411\n",
       "1  2015      Iceland            7.561         0.04884\n",
       "2  2015      Denmark            7.527         0.03328\n",
       "3  2015       Norway            7.522         0.03880\n",
       "4  2016      Denmark            7.526             NaN\n",
       "5  2016  Switzerland            7.509             NaN\n",
       "6  2016      Iceland            7.501             NaN"
      ]
     },
     "execution_count": 25,
     "metadata": {},
     "output_type": "execute_result"
    }
   ],
   "source": [
    "head_2015 = happiness2015[['Year','Country','Happiness Score', 'Standard Error']].head(4)\n",
    "head_2016 = happiness2016[['Country','Happiness Score', 'Year']].head(3)\n",
    "\n",
    "concat_update_index = pd.concat([head_2015, head_2016], ignore_index=True)\n",
    "concat_update_index"
   ]
  },
  {
   "cell_type": "markdown",
   "metadata": {},
   "source": [
    "##### Joining DataFrames with the Merge Function\n",
    "The **pd.merge()** function can execute high performance database-style joins. Unlike the concat function, the merge function only combines dataframes horizontally(axis=1) and can only combine two dataframes at a time. \n",
    "It can be valuable when we need to combine very large dataframes quickly and provides more flexibility in terms of how data can be combined. \n",
    "\n",
    "With the merge(), we will combine dataframes on a **key**, a shared index or column. When choosing a key, it's a good practice to use keys with unique values to avoid duplicating data. You can think of keys as creating a link from one dataframe to another using the common values or indexes. \n",
    "\n",
    "Below, we linked the dataframes using common values in the Country columns.\n",
    "We use those common country values to join or merge the dataframes.\n",
    "![title](./img/Merge_1.png)\n",
    "![title](./img/Merge_2.png)\n",
    "![title](./img/Merge_3.png)\n",
    "\n",
    "![title](./img/Joins_1.png)"
   ]
  },
  {
   "cell_type": "code",
   "execution_count": 28,
   "metadata": {},
   "outputs": [
    {
     "data": {
      "text/html": [
       "<div>\n",
       "<style scoped>\n",
       "    .dataframe tbody tr th:only-of-type {\n",
       "        vertical-align: middle;\n",
       "    }\n",
       "\n",
       "    .dataframe tbody tr th {\n",
       "        vertical-align: top;\n",
       "    }\n",
       "\n",
       "    .dataframe thead th {\n",
       "        text-align: right;\n",
       "    }\n",
       "</style>\n",
       "<table border=\"1\" class=\"dataframe\">\n",
       "  <thead>\n",
       "    <tr style=\"text-align: right;\">\n",
       "      <th></th>\n",
       "      <th>Country</th>\n",
       "      <th>Happiness Rank_x</th>\n",
       "      <th>Year_x</th>\n",
       "      <th>Happiness Rank_y</th>\n",
       "      <th>Year_y</th>\n",
       "    </tr>\n",
       "  </thead>\n",
       "  <tbody>\n",
       "    <tr>\n",
       "      <th>0</th>\n",
       "      <td>Norway</td>\n",
       "      <td>4</td>\n",
       "      <td>2015</td>\n",
       "      <td>4</td>\n",
       "      <td>2016</td>\n",
       "    </tr>\n",
       "  </tbody>\n",
       "</table>\n",
       "</div>"
      ],
      "text/plain": [
       "  Country  Happiness Rank_x  Year_x  Happiness Rank_y  Year_y\n",
       "0  Norway                 4    2015                 4    2016"
      ]
     },
     "execution_count": 28,
     "metadata": {},
     "output_type": "execute_result"
    }
   ],
   "source": [
    "three_2015 = happiness2015[['Country','Happiness Rank','Year']].iloc[2:5]\n",
    "three_2016 = happiness2016[['Country','Happiness Rank','Year']].iloc[2:5]\n",
    "\n",
    "merged = pd.merge(left=three_2015, right=three_2016, on='Country')\n",
    "merged"
   ]
  },
  {
   "cell_type": "markdown",
   "metadata": {},
   "source": [
    "**Inner Join**\n",
    "\n",
    "Since we joined the dataframes on the Country column, or used it as thee key, the merge()\n",
    "function looked to match elements in the Country column in BOTH dataframes.\n",
    "![title](./img/Merge_4.png)\n",
    "This way of combining, or joining, data is called an inner join. An inner join returns only the intersection of the keys, or the elements that appear in both dataframes with a common key."
   ]
  },
  {
   "cell_type": "markdown",
   "metadata": {},
   "source": [
    "##### Joining on Columns with the Merge Function\n",
    "**Left Join**\n",
    "\n",
    "Includes all of the rows from the 'left' dataframe along with any rows from the 'right' dataframe  with a common key; the result retains all columns from both of the original dataframes."
   ]
  },
  {
   "cell_type": "code",
   "execution_count": 29,
   "metadata": {},
   "outputs": [
    {
     "data": {
      "text/html": [
       "<div>\n",
       "<style scoped>\n",
       "    .dataframe tbody tr th:only-of-type {\n",
       "        vertical-align: middle;\n",
       "    }\n",
       "\n",
       "    .dataframe tbody tr th {\n",
       "        vertical-align: top;\n",
       "    }\n",
       "\n",
       "    .dataframe thead th {\n",
       "        text-align: right;\n",
       "    }\n",
       "</style>\n",
       "<table border=\"1\" class=\"dataframe\">\n",
       "  <thead>\n",
       "    <tr style=\"text-align: right;\">\n",
       "      <th></th>\n",
       "      <th>Country</th>\n",
       "      <th>Happiness Rank_x</th>\n",
       "      <th>Year_x</th>\n",
       "      <th>Happiness Rank_y</th>\n",
       "      <th>Year_y</th>\n",
       "    </tr>\n",
       "  </thead>\n",
       "  <tbody>\n",
       "    <tr>\n",
       "      <th>0</th>\n",
       "      <td>Denmark</td>\n",
       "      <td>3</td>\n",
       "      <td>2015</td>\n",
       "      <td>NaN</td>\n",
       "      <td>NaN</td>\n",
       "    </tr>\n",
       "    <tr>\n",
       "      <th>1</th>\n",
       "      <td>Norway</td>\n",
       "      <td>4</td>\n",
       "      <td>2015</td>\n",
       "      <td>4.0</td>\n",
       "      <td>2016.0</td>\n",
       "    </tr>\n",
       "    <tr>\n",
       "      <th>2</th>\n",
       "      <td>Canada</td>\n",
       "      <td>5</td>\n",
       "      <td>2015</td>\n",
       "      <td>NaN</td>\n",
       "      <td>NaN</td>\n",
       "    </tr>\n",
       "  </tbody>\n",
       "</table>\n",
       "</div>"
      ],
      "text/plain": [
       "   Country  Happiness Rank_x  Year_x  Happiness Rank_y  Year_y\n",
       "0  Denmark                 3    2015               NaN     NaN\n",
       "1   Norway                 4    2015               4.0  2016.0\n",
       "2   Canada                 5    2015               NaN     NaN"
      ]
     },
     "execution_count": 29,
     "metadata": {},
     "output_type": "execute_result"
    }
   ],
   "source": [
    "three_2015 = happiness2015[['Country','Happiness Rank','Year']].iloc[2:5]\n",
    "three_2016 = happiness2016[['Country','Happiness Rank','Year']].iloc[2:5]\n",
    "\n",
    "merged = pd.merge(left=three_2015, right=three_2016, on='Country')\n",
    "# Left Joins\n",
    "merged_left = pd.merge(left=three_2015, right=three_2016, how='left', on='Country')\n",
    "merged_left_updated = pd.merge(left=three_2016, right=three_2015,\n",
    "                               how='left', on='Country')\n",
    "merged_left"
   ]
  },
  {
   "cell_type": "markdown",
   "metadata": {},
   "source": [
    "The merge function added a suffix of either **_x** or **_y** to columns of the same name to distinguish between them.\n",
    "![title](./img/LeftJoin_2.png)"
   ]
  },
  {
   "cell_type": "markdown",
   "metadata": {},
   "source": [
    "##### Left Joins with the Merge Function\n",
    "1. Changing the join type from an inner join to a left join resulted in a dataframe with more rows and created **NaN**'s.\n",
    "2. When using a left join, interchanging the dataframes assigned to the left and right parameters changes the results.\n",
    "![title](./img/LeftJoin_1.png)\n",
    "A left join includes all of the rows from the 'left' dataframe along with any rows from the 'right' dataframe with a common key.\n",
    "\n",
    "Since the country column was used as the key, only countries that appear in BOTH dataframes have a value in every column. 'Norway' was the only value in the 'Country' column in BOTH dataframes, so it's the only row with a value in every column.\n",
    "When we interchanged the 'left' and the 'right' dataframes, the values changed."
   ]
  },
  {
   "cell_type": "code",
   "execution_count": 30,
   "metadata": {},
   "outputs": [
    {
     "data": {
      "text/html": [
       "<div>\n",
       "<style scoped>\n",
       "    .dataframe tbody tr th:only-of-type {\n",
       "        vertical-align: middle;\n",
       "    }\n",
       "\n",
       "    .dataframe tbody tr th {\n",
       "        vertical-align: top;\n",
       "    }\n",
       "\n",
       "    .dataframe thead th {\n",
       "        text-align: right;\n",
       "    }\n",
       "</style>\n",
       "<table border=\"1\" class=\"dataframe\">\n",
       "  <thead>\n",
       "    <tr style=\"text-align: right;\">\n",
       "      <th></th>\n",
       "      <th>Country</th>\n",
       "      <th>Happiness Rank_2015</th>\n",
       "      <th>Year_2015</th>\n",
       "      <th>Happiness Rank_2016</th>\n",
       "      <th>Year_2016</th>\n",
       "    </tr>\n",
       "  </thead>\n",
       "  <tbody>\n",
       "    <tr>\n",
       "      <th>0</th>\n",
       "      <td>Denmark</td>\n",
       "      <td>3</td>\n",
       "      <td>2015</td>\n",
       "      <td>NaN</td>\n",
       "      <td>NaN</td>\n",
       "    </tr>\n",
       "    <tr>\n",
       "      <th>1</th>\n",
       "      <td>Norway</td>\n",
       "      <td>4</td>\n",
       "      <td>2015</td>\n",
       "      <td>4.0</td>\n",
       "      <td>2016.0</td>\n",
       "    </tr>\n",
       "    <tr>\n",
       "      <th>2</th>\n",
       "      <td>Canada</td>\n",
       "      <td>5</td>\n",
       "      <td>2015</td>\n",
       "      <td>NaN</td>\n",
       "      <td>NaN</td>\n",
       "    </tr>\n",
       "  </tbody>\n",
       "</table>\n",
       "</div>"
      ],
      "text/plain": [
       "   Country  Happiness Rank_2015  Year_2015  Happiness Rank_2016  Year_2016\n",
       "0  Denmark                    3       2015                  NaN        NaN\n",
       "1   Norway                    4       2015                  4.0     2016.0\n",
       "2   Canada                    5       2015                  NaN        NaN"
      ]
     },
     "execution_count": 30,
     "metadata": {},
     "output_type": "execute_result"
    }
   ],
   "source": [
    "three_2015 = happiness2015[['Country','Happiness Rank','Year']].iloc[2:5]\n",
    "three_2016 = happiness2016[['Country','Happiness Rank','Year']].iloc[2:5]\n",
    "merged = pd.merge(left=three_2015, right=three_2016, how='left', on='Country')\n",
    "merged_updated = pd.merge(left=three_2016, right=three_2015, how = 'left', on='Country')\n",
    "merged_suffixes = pd.merge(left=three_2015, right=three_2016, how='left', on='Country', suffixes=('_2015', '_2016'))\n",
    "merged_updated_suffixes = pd.merge(left=three_2016, right=three_2015, how='left', on='Country', suffixes=('_2016', '_2015'))\n",
    "merged_suffixes"
   ]
  },
  {
   "cell_type": "markdown",
   "metadata": {},
   "source": [
    "##### Join on Index with the merge Function\n",
    "When we join on index, our result will contain only common indexes\n",
    "![title](./img/IndexJoin_1.png)"
   ]
  },
  {
   "cell_type": "code",
   "execution_count": 34,
   "metadata": {},
   "outputs": [
    {
     "data": {
      "text/html": [
       "<div>\n",
       "<style scoped>\n",
       "    .dataframe tbody tr th:only-of-type {\n",
       "        vertical-align: middle;\n",
       "    }\n",
       "\n",
       "    .dataframe tbody tr th {\n",
       "        vertical-align: top;\n",
       "    }\n",
       "\n",
       "    .dataframe thead th {\n",
       "        text-align: right;\n",
       "    }\n",
       "</style>\n",
       "<table border=\"1\" class=\"dataframe\">\n",
       "  <thead>\n",
       "    <tr style=\"text-align: right;\">\n",
       "      <th></th>\n",
       "      <th>Country_2015</th>\n",
       "      <th>Happiness Rank_2015</th>\n",
       "      <th>Year_2015</th>\n",
       "      <th>Country_2016</th>\n",
       "      <th>Happiness Rank_2016</th>\n",
       "      <th>Year_2016</th>\n",
       "    </tr>\n",
       "  </thead>\n",
       "  <tbody>\n",
       "    <tr>\n",
       "      <th>2</th>\n",
       "      <td>Denmark</td>\n",
       "      <td>3</td>\n",
       "      <td>2015</td>\n",
       "      <td>Iceland</td>\n",
       "      <td>3</td>\n",
       "      <td>2016</td>\n",
       "    </tr>\n",
       "    <tr>\n",
       "      <th>3</th>\n",
       "      <td>Norway</td>\n",
       "      <td>4</td>\n",
       "      <td>2015</td>\n",
       "      <td>Norway</td>\n",
       "      <td>4</td>\n",
       "      <td>2016</td>\n",
       "    </tr>\n",
       "    <tr>\n",
       "      <th>4</th>\n",
       "      <td>Canada</td>\n",
       "      <td>5</td>\n",
       "      <td>2015</td>\n",
       "      <td>Finland</td>\n",
       "      <td>5</td>\n",
       "      <td>2016</td>\n",
       "    </tr>\n",
       "  </tbody>\n",
       "</table>\n",
       "</div>"
      ],
      "text/plain": [
       "  Country_2015  Happiness Rank_2015  Year_2015 Country_2016  \\\n",
       "2      Denmark                    3       2015      Iceland   \n",
       "3       Norway                    4       2015       Norway   \n",
       "4       Canada                    5       2015      Finland   \n",
       "\n",
       "   Happiness Rank_2016  Year_2016  \n",
       "2                    3       2016  \n",
       "3                    4       2016  \n",
       "4                    5       2016  "
      ]
     },
     "execution_count": 34,
     "metadata": {},
     "output_type": "execute_result"
    }
   ],
   "source": [
    "import pandas as pd\n",
    "four_2015 = happiness2015[['Country','Happiness Rank','Year']].iloc[2:6]\n",
    "three_2016 = happiness2016[['Country','Happiness Rank','Year']].iloc[2:5]\n",
    "merge_index = pd.merge(left = four_2015, right = three_2016, left_index = True, right_index = True, suffixes = ('_2015','_2016'))\n",
    "rows = 4\n",
    "columns = 6\n",
    "merge_index_left = pd.merge(left=four_2015, right=three_2016, how='left', left_index=True, right_index=True, suffixes=('_2015','_2016'))\n",
    "merge_index\n",
    "#merge_index_left"
   ]
  },
  {
   "cell_type": "markdown",
   "metadata": {},
   "source": [
    "##### Summary\n",
    "![title](./img/JoinsSummary_1.png)"
   ]
  },
  {
   "cell_type": "markdown",
   "metadata": {},
   "source": [
    "##### Combine Data & Create a Visualization\n",
    "**Did world happiness increase, decrease, or stay about the same from 2015 to 2017**"
   ]
  },
  {
   "cell_type": "code",
   "execution_count": 37,
   "metadata": {
    "run_control": {
     "marked": false
    }
   },
   "outputs": [
    {
     "data": {
      "text/plain": [
       "<AxesSubplot:title={'center':'Mean Happiness Scores by Year'}, ylabel='Year'>"
      ]
     },
     "execution_count": 37,
     "metadata": {},
     "output_type": "execute_result"
    },
    {
     "data": {
      "image/png": "[encoded data removed]",
      "text/plain": [
       "<Figure size 432x288 with 1 Axes>"
      ]
     },
     "metadata": {
      "needs_background": "light"
     },
     "output_type": "display_data"
    }
   ],
   "source": [
    "happiness2017.rename(columns={'Happiness.Score': 'Happiness Score'}, inplace=True)\n",
    "combined = pd.concat([happiness2015, happiness2016, happiness2017])\n",
    "pivot_table_combined = combined.pivot_table(index='Year', values='Happiness Score', aggfunc=np.mean)\n",
    "pivot_table_combined.plot(kind='barh', title='Mean Happiness Scores by Year', xlim=(0, 10))"
   ]
  }
 ],
 "metadata": {
  "hide_input": false,
  "kernelspec": {
   "display_name": "Python 3",
   "language": "python",
   "name": "python3"
  },
  "language_info": {
   "codemirror_mode": {
    "name": "ipython",
    "version": 3
   },
   "file_extension": ".py",
   "mimetype": "text/x-python",
   "name": "python",
   "nbconvert_exporter": "python",
   "pygments_lexer": "ipython3",
   "version": "3.7.9"
  },
  "latex_envs": {
   "LaTeX_envs_menu_present": true,
   "autoclose": false,
   "autocomplete": true,
   "bibliofile": "biblio.bib",
   "cite_by": "apalike",
   "current_citInitial": 1,
   "eqLabelWithNumbers": true,
   "eqNumInitial": 1,
   "hotkeys": {
    "equation": "Ctrl-E",
    "itemize": "Ctrl-I"
   },
   "labels_anchors": false,
   "latex_user_defs": false,
   "report_style_numbering": false,
   "user_envs_cfg": false
  },
  "toc": {
   "base_numbering": 1,
   "nav_menu": {},
   "number_sections": true,
   "sideBar": true,
   "skip_h1_title": false,
   "title_cell": "Table of Contents",
   "title_sidebar": "Contents",
   "toc_cell": false,
   "toc_position": {},
   "toc_section_display": true,
   "toc_window_display": true
  },
  "varInspector": {
   "cols": {
    "lenName": 16,
    "lenType": 16,
    "lenVar": 40
   },
   "kernels_config": {
    "python": {
     "delete_cmd_postfix": "",
     "delete_cmd_prefix": "del ",
     "library": "var_list.py",
     "varRefreshCmd": "print(var_dic_list())"
    },
    "r": {
     "delete_cmd_postfix": ") ",
     "delete_cmd_prefix": "rm(",
     "library": "var_list.r",
     "varRefreshCmd": "cat(var_dic_list()) "
    }
   },
   "types_to_exclude": [
    "module",
    "function",
    "builtin_function_or_method",
    "instance",
    "_Feature"
   ],
   "window_display": false
  }
 },
 "nbformat": 4,
 "nbformat_minor": 4
}
