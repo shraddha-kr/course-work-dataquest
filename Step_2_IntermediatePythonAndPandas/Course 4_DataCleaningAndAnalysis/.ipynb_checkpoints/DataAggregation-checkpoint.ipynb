{
 "cells": [
  {
   "cell_type": "markdown",
   "metadata": {},
   "source": [
    "#### TITLE\n",
    "Data Cleaning And Analysis - Data Aggregation\n"
   ]
  },
  {
   "cell_type": "markdown",
   "metadata": {},
   "source": [
    "#### OBJECTIVE\n",
    "We'll work to answer the following questions:\n",
    "* How can aggregation the data give us more insight into happiness scores?\n",
    "* How did world happiness change from 2015 to 2017?\n",
    "* Which factors contribute the most to the happiness score?"
   ]
  },
  {
   "cell_type": "markdown",
   "metadata": {},
   "source": [
    "#### DATA SET\n",
    "We'll work with the World Happiness Report, an anuual report created by the UN Sustainable Development Solutions Network with the intent of guiding policy. The report assigns each country a happiness score based on the answers to a poll question that asks respondents to rank their life on a scale of 0 - 10.\n",
    "The data set is a CSV file called **World_Happiness_2015.csv**. \n",
    "\n",
    "Below are descriptions for some of the columns\n",
    "\n",
    "\n",
    "| Column      | Definition |\n",
    "| :---------- | :--------- |\n",
    "| Country  |Name of the country.|\n",
    "| Region     | Name of the region the country belongs to.|\n",
    "| Happiness Rank  |The rank of the country, as determined by its happiness score.|\n",
    "| Happiness Score | A score assigned to each country based on the answers to a poll question that asks respondents to rate their happiness on a scale of 0-10.|\n",
    "| Family        | The estimated extent to which family contributes to the happiness score.|\n",
    "| Freedom     |The estimated extent to which freedom contributes to the happiness score.|\n",
    "| Generosity   |The estimated extent to which generosity contributes to the happiness score.|"
   ]
  },
  {
   "cell_type": "markdown",
   "metadata": {},
   "source": [
    "#### INTRODUCTION TO DATA"
   ]
  },
  {
   "cell_type": "code",
   "execution_count": 3,
   "metadata": {},
   "outputs": [
    {
     "name": "stdout",
     "output_type": "stream",
     "text": [
      "<class 'pandas.core.frame.DataFrame'>\n",
      "RangeIndex: 158 entries, 0 to 157\n",
      "Data columns (total 12 columns):\n",
      " #   Column                         Non-Null Count  Dtype  \n",
      "---  ------                         --------------  -----  \n",
      " 0   Country                        158 non-null    object \n",
      " 1   Region                         158 non-null    object \n",
      " 2   Happiness Rank                 158 non-null    int64  \n",
      " 3   Happiness Score                158 non-null    float64\n",
      " 4   Standard Error                 158 non-null    float64\n",
      " 5   Economy (GDP per Capita)       158 non-null    float64\n",
      " 6   Family                         158 non-null    float64\n",
      " 7   Health (Life Expectancy)       158 non-null    float64\n",
      " 8   Freedom                        158 non-null    float64\n",
      " 9   Trust (Government Corruption)  158 non-null    float64\n",
      " 10  Generosity                     158 non-null    float64\n",
      " 11  Dystopia Residual              158 non-null    float64\n",
      "dtypes: float64(9), int64(1), object(2)\n",
      "memory usage: 14.9+ KB\n",
      "None\n"
     ]
    },
    {
     "data": {
      "text/html": [
       "<div>\n",
       "<style scoped>\n",
       "    .dataframe tbody tr th:only-of-type {\n",
       "        vertical-align: middle;\n",
       "    }\n",
       "\n",
       "    .dataframe tbody tr th {\n",
       "        vertical-align: top;\n",
       "    }\n",
       "\n",
       "    .dataframe thead th {\n",
       "        text-align: right;\n",
       "    }\n",
       "</style>\n",
       "<table border=\"1\" class=\"dataframe\">\n",
       "  <thead>\n",
       "    <tr style=\"text-align: right;\">\n",
       "      <th></th>\n",
       "      <th>Country</th>\n",
       "      <th>Region</th>\n",
       "      <th>Happiness Rank</th>\n",
       "      <th>Happiness Score</th>\n",
       "      <th>Standard Error</th>\n",
       "      <th>Economy (GDP per Capita)</th>\n",
       "      <th>Family</th>\n",
       "      <th>Health (Life Expectancy)</th>\n",
       "      <th>Freedom</th>\n",
       "      <th>Trust (Government Corruption)</th>\n",
       "      <th>Generosity</th>\n",
       "      <th>Dystopia Residual</th>\n",
       "    </tr>\n",
       "  </thead>\n",
       "  <tbody>\n",
       "    <tr>\n",
       "      <th>0</th>\n",
       "      <td>Switzerland</td>\n",
       "      <td>Western Europe</td>\n",
       "      <td>1</td>\n",
       "      <td>7.587</td>\n",
       "      <td>0.03411</td>\n",
       "      <td>1.39651</td>\n",
       "      <td>1.34951</td>\n",
       "      <td>0.94143</td>\n",
       "      <td>0.66557</td>\n",
       "      <td>0.41978</td>\n",
       "      <td>0.29678</td>\n",
       "      <td>2.51738</td>\n",
       "    </tr>\n",
       "    <tr>\n",
       "      <th>1</th>\n",
       "      <td>Iceland</td>\n",
       "      <td>Western Europe</td>\n",
       "      <td>2</td>\n",
       "      <td>7.561</td>\n",
       "      <td>0.04884</td>\n",
       "      <td>1.30232</td>\n",
       "      <td>1.40223</td>\n",
       "      <td>0.94784</td>\n",
       "      <td>0.62877</td>\n",
       "      <td>0.14145</td>\n",
       "      <td>0.43630</td>\n",
       "      <td>2.70201</td>\n",
       "    </tr>\n",
       "    <tr>\n",
       "      <th>2</th>\n",
       "      <td>Denmark</td>\n",
       "      <td>Western Europe</td>\n",
       "      <td>3</td>\n",
       "      <td>7.527</td>\n",
       "      <td>0.03328</td>\n",
       "      <td>1.32548</td>\n",
       "      <td>1.36058</td>\n",
       "      <td>0.87464</td>\n",
       "      <td>0.64938</td>\n",
       "      <td>0.48357</td>\n",
       "      <td>0.34139</td>\n",
       "      <td>2.49204</td>\n",
       "    </tr>\n",
       "    <tr>\n",
       "      <th>3</th>\n",
       "      <td>Norway</td>\n",
       "      <td>Western Europe</td>\n",
       "      <td>4</td>\n",
       "      <td>7.522</td>\n",
       "      <td>0.03880</td>\n",
       "      <td>1.45900</td>\n",
       "      <td>1.33095</td>\n",
       "      <td>0.88521</td>\n",
       "      <td>0.66973</td>\n",
       "      <td>0.36503</td>\n",
       "      <td>0.34699</td>\n",
       "      <td>2.46531</td>\n",
       "    </tr>\n",
       "    <tr>\n",
       "      <th>4</th>\n",
       "      <td>Canada</td>\n",
       "      <td>North America</td>\n",
       "      <td>5</td>\n",
       "      <td>7.427</td>\n",
       "      <td>0.03553</td>\n",
       "      <td>1.32629</td>\n",
       "      <td>1.32261</td>\n",
       "      <td>0.90563</td>\n",
       "      <td>0.63297</td>\n",
       "      <td>0.32957</td>\n",
       "      <td>0.45811</td>\n",
       "      <td>2.45176</td>\n",
       "    </tr>\n",
       "  </tbody>\n",
       "</table>\n",
       "</div>"
      ],
      "text/plain": [
       "       Country          Region  Happiness Rank  Happiness Score  \\\n",
       "0  Switzerland  Western Europe               1            7.587   \n",
       "1      Iceland  Western Europe               2            7.561   \n",
       "2      Denmark  Western Europe               3            7.527   \n",
       "3       Norway  Western Europe               4            7.522   \n",
       "4       Canada   North America               5            7.427   \n",
       "\n",
       "   Standard Error  Economy (GDP per Capita)   Family  \\\n",
       "0         0.03411                   1.39651  1.34951   \n",
       "1         0.04884                   1.30232  1.40223   \n",
       "2         0.03328                   1.32548  1.36058   \n",
       "3         0.03880                   1.45900  1.33095   \n",
       "4         0.03553                   1.32629  1.32261   \n",
       "\n",
       "   Health (Life Expectancy)  Freedom  Trust (Government Corruption)  \\\n",
       "0                   0.94143  0.66557                        0.41978   \n",
       "1                   0.94784  0.62877                        0.14145   \n",
       "2                   0.87464  0.64938                        0.48357   \n",
       "3                   0.88521  0.66973                        0.36503   \n",
       "4                   0.90563  0.63297                        0.32957   \n",
       "\n",
       "   Generosity  Dystopia Residual  \n",
       "0     0.29678            2.51738  \n",
       "1     0.43630            2.70201  \n",
       "2     0.34139            2.49204  \n",
       "3     0.34699            2.46531  \n",
       "4     0.45811            2.45176  "
      ]
     },
     "execution_count": 3,
     "metadata": {},
     "output_type": "execute_result"
    }
   ],
   "source": [
    "%matplotlib inline\n",
    "import pandas as pd\n",
    "import matplotlib.pyplot as plt\n",
    "\n",
    "happiness2015 = pd.read_csv('./dataset/World_Happiness_2015.csv')\n",
    "first_5 = happiness2015.head()\n",
    "print(happiness2015.info())\n",
    "first_5"
   ]
  },
  {
   "cell_type": "markdown",
   "metadata": {},
   "source": [
    "#### USING LOOPS TO AGGREGATE DATA"
   ]
  },
  {
   "cell_type": "markdown",
   "metadata": {},
   "source": [
    "##### Visualize the happiness score of each country"
   ]
  },
  {
   "cell_type": "code",
   "execution_count": 5,
   "metadata": {},
   "outputs": [
    {
     "data": {
      "text/plain": [
       "<AxesSubplot:title={'center':'Happiness Scores'}>"
      ]
     },
     "execution_count": 5,
     "metadata": {},
     "output_type": "execute_result"
    },
    {
     "data": {
      "image/png": "[encoded data removed]",
      "text/plain": [
       "<Figure size 432x288 with 1 Axes>"
      ]
     },
     "metadata": {
      "needs_background": "light"
     },
     "output_type": "display_data"
    }
   ],
   "source": [
    "happiness2015['Happiness Score'].plot(kind='bar',\n",
    "                                      title='Happiness Scores',\n",
    "                                      ylim=(0, 10))"
   ]
  },
  {
   "cell_type": "markdown",
   "metadata": {},
   "source": [
    "Plotting the data in its current form isn't helpful at all, there are so many data points that we can't see any of the values or labels."
   ]
  },
  {
   "cell_type": "markdown",
   "metadata": {},
   "source": [
    "Each country in the **happiness2015** dataframe is assigned to a region, specified in the **Region** column. "
   ]
  },
  {
   "cell_type": "code",
   "execution_count": 6,
   "metadata": {},
   "outputs": [
    {
     "name": "stdout",
     "output_type": "stream",
     "text": [
      "['Western Europe' 'North America' 'Australia and New Zealand'\n",
      " 'Middle East and Northern Africa' 'Latin America and Caribbean'\n",
      " 'Southeastern Asia' 'Central and Eastern Europe' 'Eastern Asia'\n",
      " 'Sub-Saharan Africa' 'Southern Asia']\n"
     ]
    }
   ],
   "source": [
    "print(happiness2015['Region'].unique())"
   ]
  },
  {
   "cell_type": "markdown",
   "metadata": {},
   "source": [
    "##### Plotting every country in one region"
   ]
  },
  {
   "cell_type": "code",
   "execution_count": 7,
   "metadata": {},
   "outputs": [
    {
     "data": {
      "text/plain": [
       "<AxesSubplot:title={'center':'Southern Asia Happiness Scores'}, ylabel='Country'>"
      ]
     },
     "execution_count": 7,
     "metadata": {},
     "output_type": "execute_result"
    },
    {
     "data": {
      "image/png": "[encoded data removed]",
      "text/plain": [
       "<Figure size 432x288 with 1 Axes>"
      ]
     },
     "metadata": {
      "needs_background": "light"
     },
     "output_type": "display_data"
    }
   ],
   "source": [
    "south_asia = happiness2015[happiness2015['Region'] == 'Southern Asia']\n",
    "\n",
    "south_asia.plot(x='Country', y='Happiness Score',\n",
    "                kind='barh', title='Southern Asia Happiness Scores',\n",
    "                xlim=(0, 10))"
   ]
  },
  {
   "cell_type": "markdown",
   "metadata": {},
   "source": [
    "We wouldn't know if the Southern Asia region is representative of the entire world unless we look at the other regions. We want to create a visualization that uses one number, a summary statistic like the mean, to summarize the data for each region."
   ]
  },
  {
   "cell_type": "markdown",
   "metadata": {},
   "source": [
    "##### Perform aggregations, by applying a statistical operation to groups of our data\n",
    "Process:\n",
    "* Identify each unique group in the data set\n",
    "* For each group:\n",
    "    * Select only the rows corresponding to that group\n",
    "    * Calculate the average for those rows"
   ]
  },
  {
   "cell_type": "code",
   "execution_count": 8,
   "metadata": {},
   "outputs": [
    {
     "data": {
      "text/plain": [
       "{'Western Europe': 6.689619047619048,\n",
       " 'North America': 7.273,\n",
       " 'Australia and New Zealand': 7.285,\n",
       " 'Middle East and Northern Africa': 5.406899999999999,\n",
       " 'Latin America and Caribbean': 6.1446818181818195,\n",
       " 'Southeastern Asia': 5.317444444444444,\n",
       " 'Central and Eastern Europe': 5.332931034482757,\n",
       " 'Eastern Asia': 5.626166666666666,\n",
       " 'Sub-Saharan Africa': 4.2028,\n",
       " 'Southern Asia': 4.580857142857143}"
      ]
     },
     "execution_count": 8,
     "metadata": {},
     "output_type": "execute_result"
    }
   ],
   "source": [
    "mean_happiness = {}\n",
    "regions = happiness2015['Region'].unique()\n",
    "for r in regions:\n",
    "    #1. Split the dataframe into groups.\n",
    "    region_group = happiness2015[happiness2015['Region'] == r]    \n",
    "    #2. Apply a function to each group.\n",
    "    region_mean = region_group['Happiness Score'].mean()    \n",
    "    #3. Combine the results into one data structure.\n",
    "    mean_happiness[r] = region_mean\n",
    "\n",
    "mean_happiness"
   ]
  },
  {
   "cell_type": "markdown",
   "metadata": {},
   "source": [
    "#### THE GROUP-BY OPERATION\n",
    "##### Breaking down the steps of GroupBy operation\n",
    "\n",
    "1. **Split** the dataframe into groups\n",
    "2. **Apply** a function to each group\n",
    "3. **Combine** the results into one data structure\n",
    "\n",
    "\n",
    "![title](./img/DataAggregation_1.png)\n",
    "\n",
    "Using the GroupBy process, we would first create a mapping document, the GroupBy Object, containing info on how to group the blocks by color and where each block is located in the original structure.\n",
    "\n",
    "Once we create the mapping document we can easily rearrange the blocks into different structures. Creating the initial mapping document, GroupBy object, allows us to optimize without having to refer back to the original dataframe.\n",
    "\n",
    "![title](../img/GroupBy.png)\n",
    "\n",
    "\n"
   ]
  },
  {
   "cell_type": "markdown",
   "metadata": {},
   "source": [
    "##### Choosing the criteria to group \n",
    "When choosing the column to use to group the data set, think about which columns could be used to split the data set into groups, look at columns with the same value for multiple rows.\n",
    "\n",
    "![title](../img/Groups.png)"
   ]
  },
  {
   "cell_type": "markdown",
   "metadata": {},
   "source": [
    "Let's confirm the number of regions and the number of unique values in each region for the entire DataFrame."
   ]
  },
  {
   "cell_type": "code",
   "execution_count": 9,
   "metadata": {},
   "outputs": [
    {
     "data": {
      "text/plain": [
       "Sub-Saharan Africa                 40\n",
       "Central and Eastern Europe         29\n",
       "Latin America and Caribbean        22\n",
       "Western Europe                     21\n",
       "Middle East and Northern Africa    20\n",
       "Southeastern Asia                   9\n",
       "Southern Asia                       7\n",
       "Eastern Asia                        6\n",
       "Australia and New Zealand           2\n",
       "North America                       2\n",
       "Name: Region, dtype: int64"
      ]
     },
     "execution_count": 9,
     "metadata": {},
     "output_type": "execute_result"
    }
   ],
   "source": [
    "happiness2015['Region'].value_counts()"
   ]
  },
  {
   "cell_type": "markdown",
   "metadata": {},
   "source": [
    "Since there is small number of groups and each group contains more than one unique value, we can confirm the Region column is a good candidate to group by. "
   ]
  },
  {
   "cell_type": "markdown",
   "metadata": {},
   "source": [
    "##### Creating GroupBy object\n",
    "Group the dataframe by the Region column"
   ]
  },
  {
   "cell_type": "code",
   "execution_count": 10,
   "metadata": {},
   "outputs": [
    {
     "data": {
      "text/plain": [
       "<pandas.core.groupby.generic.DataFrameGroupBy object at 0x0000021264AC9DC8>"
      ]
     },
     "execution_count": 10,
     "metadata": {},
     "output_type": "execute_result"
    }
   ],
   "source": [
    "happiness2015.groupby('Region')"
   ]
  },
  {
   "cell_type": "markdown",
   "metadata": {},
   "source": [
    "##### Select data for a certain group"
   ]
  },
  {
   "cell_type": "code",
   "execution_count": 11,
   "metadata": {
    "scrolled": true
   },
   "outputs": [
    {
     "data": {
      "text/html": [
       "<div>\n",
       "<style scoped>\n",
       "    .dataframe tbody tr th:only-of-type {\n",
       "        vertical-align: middle;\n",
       "    }\n",
       "\n",
       "    .dataframe tbody tr th {\n",
       "        vertical-align: top;\n",
       "    }\n",
       "\n",
       "    .dataframe thead th {\n",
       "        text-align: right;\n",
       "    }\n",
       "</style>\n",
       "<table border=\"1\" class=\"dataframe\">\n",
       "  <thead>\n",
       "    <tr style=\"text-align: right;\">\n",
       "      <th></th>\n",
       "      <th>Country</th>\n",
       "      <th>Region</th>\n",
       "      <th>Happiness Rank</th>\n",
       "      <th>Happiness Score</th>\n",
       "      <th>Standard Error</th>\n",
       "      <th>Economy (GDP per Capita)</th>\n",
       "      <th>Family</th>\n",
       "      <th>Health (Life Expectancy)</th>\n",
       "      <th>Freedom</th>\n",
       "      <th>Trust (Government Corruption)</th>\n",
       "      <th>Generosity</th>\n",
       "      <th>Dystopia Residual</th>\n",
       "    </tr>\n",
       "  </thead>\n",
       "  <tbody>\n",
       "    <tr>\n",
       "      <th>4</th>\n",
       "      <td>Canada</td>\n",
       "      <td>North America</td>\n",
       "      <td>5</td>\n",
       "      <td>7.427</td>\n",
       "      <td>0.03553</td>\n",
       "      <td>1.32629</td>\n",
       "      <td>1.32261</td>\n",
       "      <td>0.90563</td>\n",
       "      <td>0.63297</td>\n",
       "      <td>0.32957</td>\n",
       "      <td>0.45811</td>\n",
       "      <td>2.45176</td>\n",
       "    </tr>\n",
       "    <tr>\n",
       "      <th>14</th>\n",
       "      <td>United States</td>\n",
       "      <td>North America</td>\n",
       "      <td>15</td>\n",
       "      <td>7.119</td>\n",
       "      <td>0.03839</td>\n",
       "      <td>1.39451</td>\n",
       "      <td>1.24711</td>\n",
       "      <td>0.86179</td>\n",
       "      <td>0.54604</td>\n",
       "      <td>0.15890</td>\n",
       "      <td>0.40105</td>\n",
       "      <td>2.51011</td>\n",
       "    </tr>\n",
       "  </tbody>\n",
       "</table>\n",
       "</div>"
      ],
      "text/plain": [
       "          Country         Region  Happiness Rank  Happiness Score  \\\n",
       "4          Canada  North America               5            7.427   \n",
       "14  United States  North America              15            7.119   \n",
       "\n",
       "    Standard Error  Economy (GDP per Capita)   Family  \\\n",
       "4          0.03553                   1.32629  1.32261   \n",
       "14         0.03839                   1.39451  1.24711   \n",
       "\n",
       "    Health (Life Expectancy)  Freedom  Trust (Government Corruption)  \\\n",
       "4                    0.90563  0.63297                        0.32957   \n",
       "14                   0.86179  0.54604                        0.15890   \n",
       "\n",
       "    Generosity  Dystopia Residual  \n",
       "4      0.45811            2.45176  \n",
       "14     0.40105            2.51011  "
      ]
     },
     "execution_count": 11,
     "metadata": {},
     "output_type": "execute_result"
    }
   ],
   "source": [
    "grouped = happiness2015.groupby('Region')\n",
    "grouped.get_group('North America')"
   ]
  },
  {
   "cell_type": "markdown",
   "metadata": {},
   "source": [
    "##### Exploring GroupBy Objects"
   ]
  },
  {
   "cell_type": "code",
   "execution_count": 12,
   "metadata": {},
   "outputs": [
    {
     "data": {
      "text/plain": [
       "{'Australia and New Zealand': [8, 9], 'Central and Eastern Europe': [30, 43, 44, 51, 53, 54, 55, 58, 59, 61, 63, 68, 69, 72, 76, 79, 82, 85, 86, 88, 92, 94, 95, 103, 105, 110, 126, 129, 133], 'Eastern Asia': [37, 45, 46, 71, 83, 99], 'Latin America and Caribbean': [11, 13, 15, 22, 24, 26, 29, 31, 32, 39, 40, 41, 42, 47, 50, 52, 56, 57, 64, 97, 104, 118], 'Middle East and Northern Africa': [10, 19, 21, 27, 34, 38, 48, 62, 67, 75, 81, 91, 102, 106, 107, 109, 111, 134, 135, 155], 'North America': [4, 14], 'Southeastern Asia': [23, 33, 60, 73, 74, 89, 98, 128, 144], 'Southern Asia': [78, 80, 108, 116, 120, 131, 152], 'Sub-Saharan Africa': [70, 77, 84, 90, 93, 96, 100, 112, 113, 114, 115, 117, 119, 121, 122, 123, 124, 125, 127, 130, 132, 136, 137, 138, 139, 140, 141, 142, 143, 145, 146, 147, 148, 149, 150, 151, 153, 154, 156, 157], 'Western Europe': [0, 1, 2, 3, 5, 6, 7, 12, 16, 17, 18, 20, 25, 28, 35, 36, 49, 65, 66, 87, 101]}"
      ]
     },
     "execution_count": 12,
     "metadata": {},
     "output_type": "execute_result"
    }
   ],
   "source": [
    "grouped = happiness2015.groupby('Region')\n",
    "grouped.groups"
   ]
  },
  {
   "cell_type": "markdown",
   "metadata": {},
   "source": [
    "The values include the index for each row in the original happiness2015 dataframe, with the corresponding region name."
   ]
  },
  {
   "cell_type": "markdown",
   "metadata": {},
   "source": [
    "##### Filtering on Indexes"
   ]
  },
  {
   "cell_type": "code",
   "execution_count": 13,
   "metadata": {},
   "outputs": [
    {
     "data": {
      "text/html": [
       "<div>\n",
       "<style scoped>\n",
       "    .dataframe tbody tr th:only-of-type {\n",
       "        vertical-align: middle;\n",
       "    }\n",
       "\n",
       "    .dataframe tbody tr th {\n",
       "        vertical-align: top;\n",
       "    }\n",
       "\n",
       "    .dataframe thead th {\n",
       "        text-align: right;\n",
       "    }\n",
       "</style>\n",
       "<table border=\"1\" class=\"dataframe\">\n",
       "  <thead>\n",
       "    <tr style=\"text-align: right;\">\n",
       "      <th></th>\n",
       "      <th>Country</th>\n",
       "      <th>Region</th>\n",
       "      <th>Happiness Rank</th>\n",
       "      <th>Happiness Score</th>\n",
       "      <th>Standard Error</th>\n",
       "      <th>Economy (GDP per Capita)</th>\n",
       "      <th>Family</th>\n",
       "      <th>Health (Life Expectancy)</th>\n",
       "      <th>Freedom</th>\n",
       "      <th>Trust (Government Corruption)</th>\n",
       "      <th>Generosity</th>\n",
       "      <th>Dystopia Residual</th>\n",
       "    </tr>\n",
       "  </thead>\n",
       "  <tbody>\n",
       "    <tr>\n",
       "      <th>8</th>\n",
       "      <td>New Zealand</td>\n",
       "      <td>Australia and New Zealand</td>\n",
       "      <td>9</td>\n",
       "      <td>7.286</td>\n",
       "      <td>0.03371</td>\n",
       "      <td>1.25018</td>\n",
       "      <td>1.31967</td>\n",
       "      <td>0.90837</td>\n",
       "      <td>0.63938</td>\n",
       "      <td>0.42922</td>\n",
       "      <td>0.47501</td>\n",
       "      <td>2.26425</td>\n",
       "    </tr>\n",
       "    <tr>\n",
       "      <th>9</th>\n",
       "      <td>Australia</td>\n",
       "      <td>Australia and New Zealand</td>\n",
       "      <td>10</td>\n",
       "      <td>7.284</td>\n",
       "      <td>0.04083</td>\n",
       "      <td>1.33358</td>\n",
       "      <td>1.30923</td>\n",
       "      <td>0.93156</td>\n",
       "      <td>0.65124</td>\n",
       "      <td>0.35637</td>\n",
       "      <td>0.43562</td>\n",
       "      <td>2.26646</td>\n",
       "    </tr>\n",
       "  </tbody>\n",
       "</table>\n",
       "</div>"
      ],
      "text/plain": [
       "       Country                     Region  Happiness Rank  Happiness Score  \\\n",
       "8  New Zealand  Australia and New Zealand               9            7.286   \n",
       "9    Australia  Australia and New Zealand              10            7.284   \n",
       "\n",
       "   Standard Error  Economy (GDP per Capita)   Family  \\\n",
       "8         0.03371                   1.25018  1.31967   \n",
       "9         0.04083                   1.33358  1.30923   \n",
       "\n",
       "   Health (Life Expectancy)  Freedom  Trust (Government Corruption)  \\\n",
       "8                   0.90837  0.63938                        0.42922   \n",
       "9                   0.93156  0.65124                        0.35637   \n",
       "\n",
       "   Generosity  Dystopia Residual  \n",
       "8     0.47501            2.26425  \n",
       "9     0.43562            2.26646  "
      ]
     },
     "execution_count": 13,
     "metadata": {},
     "output_type": "execute_result"
    }
   ],
   "source": [
    "happiness2015.iloc[8:10]"
   ]
  },
  {
   "cell_type": "markdown",
   "metadata": {},
   "source": [
    "Notice that the **get_group()** method also returned the same dataframe above."
   ]
  },
  {
   "cell_type": "markdown",
   "metadata": {},
   "source": [
    "##### Common Aggregation Methods With GroupBy"
   ]
  },
  {
   "cell_type": "markdown",
   "metadata": {},
   "source": [
    "A basic example of aggregation is computing the number of rows for each of the groups. We can use the **GroupBy.size()** to confirm the size of each region group."
   ]
  },
  {
   "cell_type": "code",
   "execution_count": 14,
   "metadata": {},
   "outputs": [
    {
     "data": {
      "text/plain": [
       "Region\n",
       "Australia and New Zealand           2\n",
       "Central and Eastern Europe         29\n",
       "Eastern Asia                        6\n",
       "Latin America and Caribbean        22\n",
       "Middle East and Northern Africa    20\n",
       "North America                       2\n",
       "Southeastern Asia                   9\n",
       "Southern Asia                       7\n",
       "Sub-Saharan Africa                 40\n",
       "Western Europe                     21\n",
       "dtype: int64"
      ]
     },
     "execution_count": 14,
     "metadata": {},
     "output_type": "execute_result"
    }
   ],
   "source": [
    "grouped = happiness2015.groupby('Region')\n",
    "grouped.size()"
   ]
  },
  {
   "cell_type": "markdown",
   "metadata": {},
   "source": [
    "The result is a series and contains just one value for each group. Each value represents the number of rows in each group.\n",
    "![title](img/GroupByFunc.png)\n",
    "\n",
    "**Region** appears in a different row than the rest of the column names. Because we grouped the dataframe by region, the unique values in **Region** are used as the index, otherwise mostly with dataframes there is a numeric index.\n",
    "\n",
    "![title](img/GroupByIndex.png)"
   ]
  },
  {
   "cell_type": "code",
   "execution_count": 15,
   "metadata": {
    "scrolled": true
   },
   "outputs": [
    {
     "data": {
      "text/html": [
       "<div>\n",
       "<style scoped>\n",
       "    .dataframe tbody tr th:only-of-type {\n",
       "        vertical-align: middle;\n",
       "    }\n",
       "\n",
       "    .dataframe tbody tr th {\n",
       "        vertical-align: top;\n",
       "    }\n",
       "\n",
       "    .dataframe thead th {\n",
       "        text-align: right;\n",
       "    }\n",
       "</style>\n",
       "<table border=\"1\" class=\"dataframe\">\n",
       "  <thead>\n",
       "    <tr style=\"text-align: right;\">\n",
       "      <th></th>\n",
       "      <th>Happiness Rank</th>\n",
       "      <th>Happiness Score</th>\n",
       "      <th>Standard Error</th>\n",
       "      <th>Economy (GDP per Capita)</th>\n",
       "      <th>Family</th>\n",
       "      <th>Health (Life Expectancy)</th>\n",
       "      <th>Freedom</th>\n",
       "      <th>Trust (Government Corruption)</th>\n",
       "      <th>Generosity</th>\n",
       "      <th>Dystopia Residual</th>\n",
       "    </tr>\n",
       "    <tr>\n",
       "      <th>Region</th>\n",
       "      <th></th>\n",
       "      <th></th>\n",
       "      <th></th>\n",
       "      <th></th>\n",
       "      <th></th>\n",
       "      <th></th>\n",
       "      <th></th>\n",
       "      <th></th>\n",
       "      <th></th>\n",
       "      <th></th>\n",
       "    </tr>\n",
       "  </thead>\n",
       "  <tbody>\n",
       "    <tr>\n",
       "      <th>Australia and New Zealand</th>\n",
       "      <td>9.500000</td>\n",
       "      <td>7.285000</td>\n",
       "      <td>0.037270</td>\n",
       "      <td>1.291880</td>\n",
       "      <td>1.314450</td>\n",
       "      <td>0.919965</td>\n",
       "      <td>0.645310</td>\n",
       "      <td>0.392795</td>\n",
       "      <td>0.455315</td>\n",
       "      <td>2.265355</td>\n",
       "    </tr>\n",
       "    <tr>\n",
       "      <th>Central and Eastern Europe</th>\n",
       "      <td>79.000000</td>\n",
       "      <td>5.332931</td>\n",
       "      <td>0.045208</td>\n",
       "      <td>0.942438</td>\n",
       "      <td>1.053042</td>\n",
       "      <td>0.718774</td>\n",
       "      <td>0.358269</td>\n",
       "      <td>0.086674</td>\n",
       "      <td>0.152264</td>\n",
       "      <td>2.021400</td>\n",
       "    </tr>\n",
       "    <tr>\n",
       "      <th>Eastern Asia</th>\n",
       "      <td>64.500000</td>\n",
       "      <td>5.626167</td>\n",
       "      <td>0.037225</td>\n",
       "      <td>1.151780</td>\n",
       "      <td>1.099427</td>\n",
       "      <td>0.877388</td>\n",
       "      <td>0.462490</td>\n",
       "      <td>0.127695</td>\n",
       "      <td>0.225885</td>\n",
       "      <td>1.681607</td>\n",
       "    </tr>\n",
       "    <tr>\n",
       "      <th>Latin America and Caribbean</th>\n",
       "      <td>46.909091</td>\n",
       "      <td>6.144682</td>\n",
       "      <td>0.061127</td>\n",
       "      <td>0.876815</td>\n",
       "      <td>1.104720</td>\n",
       "      <td>0.703870</td>\n",
       "      <td>0.501740</td>\n",
       "      <td>0.117172</td>\n",
       "      <td>0.217788</td>\n",
       "      <td>2.622577</td>\n",
       "    </tr>\n",
       "    <tr>\n",
       "      <th>Middle East and Northern Africa</th>\n",
       "      <td>77.600000</td>\n",
       "      <td>5.406900</td>\n",
       "      <td>0.046337</td>\n",
       "      <td>1.066973</td>\n",
       "      <td>0.920490</td>\n",
       "      <td>0.705616</td>\n",
       "      <td>0.361751</td>\n",
       "      <td>0.181702</td>\n",
       "      <td>0.190375</td>\n",
       "      <td>1.980009</td>\n",
       "    </tr>\n",
       "    <tr>\n",
       "      <th>North America</th>\n",
       "      <td>10.000000</td>\n",
       "      <td>7.273000</td>\n",
       "      <td>0.036960</td>\n",
       "      <td>1.360400</td>\n",
       "      <td>1.284860</td>\n",
       "      <td>0.883710</td>\n",
       "      <td>0.589505</td>\n",
       "      <td>0.244235</td>\n",
       "      <td>0.429580</td>\n",
       "      <td>2.480935</td>\n",
       "    </tr>\n",
       "    <tr>\n",
       "      <th>Southeastern Asia</th>\n",
       "      <td>81.222222</td>\n",
       "      <td>5.317444</td>\n",
       "      <td>0.042691</td>\n",
       "      <td>0.789054</td>\n",
       "      <td>0.940468</td>\n",
       "      <td>0.677357</td>\n",
       "      <td>0.557104</td>\n",
       "      <td>0.151276</td>\n",
       "      <td>0.419261</td>\n",
       "      <td>1.783020</td>\n",
       "    </tr>\n",
       "    <tr>\n",
       "      <th>Southern Asia</th>\n",
       "      <td>113.142857</td>\n",
       "      <td>4.580857</td>\n",
       "      <td>0.032161</td>\n",
       "      <td>0.560486</td>\n",
       "      <td>0.645321</td>\n",
       "      <td>0.540830</td>\n",
       "      <td>0.373337</td>\n",
       "      <td>0.102536</td>\n",
       "      <td>0.341429</td>\n",
       "      <td>2.016769</td>\n",
       "    </tr>\n",
       "    <tr>\n",
       "      <th>Sub-Saharan Africa</th>\n",
       "      <td>127.900000</td>\n",
       "      <td>4.202800</td>\n",
       "      <td>0.055299</td>\n",
       "      <td>0.380473</td>\n",
       "      <td>0.809085</td>\n",
       "      <td>0.282332</td>\n",
       "      <td>0.365944</td>\n",
       "      <td>0.123878</td>\n",
       "      <td>0.221137</td>\n",
       "      <td>2.019980</td>\n",
       "    </tr>\n",
       "    <tr>\n",
       "      <th>Western Europe</th>\n",
       "      <td>29.523810</td>\n",
       "      <td>6.689619</td>\n",
       "      <td>0.037625</td>\n",
       "      <td>1.298596</td>\n",
       "      <td>1.247302</td>\n",
       "      <td>0.909148</td>\n",
       "      <td>0.549926</td>\n",
       "      <td>0.231463</td>\n",
       "      <td>0.302109</td>\n",
       "      <td>2.151185</td>\n",
       "    </tr>\n",
       "  </tbody>\n",
       "</table>\n",
       "</div>"
      ],
      "text/plain": [
       "                                 Happiness Rank  Happiness Score  \\\n",
       "Region                                                             \n",
       "Australia and New Zealand              9.500000         7.285000   \n",
       "Central and Eastern Europe            79.000000         5.332931   \n",
       "Eastern Asia                          64.500000         5.626167   \n",
       "Latin America and Caribbean           46.909091         6.144682   \n",
       "Middle East and Northern Africa       77.600000         5.406900   \n",
       "North America                         10.000000         7.273000   \n",
       "Southeastern Asia                     81.222222         5.317444   \n",
       "Southern Asia                        113.142857         4.580857   \n",
       "Sub-Saharan Africa                   127.900000         4.202800   \n",
       "Western Europe                        29.523810         6.689619   \n",
       "\n",
       "                                 Standard Error  Economy (GDP per Capita)  \\\n",
       "Region                                                                      \n",
       "Australia and New Zealand              0.037270                  1.291880   \n",
       "Central and Eastern Europe             0.045208                  0.942438   \n",
       "Eastern Asia                           0.037225                  1.151780   \n",
       "Latin America and Caribbean            0.061127                  0.876815   \n",
       "Middle East and Northern Africa        0.046337                  1.066973   \n",
       "North America                          0.036960                  1.360400   \n",
       "Southeastern Asia                      0.042691                  0.789054   \n",
       "Southern Asia                          0.032161                  0.560486   \n",
       "Sub-Saharan Africa                     0.055299                  0.380473   \n",
       "Western Europe                         0.037625                  1.298596   \n",
       "\n",
       "                                   Family  Health (Life Expectancy)   Freedom  \\\n",
       "Region                                                                          \n",
       "Australia and New Zealand        1.314450                  0.919965  0.645310   \n",
       "Central and Eastern Europe       1.053042                  0.718774  0.358269   \n",
       "Eastern Asia                     1.099427                  0.877388  0.462490   \n",
       "Latin America and Caribbean      1.104720                  0.703870  0.501740   \n",
       "Middle East and Northern Africa  0.920490                  0.705616  0.361751   \n",
       "North America                    1.284860                  0.883710  0.589505   \n",
       "Southeastern Asia                0.940468                  0.677357  0.557104   \n",
       "Southern Asia                    0.645321                  0.540830  0.373337   \n",
       "Sub-Saharan Africa               0.809085                  0.282332  0.365944   \n",
       "Western Europe                   1.247302                  0.909148  0.549926   \n",
       "\n",
       "                                 Trust (Government Corruption)  Generosity  \\\n",
       "Region                                                                       \n",
       "Australia and New Zealand                             0.392795    0.455315   \n",
       "Central and Eastern Europe                            0.086674    0.152264   \n",
       "Eastern Asia                                          0.127695    0.225885   \n",
       "Latin America and Caribbean                           0.117172    0.217788   \n",
       "Middle East and Northern Africa                       0.181702    0.190375   \n",
       "North America                                         0.244235    0.429580   \n",
       "Southeastern Asia                                     0.151276    0.419261   \n",
       "Southern Asia                                         0.102536    0.341429   \n",
       "Sub-Saharan Africa                                    0.123878    0.221137   \n",
       "Western Europe                                        0.231463    0.302109   \n",
       "\n",
       "                                 Dystopia Residual  \n",
       "Region                                              \n",
       "Australia and New Zealand                 2.265355  \n",
       "Central and Eastern Europe                2.021400  \n",
       "Eastern Asia                              1.681607  \n",
       "Latin America and Caribbean               2.622577  \n",
       "Middle East and Northern Africa           1.980009  \n",
       "North America                             2.480935  \n",
       "Southeastern Asia                         1.783020  \n",
       "Southern Asia                             2.016769  \n",
       "Sub-Saharan Africa                        2.019980  \n",
       "Western Europe                            2.151185  "
      ]
     },
     "execution_count": 15,
     "metadata": {},
     "output_type": "execute_result"
    }
   ],
   "source": [
    "grouped = happiness2015.groupby('Region')\n",
    "means =  grouped.mean()\n",
    "means"
   ]
  },
  {
   "cell_type": "markdown",
   "metadata": {},
   "source": [
    "##### Aggregating Specific Columns with GroupBy"
   ]
  },
  {
   "cell_type": "markdown",
   "metadata": {},
   "source": [
    "We may only wish to aggregate one particular coulmn in the original dataframe. GroupBy objects actually support column indexing, just like dataframes. You can select specific columns for a GroupBy object the same way you would for a dataframe:\n",
    "![title](img/Column_GroupBy.png)"
   ]
  },
  {
   "cell_type": "markdown",
   "metadata": {},
   "source": [
    "Using Indexing to Aggregate One Column"
   ]
  },
  {
   "cell_type": "code",
   "execution_count": 16,
   "metadata": {},
   "outputs": [
    {
     "data": {
      "text/plain": [
       "Region\n",
       "Australia and New Zealand          7.285000\n",
       "Central and Eastern Europe         5.332931\n",
       "Eastern Asia                       5.626167\n",
       "Latin America and Caribbean        6.144682\n",
       "Middle East and Northern Africa    5.406900\n",
       "North America                      7.273000\n",
       "Southeastern Asia                  5.317444\n",
       "Southern Asia                      4.580857\n",
       "Sub-Saharan Africa                 4.202800\n",
       "Western Europe                     6.689619\n",
       "Name: Happiness Score, dtype: float64"
      ]
     },
     "execution_count": 16,
     "metadata": {},
     "output_type": "execute_result"
    }
   ],
   "source": [
    "grouped = happiness2015.groupby('Region')\n",
    "happy_grouped = grouped['Happiness Score']\n",
    "happy_mean = happy_grouped.mean()\n",
    "happy_mean"
   ]
  },
  {
   "cell_type": "markdown",
   "metadata": {},
   "source": [
    "##### Introduction To The Agg() Method\n",
    "**GroupBy.agg()** method can perform both aggregations at once. When we pass the functions into the agg() method as arguments, we don't use parentheses after the function names. For e.g., when we use np.mean, we refer to the function object itself and treat it like a variable, whereas np.mean() would be used to call the function and get the returned value. Function names can also be passed in as strings.\n",
    "![title](../img/aggfunc_1.png)\n",
    "\n",
    "We used the **GroupBy.agg()** method to:\n",
    "* Perform more than one aggregation at once\n",
    "* Compute custom aggregations\n",
    "\n",
    "Because the agg() method allows us to create custom aggregation functions, it gives us much more flexibility in how we can transform our data.\n"
   ]
  },
  {
   "cell_type": "code",
   "execution_count": 17,
   "metadata": {},
   "outputs": [
    {
     "name": "stdout",
     "output_type": "stream",
     "text": [
      "                                     mean   amax\n",
      "Region                                          \n",
      "Australia and New Zealand        7.285000  7.286\n",
      "Central and Eastern Europe       5.332931  6.505\n",
      "Eastern Asia                     5.626167  6.298\n",
      "Latin America and Caribbean      6.144682  7.226\n",
      "Middle East and Northern Africa  5.406900  7.278\n",
      "North America                    7.273000  7.427\n",
      "Southeastern Asia                5.317444  6.798\n",
      "Southern Asia                    4.580857  5.253\n",
      "Sub-Saharan Africa               4.202800  5.477\n",
      "Western Europe                   6.689619  7.587 \n",
      "\n",
      "Region\n",
      "Australia and New Zealand          0.001000\n",
      "Central and Eastern Europe         1.172069\n",
      "Eastern Asia                       0.671833\n",
      "Latin America and Caribbean        1.081318\n",
      "Middle East and Northern Africa    1.871100\n",
      "North America                      0.154000\n",
      "Southeastern Asia                  1.480556\n",
      "Southern Asia                      0.672143\n",
      "Sub-Saharan Africa                 1.274200\n",
      "Western Europe                     0.897381\n",
      "Name: Happiness Score, dtype: float64\n"
     ]
    }
   ],
   "source": [
    "import numpy as np\n",
    "\n",
    "grouped = happiness2015.groupby('Region')\n",
    "happy_grouped = grouped['Happiness Score']\n",
    "\n",
    "def dif(group):\n",
    "    return (group.max() - group.mean())\n",
    "\n",
    "happy_mean_max = happy_grouped.agg([np.mean, np.max])\n",
    "mean_max_dif = happy_grouped.agg(dif)\n",
    "\n",
    "\n",
    "print(happy_mean_max, '\\n')\n",
    "print(mean_max_dif)"
   ]
  },
  {
   "cell_type": "code",
   "execution_count": null,
   "metadata": {},
   "outputs": [],
   "source": []
  },
  {
   "cell_type": "markdown",
   "metadata": {},
   "source": [
    "The result is a dataframe containing both the mean and maximum happiness scores for each region. Note that the columns are names for the functions themselves. Because np.max is an alias for np.amax, the column for the maximum is names amax."
   ]
  },
  {
   "cell_type": "markdown",
   "metadata": {},
   "source": [
    "##### Computing Multiple And Custom Aggregations With The Agg() Method"
   ]
  },
  {
   "cell_type": "code",
   "execution_count": 18,
   "metadata": {},
   "outputs": [
    {
     "data": {
      "text/plain": [
       "Region\n",
       "Australia and New Zealand          7.285000\n",
       "Central and Eastern Europe         5.332931\n",
       "Eastern Asia                       5.626167\n",
       "Latin America and Caribbean        6.144682\n",
       "Middle East and Northern Africa    5.406900\n",
       "North America                      7.273000\n",
       "Southeastern Asia                  5.317444\n",
       "Southern Asia                      4.580857\n",
       "Sub-Saharan Africa                 4.202800\n",
       "Western Europe                     6.689619\n",
       "Name: Happiness Score, dtype: float64"
      ]
     },
     "execution_count": 18,
     "metadata": {},
     "output_type": "execute_result"
    }
   ],
   "source": [
    "happiness_means = happiness2015.groupby('Region')['Happiness Score'].mean()\n",
    "happiness_means"
   ]
  },
  {
   "cell_type": "markdown",
   "metadata": {},
   "source": [
    "Above you see that the values in the **Region** column are the index of the resulting series and the **Happiness Score** column contained the values that would be aggregated.\n",
    "![title](img/DataAggregation_2.png)"
   ]
  },
  {
   "cell_type": "markdown",
   "metadata": {},
   "source": [
    "#### AGGREGATION WITH PIVOT TABLES \n",
    "**Index** and **Values** are arguments used in **DataFrame.pivot_table()** method used to aggregate data. This method can perform the same kinds of aggregations as the dataframe.groupby method and make the code for complex aggregations easier to read.\n",
    "\n",
    "This method returns a dataframe, so normal dataframe filtering and methods can be applied to the result. We can exclude **aggfunc** because the mean is the default aggregation function of **df.pivot_table()**"
   ]
  },
  {
   "cell_type": "code",
   "execution_count": 19,
   "metadata": {},
   "outputs": [
    {
     "data": {
      "text/html": [
       "<div>\n",
       "<style scoped>\n",
       "    .dataframe tbody tr th:only-of-type {\n",
       "        vertical-align: middle;\n",
       "    }\n",
       "\n",
       "    .dataframe tbody tr th {\n",
       "        vertical-align: top;\n",
       "    }\n",
       "\n",
       "    .dataframe thead th {\n",
       "        text-align: right;\n",
       "    }\n",
       "</style>\n",
       "<table border=\"1\" class=\"dataframe\">\n",
       "  <thead>\n",
       "    <tr style=\"text-align: right;\">\n",
       "      <th></th>\n",
       "      <th>Happiness Score</th>\n",
       "    </tr>\n",
       "    <tr>\n",
       "      <th>Region</th>\n",
       "      <th></th>\n",
       "    </tr>\n",
       "  </thead>\n",
       "  <tbody>\n",
       "    <tr>\n",
       "      <th>Australia and New Zealand</th>\n",
       "      <td>7.285000</td>\n",
       "    </tr>\n",
       "    <tr>\n",
       "      <th>Central and Eastern Europe</th>\n",
       "      <td>5.332931</td>\n",
       "    </tr>\n",
       "    <tr>\n",
       "      <th>Eastern Asia</th>\n",
       "      <td>5.626167</td>\n",
       "    </tr>\n",
       "    <tr>\n",
       "      <th>Latin America and Caribbean</th>\n",
       "      <td>6.144682</td>\n",
       "    </tr>\n",
       "    <tr>\n",
       "      <th>Middle East and Northern Africa</th>\n",
       "      <td>5.406900</td>\n",
       "    </tr>\n",
       "    <tr>\n",
       "      <th>North America</th>\n",
       "      <td>7.273000</td>\n",
       "    </tr>\n",
       "    <tr>\n",
       "      <th>Southeastern Asia</th>\n",
       "      <td>5.317444</td>\n",
       "    </tr>\n",
       "    <tr>\n",
       "      <th>Southern Asia</th>\n",
       "      <td>4.580857</td>\n",
       "    </tr>\n",
       "    <tr>\n",
       "      <th>Sub-Saharan Africa</th>\n",
       "      <td>4.202800</td>\n",
       "    </tr>\n",
       "    <tr>\n",
       "      <th>Western Europe</th>\n",
       "      <td>6.689619</td>\n",
       "    </tr>\n",
       "  </tbody>\n",
       "</table>\n",
       "</div>"
      ],
      "text/plain": [
       "                                 Happiness Score\n",
       "Region                                          \n",
       "Australia and New Zealand               7.285000\n",
       "Central and Eastern Europe              5.332931\n",
       "Eastern Asia                            5.626167\n",
       "Latin America and Caribbean             6.144682\n",
       "Middle East and Northern Africa         5.406900\n",
       "North America                           7.273000\n",
       "Southeastern Asia                       5.317444\n",
       "Southern Asia                           4.580857\n",
       "Sub-Saharan Africa                      4.202800\n",
       "Western Europe                          6.689619"
      ]
     },
     "execution_count": 19,
     "metadata": {},
     "output_type": "execute_result"
    }
   ],
   "source": [
    "happiness2015.pivot_table(values='Happiness Score', index='Region', \n",
    "                          aggfunc=np.mean)"
   ]
  },
  {
   "cell_type": "code",
   "execution_count": 28,
   "metadata": {
    "run_control": {
     "marked": true
    }
   },
   "outputs": [
    {
     "name": "stdout",
     "output_type": "stream",
     "text": [
      "                                 Happiness Score\n",
      "Region                                          \n",
      "Australia and New Zealand               7.285000\n",
      "Central and Eastern Europe              5.332931\n",
      "Eastern Asia                            5.626167\n",
      "Latin America and Caribbean             6.144682\n",
      "Middle East and Northern Africa         5.406900\n",
      "North America                           7.273000\n",
      "Southeastern Asia                       5.317444\n",
      "Southern Asia                           4.580857\n",
      "Sub-Saharan Africa                      4.202800\n",
      "Western Europe                          6.689619\n",
      "All                                     5.375734 \n",
      "\n",
      "[world_mean_happiness]  5.37573417721519\n"
     ]
    },
    {
     "data": {
      "image/png": "[encoded data removed]",
      "text/plain": [
       "<Figure size 432x288 with 1 Axes>"
      ]
     },
     "metadata": {
      "needs_background": "light"
     },
     "output_type": "display_data"
    }
   ],
   "source": [
    "pv_happiness = happiness2015.pivot_table(values='Happiness Score', index='Region', \n",
    "                                         aggfunc=np.mean, margins=True)\n",
    "print(pv_happiness, '\\n')\n",
    "pv_happiness.plot(kind='barh', xlim=(0,10), title='Mean Happiness Scores by Region', legend=False)\n",
    "world_mean_happiness = happiness2015['Happiness Score'].mean()\n",
    "print('[world_mean_happiness] ', world_mean_happiness)"
   ]
  },
  {
   "cell_type": "markdown",
   "metadata": {},
   "source": [
    "When we set the **margins** parameter equal to **True**, **All** will be added to the index of the resulting dataframe and the corresponding value will be the result of applying the aggregation method to the entire column. All is the mean of the Happiness Score column."
   ]
  },
  {
   "cell_type": "markdown",
   "metadata": {},
   "source": [
    "The pivot_table method allows us to aggregate multiple columns and apply multiple functions at once. To apply multiple functions, we can pass a list of the functions into the aggfunc parameter."
   ]
  },
  {
   "cell_type": "code",
   "execution_count": 29,
   "metadata": {},
   "outputs": [
    {
     "data": {
      "text/html": [
       "<div>\n",
       "<style scoped>\n",
       "    .dataframe tbody tr th:only-of-type {\n",
       "        vertical-align: middle;\n",
       "    }\n",
       "\n",
       "    .dataframe tbody tr th {\n",
       "        vertical-align: top;\n",
       "    }\n",
       "\n",
       "    .dataframe thead th {\n",
       "        text-align: right;\n",
       "    }\n",
       "</style>\n",
       "<table border=\"1\" class=\"dataframe\">\n",
       "  <thead>\n",
       "    <tr style=\"text-align: right;\">\n",
       "      <th></th>\n",
       "      <th>Family</th>\n",
       "      <th>Happiness Score</th>\n",
       "    </tr>\n",
       "    <tr>\n",
       "      <th>Region</th>\n",
       "      <th></th>\n",
       "      <th></th>\n",
       "    </tr>\n",
       "  </thead>\n",
       "  <tbody>\n",
       "    <tr>\n",
       "      <th>Australia and New Zealand</th>\n",
       "      <td>1.314450</td>\n",
       "      <td>7.285000</td>\n",
       "    </tr>\n",
       "    <tr>\n",
       "      <th>Central and Eastern Europe</th>\n",
       "      <td>1.053042</td>\n",
       "      <td>5.332931</td>\n",
       "    </tr>\n",
       "    <tr>\n",
       "      <th>Eastern Asia</th>\n",
       "      <td>1.099427</td>\n",
       "      <td>5.626167</td>\n",
       "    </tr>\n",
       "    <tr>\n",
       "      <th>Latin America and Caribbean</th>\n",
       "      <td>1.104720</td>\n",
       "      <td>6.144682</td>\n",
       "    </tr>\n",
       "    <tr>\n",
       "      <th>Middle East and Northern Africa</th>\n",
       "      <td>0.920490</td>\n",
       "      <td>5.406900</td>\n",
       "    </tr>\n",
       "    <tr>\n",
       "      <th>North America</th>\n",
       "      <td>1.284860</td>\n",
       "      <td>7.273000</td>\n",
       "    </tr>\n",
       "    <tr>\n",
       "      <th>Southeastern Asia</th>\n",
       "      <td>0.940468</td>\n",
       "      <td>5.317444</td>\n",
       "    </tr>\n",
       "    <tr>\n",
       "      <th>Southern Asia</th>\n",
       "      <td>0.645321</td>\n",
       "      <td>4.580857</td>\n",
       "    </tr>\n",
       "    <tr>\n",
       "      <th>Sub-Saharan Africa</th>\n",
       "      <td>0.809085</td>\n",
       "      <td>4.202800</td>\n",
       "    </tr>\n",
       "    <tr>\n",
       "      <th>Western Europe</th>\n",
       "      <td>1.247302</td>\n",
       "      <td>6.689619</td>\n",
       "    </tr>\n",
       "  </tbody>\n",
       "</table>\n",
       "</div>"
      ],
      "text/plain": [
       "                                   Family  Happiness Score\n",
       "Region                                                    \n",
       "Australia and New Zealand        1.314450         7.285000\n",
       "Central and Eastern Europe       1.053042         5.332931\n",
       "Eastern Asia                     1.099427         5.626167\n",
       "Latin America and Caribbean      1.104720         6.144682\n",
       "Middle East and Northern Africa  0.920490         5.406900\n",
       "North America                    1.284860         7.273000\n",
       "Southeastern Asia                0.940468         5.317444\n",
       "Southern Asia                    0.645321         4.580857\n",
       "Sub-Saharan Africa               0.809085         4.202800\n",
       "Western Europe                   1.247302         6.689619"
      ]
     },
     "execution_count": 29,
     "metadata": {},
     "output_type": "execute_result"
    }
   ],
   "source": [
    "happiness2015.pivot_table(['Happiness Score', 'Family'], 'Region')"
   ]
  },
  {
   "cell_type": "markdown",
   "metadata": {},
   "source": [
    "To apply multiple functions, we can pass a list of the functions into the aggfunc parameter"
   ]
  },
  {
   "cell_type": "code",
   "execution_count": 31,
   "metadata": {
    "scrolled": true
   },
   "outputs": [
    {
     "data": {
      "text/html": [
       "<div>\n",
       "<style scoped>\n",
       "    .dataframe tbody tr th:only-of-type {\n",
       "        vertical-align: middle;\n",
       "    }\n",
       "\n",
       "    .dataframe tbody tr th {\n",
       "        vertical-align: top;\n",
       "    }\n",
       "\n",
       "    .dataframe thead tr th {\n",
       "        text-align: left;\n",
       "    }\n",
       "\n",
       "    .dataframe thead tr:last-of-type th {\n",
       "        text-align: right;\n",
       "    }\n",
       "</style>\n",
       "<table border=\"1\" class=\"dataframe\">\n",
       "  <thead>\n",
       "    <tr>\n",
       "      <th></th>\n",
       "      <th>mean</th>\n",
       "      <th>amin</th>\n",
       "      <th>amax</th>\n",
       "    </tr>\n",
       "    <tr>\n",
       "      <th></th>\n",
       "      <th>Happiness Score</th>\n",
       "      <th>Happiness Score</th>\n",
       "      <th>Happiness Score</th>\n",
       "    </tr>\n",
       "    <tr>\n",
       "      <th>Region</th>\n",
       "      <th></th>\n",
       "      <th></th>\n",
       "      <th></th>\n",
       "    </tr>\n",
       "  </thead>\n",
       "  <tbody>\n",
       "    <tr>\n",
       "      <th>Australia and New Zealand</th>\n",
       "      <td>7.285000</td>\n",
       "      <td>7.284</td>\n",
       "      <td>7.286</td>\n",
       "    </tr>\n",
       "    <tr>\n",
       "      <th>Central and Eastern Europe</th>\n",
       "      <td>5.332931</td>\n",
       "      <td>4.218</td>\n",
       "      <td>6.505</td>\n",
       "    </tr>\n",
       "    <tr>\n",
       "      <th>Eastern Asia</th>\n",
       "      <td>5.626167</td>\n",
       "      <td>4.874</td>\n",
       "      <td>6.298</td>\n",
       "    </tr>\n",
       "    <tr>\n",
       "      <th>Latin America and Caribbean</th>\n",
       "      <td>6.144682</td>\n",
       "      <td>4.518</td>\n",
       "      <td>7.226</td>\n",
       "    </tr>\n",
       "    <tr>\n",
       "      <th>Middle East and Northern Africa</th>\n",
       "      <td>5.406900</td>\n",
       "      <td>3.006</td>\n",
       "      <td>7.278</td>\n",
       "    </tr>\n",
       "    <tr>\n",
       "      <th>North America</th>\n",
       "      <td>7.273000</td>\n",
       "      <td>7.119</td>\n",
       "      <td>7.427</td>\n",
       "    </tr>\n",
       "    <tr>\n",
       "      <th>Southeastern Asia</th>\n",
       "      <td>5.317444</td>\n",
       "      <td>3.819</td>\n",
       "      <td>6.798</td>\n",
       "    </tr>\n",
       "    <tr>\n",
       "      <th>Southern Asia</th>\n",
       "      <td>4.580857</td>\n",
       "      <td>3.575</td>\n",
       "      <td>5.253</td>\n",
       "    </tr>\n",
       "    <tr>\n",
       "      <th>Sub-Saharan Africa</th>\n",
       "      <td>4.202800</td>\n",
       "      <td>2.839</td>\n",
       "      <td>5.477</td>\n",
       "    </tr>\n",
       "    <tr>\n",
       "      <th>Western Europe</th>\n",
       "      <td>6.689619</td>\n",
       "      <td>4.857</td>\n",
       "      <td>7.587</td>\n",
       "    </tr>\n",
       "    <tr>\n",
       "      <th>All</th>\n",
       "      <td>5.375734</td>\n",
       "      <td>2.839</td>\n",
       "      <td>7.587</td>\n",
       "    </tr>\n",
       "  </tbody>\n",
       "</table>\n",
       "</div>"
      ],
      "text/plain": [
       "                                           mean            amin  \\\n",
       "                                Happiness Score Happiness Score   \n",
       "Region                                                            \n",
       "Australia and New Zealand              7.285000           7.284   \n",
       "Central and Eastern Europe             5.332931           4.218   \n",
       "Eastern Asia                           5.626167           4.874   \n",
       "Latin America and Caribbean            6.144682           4.518   \n",
       "Middle East and Northern Africa        5.406900           3.006   \n",
       "North America                          7.273000           7.119   \n",
       "Southeastern Asia                      5.317444           3.819   \n",
       "Southern Asia                          4.580857           3.575   \n",
       "Sub-Saharan Africa                     4.202800           2.839   \n",
       "Western Europe                         6.689619           4.857   \n",
       "All                                    5.375734           2.839   \n",
       "\n",
       "                                           amax  \n",
       "                                Happiness Score  \n",
       "Region                                           \n",
       "Australia and New Zealand                 7.286  \n",
       "Central and Eastern Europe                6.505  \n",
       "Eastern Asia                              6.298  \n",
       "Latin America and Caribbean               7.226  \n",
       "Middle East and Northern Africa           7.278  \n",
       "North America                             7.427  \n",
       "Southeastern Asia                         6.798  \n",
       "Southern Asia                             5.253  \n",
       "Sub-Saharan Africa                        5.477  \n",
       "Western Europe                            7.587  \n",
       "All                                       7.587  "
      ]
     },
     "execution_count": 31,
     "metadata": {},
     "output_type": "execute_result"
    }
   ],
   "source": [
    "happiness2015.pivot_table('Happiness Score', 'Region', \n",
    "                           aggfunc=[np.mean, np.min, np.max], margins=True)"
   ]
  },
  {
   "cell_type": "markdown",
   "metadata": {},
   "source": [
    "##### Aggregating Multiple Columns And Functions With Pivot Tables"
   ]
  },
  {
   "cell_type": "markdown",
   "metadata": {},
   "source": [
    "We aggregate both the 'Happiness Score' and 'Family' columns in happiness2015 and group by the 'Region' column"
   ]
  },
  {
   "cell_type": "code",
   "execution_count": 34,
   "metadata": {},
   "outputs": [
    {
     "data": {
      "text/html": [
       "<div>\n",
       "<style scoped>\n",
       "    .dataframe tbody tr th:only-of-type {\n",
       "        vertical-align: middle;\n",
       "    }\n",
       "\n",
       "    .dataframe tbody tr th {\n",
       "        vertical-align: top;\n",
       "    }\n",
       "\n",
       "    .dataframe thead tr th {\n",
       "        text-align: left;\n",
       "    }\n",
       "\n",
       "    .dataframe thead tr:last-of-type th {\n",
       "        text-align: right;\n",
       "    }\n",
       "</style>\n",
       "<table border=\"1\" class=\"dataframe\">\n",
       "  <thead>\n",
       "    <tr>\n",
       "      <th></th>\n",
       "      <th colspan=\"2\" halign=\"left\">amin</th>\n",
       "      <th colspan=\"2\" halign=\"left\">amax</th>\n",
       "      <th colspan=\"2\" halign=\"left\">mean</th>\n",
       "    </tr>\n",
       "    <tr>\n",
       "      <th></th>\n",
       "      <th>Family</th>\n",
       "      <th>Happiness Score</th>\n",
       "      <th>Family</th>\n",
       "      <th>Happiness Score</th>\n",
       "      <th>Family</th>\n",
       "      <th>Happiness Score</th>\n",
       "    </tr>\n",
       "    <tr>\n",
       "      <th>Region</th>\n",
       "      <th></th>\n",
       "      <th></th>\n",
       "      <th></th>\n",
       "      <th></th>\n",
       "      <th></th>\n",
       "      <th></th>\n",
       "    </tr>\n",
       "  </thead>\n",
       "  <tbody>\n",
       "    <tr>\n",
       "      <th>Australia and New Zealand</th>\n",
       "      <td>1.30923</td>\n",
       "      <td>7.284</td>\n",
       "      <td>1.31967</td>\n",
       "      <td>7.286</td>\n",
       "      <td>1.314450</td>\n",
       "      <td>7.285000</td>\n",
       "    </tr>\n",
       "    <tr>\n",
       "      <th>Central and Eastern Europe</th>\n",
       "      <td>0.38562</td>\n",
       "      <td>4.218</td>\n",
       "      <td>1.34043</td>\n",
       "      <td>6.505</td>\n",
       "      <td>1.053042</td>\n",
       "      <td>5.332931</td>\n",
       "    </tr>\n",
       "    <tr>\n",
       "      <th>Eastern Asia</th>\n",
       "      <td>0.94675</td>\n",
       "      <td>4.874</td>\n",
       "      <td>1.30060</td>\n",
       "      <td>6.298</td>\n",
       "      <td>1.099427</td>\n",
       "      <td>5.626167</td>\n",
       "    </tr>\n",
       "    <tr>\n",
       "      <th>Latin America and Caribbean</th>\n",
       "      <td>0.74302</td>\n",
       "      <td>4.518</td>\n",
       "      <td>1.30477</td>\n",
       "      <td>7.226</td>\n",
       "      <td>1.104720</td>\n",
       "      <td>6.144682</td>\n",
       "    </tr>\n",
       "    <tr>\n",
       "      <th>Middle East and Northern Africa</th>\n",
       "      <td>0.47489</td>\n",
       "      <td>3.006</td>\n",
       "      <td>1.22393</td>\n",
       "      <td>7.278</td>\n",
       "      <td>0.920490</td>\n",
       "      <td>5.406900</td>\n",
       "    </tr>\n",
       "    <tr>\n",
       "      <th>North America</th>\n",
       "      <td>1.24711</td>\n",
       "      <td>7.119</td>\n",
       "      <td>1.32261</td>\n",
       "      <td>7.427</td>\n",
       "      <td>1.284860</td>\n",
       "      <td>7.273000</td>\n",
       "    </tr>\n",
       "    <tr>\n",
       "      <th>Southeastern Asia</th>\n",
       "      <td>0.62736</td>\n",
       "      <td>3.819</td>\n",
       "      <td>1.26504</td>\n",
       "      <td>6.798</td>\n",
       "      <td>0.940468</td>\n",
       "      <td>5.317444</td>\n",
       "    </tr>\n",
       "    <tr>\n",
       "      <th>Southern Asia</th>\n",
       "      <td>0.30285</td>\n",
       "      <td>3.575</td>\n",
       "      <td>1.10395</td>\n",
       "      <td>5.253</td>\n",
       "      <td>0.645321</td>\n",
       "      <td>4.580857</td>\n",
       "    </tr>\n",
       "    <tr>\n",
       "      <th>Sub-Saharan Africa</th>\n",
       "      <td>0.00000</td>\n",
       "      <td>2.839</td>\n",
       "      <td>1.18468</td>\n",
       "      <td>5.477</td>\n",
       "      <td>0.809085</td>\n",
       "      <td>4.202800</td>\n",
       "    </tr>\n",
       "    <tr>\n",
       "      <th>Western Europe</th>\n",
       "      <td>0.89318</td>\n",
       "      <td>4.857</td>\n",
       "      <td>1.40223</td>\n",
       "      <td>7.587</td>\n",
       "      <td>1.247302</td>\n",
       "      <td>6.689619</td>\n",
       "    </tr>\n",
       "    <tr>\n",
       "      <th>All</th>\n",
       "      <td>0.00000</td>\n",
       "      <td>2.839</td>\n",
       "      <td>1.40223</td>\n",
       "      <td>7.587</td>\n",
       "      <td>0.991046</td>\n",
       "      <td>5.375734</td>\n",
       "    </tr>\n",
       "  </tbody>\n",
       "</table>\n",
       "</div>"
      ],
      "text/plain": [
       "                                    amin                     amax  \\\n",
       "                                  Family Happiness Score   Family   \n",
       "Region                                                              \n",
       "Australia and New Zealand        1.30923           7.284  1.31967   \n",
       "Central and Eastern Europe       0.38562           4.218  1.34043   \n",
       "Eastern Asia                     0.94675           4.874  1.30060   \n",
       "Latin America and Caribbean      0.74302           4.518  1.30477   \n",
       "Middle East and Northern Africa  0.47489           3.006  1.22393   \n",
       "North America                    1.24711           7.119  1.32261   \n",
       "Southeastern Asia                0.62736           3.819  1.26504   \n",
       "Southern Asia                    0.30285           3.575  1.10395   \n",
       "Sub-Saharan Africa               0.00000           2.839  1.18468   \n",
       "Western Europe                   0.89318           4.857  1.40223   \n",
       "All                              0.00000           2.839  1.40223   \n",
       "\n",
       "                                                     mean                  \n",
       "                                Happiness Score    Family Happiness Score  \n",
       "Region                                                                     \n",
       "Australia and New Zealand                 7.286  1.314450        7.285000  \n",
       "Central and Eastern Europe                6.505  1.053042        5.332931  \n",
       "Eastern Asia                              6.298  1.099427        5.626167  \n",
       "Latin America and Caribbean               7.226  1.104720        6.144682  \n",
       "Middle East and Northern Africa           7.278  0.920490        5.406900  \n",
       "North America                             7.427  1.284860        7.273000  \n",
       "Southeastern Asia                         6.798  0.940468        5.317444  \n",
       "Southern Asia                             5.253  0.645321        4.580857  \n",
       "Sub-Saharan Africa                        5.477  0.809085        4.202800  \n",
       "Western Europe                            7.587  1.247302        6.689619  \n",
       "All                                       7.587  0.991046        5.375734  "
      ]
     },
     "execution_count": 34,
     "metadata": {},
     "output_type": "execute_result"
    }
   ],
   "source": [
    "grouped = happiness2015.groupby('Region')[['Happiness Score','Family']]\n",
    "happy_family_stats = grouped.agg([np.min, np.max, np.mean])\n",
    "pv_happy_family_stats = happiness2015.pivot_table(['Happiness Score', \n",
    "                                                   'Family'], 'Region', \n",
    "                                                   aggfunc=[np.min, np.max, np.mean], \n",
    "                                                   margins=True)\n",
    "pv_happy_family_stats"
   ]
  }
 ],
 "metadata": {
  "hide_input": false,
  "kernelspec": {
   "display_name": "Python 3",
   "language": "python",
   "name": "python3"
  },
  "language_info": {
   "codemirror_mode": {
    "name": "ipython",
    "version": 3
   },
   "file_extension": ".py",
   "mimetype": "text/x-python",
   "name": "python",
   "nbconvert_exporter": "python",
   "pygments_lexer": "ipython3",
   "version": "3.7.9"
  },
  "latex_envs": {
   "LaTeX_envs_menu_present": true,
   "autoclose": false,
   "autocomplete": true,
   "bibliofile": "biblio.bib",
   "cite_by": "apalike",
   "current_citInitial": 1,
   "eqLabelWithNumbers": true,
   "eqNumInitial": 1,
   "hotkeys": {
    "equation": "Ctrl-E",
    "itemize": "Ctrl-I"
   },
   "labels_anchors": false,
   "latex_user_defs": false,
   "report_style_numbering": false,
   "user_envs_cfg": false
  },
  "toc": {
   "base_numbering": 1,
   "nav_menu": {},
   "number_sections": true,
   "sideBar": true,
   "skip_h1_title": false,
   "title_cell": "Table of Contents",
   "title_sidebar": "Contents",
   "toc_cell": false,
   "toc_position": {
    "height": "calc(100% - 180px)",
    "left": "10px",
    "top": "150px",
    "width": "371.117px"
   },
   "toc_section_display": true,
   "toc_window_display": false
  },
  "varInspector": {
   "cols": {
    "lenName": 16,
    "lenType": 16,
    "lenVar": 40
   },
   "kernels_config": {
    "python": {
     "delete_cmd_postfix": "",
     "delete_cmd_prefix": "del ",
     "library": "var_list.py",
     "varRefreshCmd": "print(var_dic_list())"
    },
    "r": {
     "delete_cmd_postfix": ") ",
     "delete_cmd_prefix": "rm(",
     "library": "var_list.r",
     "varRefreshCmd": "cat(var_dic_list()) "
    }
   },
   "types_to_exclude": [
    "module",
    "function",
    "builtin_function_or_method",
    "instance",
    "_Feature"
   ],
   "window_display": false
  }
 },
 "nbformat": 4,
 "nbformat_minor": 4
}
