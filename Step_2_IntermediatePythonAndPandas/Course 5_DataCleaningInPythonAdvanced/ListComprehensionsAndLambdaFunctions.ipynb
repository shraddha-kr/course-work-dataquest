{
 "cells": [
  {
   "cell_type": "markdown",
   "metadata": {},
   "source": [
    "#### TITLE\n",
    "List Comprehensions And Lamda Functions"
   ]
  },
  {
   "cell_type": "markdown",
   "metadata": {},
   "source": [
    "#### OBJECTIVE\n",
    "* Creating list comprehensions to replace loops with a single line of code.\n",
    "* Creating single use functions called lambda functions.\n",
    "\n",
    "The data set we'll use in this mission is in a format called JavaScript Object Notation (JSON). As the name indicates, JSON originated from the JavaScript language, but has now become a language-independent format.\n",
    "\n",
    "From a Python perspective, JSON can be thought as a collection of Python objects nested inside each other.\n",
    "\n",
    "![title](./img/Json_1.png)\n",
    "\n",
    "The JSON above is a list, where each element in the list is a dictionary. Each of the dictionaries have the same keys, and one of the values of each dictionary is itself a list.\n",
    "\n",
    "The Python json module contains a number of functions to make working with JSON objects easier. We can use the json.loads() method to convert JSON data contained in a string to the equivalent set of Python objects:"
   ]
  },
  {
   "cell_type": "code",
   "execution_count": 1,
   "metadata": {},
   "outputs": [
    {
     "output_type": "execute_result",
     "data": {
      "text/plain": [
       "         id                                              title  \\\n",
       "0  12224879                          Interactive Dynamic Video   \n",
       "1  11964716  Florida DJs May Face Felony for April Fools' W...   \n",
       "\n",
       "                                                 url  num_points  \\\n",
       "0            http://www.interactivedynamicvideo.com/         386   \n",
       "1  http://www.thewire.com/entertainment/2013/04/f...           2   \n",
       "\n",
       "   num_comments    author       created_at  \n",
       "0            52  ne0phyte   8/4/2016 11:52  \n",
       "1             1  vezycash  6/23/2016 22:20  "
      ],
      "text/html": "<div>\n<style scoped>\n    .dataframe tbody tr th:only-of-type {\n        vertical-align: middle;\n    }\n\n    .dataframe tbody tr th {\n        vertical-align: top;\n    }\n\n    .dataframe thead th {\n        text-align: right;\n    }\n</style>\n<table border=\"1\" class=\"dataframe\">\n  <thead>\n    <tr style=\"text-align: right;\">\n      <th></th>\n      <th>id</th>\n      <th>title</th>\n      <th>url</th>\n      <th>num_points</th>\n      <th>num_comments</th>\n      <th>author</th>\n      <th>created_at</th>\n    </tr>\n  </thead>\n  <tbody>\n    <tr>\n      <th>0</th>\n      <td>12224879</td>\n      <td>Interactive Dynamic Video</td>\n      <td>http://www.interactivedynamicvideo.com/</td>\n      <td>386</td>\n      <td>52</td>\n      <td>ne0phyte</td>\n      <td>8/4/2016 11:52</td>\n    </tr>\n    <tr>\n      <th>1</th>\n      <td>11964716</td>\n      <td>Florida DJs May Face Felony for April Fools' W...</td>\n      <td>http://www.thewire.com/entertainment/2013/04/f...</td>\n      <td>2</td>\n      <td>1</td>\n      <td>vezycash</td>\n      <td>6/23/2016 22:20</td>\n    </tr>\n  </tbody>\n</table>\n</div>"
     },
     "metadata": {},
     "execution_count": 1
    }
   ],
   "source": [
    "import pandas as pd\n",
    "import numpy as np\n",
    "\n",
    "hn = pd.read_csv('./datasets/hacker_news.csv')\n",
    "hn.head(2)"
   ]
  },
  {
   "cell_type": "markdown",
   "metadata": {},
   "source": [
    "#### String To JSON Obj"
   ]
  },
  {
   "cell_type": "code",
   "execution_count": 2,
   "metadata": {},
   "outputs": [
    {
     "output_type": "stream",
     "name": "stdout",
     "text": [
      "<class 'list'> \n\n[{'name': 'Sabine', 'age': 36, 'favorite_foods': ['Pumpkin', 'Oatmeal']}, {'name': 'Zoe', 'age': 40, 'favorite_foods': ['Chicken', 'Pizza', 'Chocolate']}, {'name': 'Heidi', 'age': 40, 'favorite_foods': ['Caesar Salad']}]\n"
     ]
    }
   ],
   "source": [
    "json_string = \"\"\"\n",
    "[\n",
    "  {\n",
    "    \"name\": \"Sabine\",\n",
    "    \"age\": 36,\n",
    "    \"favorite_foods\": [\"Pumpkin\", \"Oatmeal\"]\n",
    "  },\n",
    "  {\n",
    "    \"name\": \"Zoe\",\n",
    "    \"age\": 40,\n",
    "    \"favorite_foods\": [\"Chicken\", \"Pizza\", \"Chocolate\"]\n",
    "  },\n",
    "  {\n",
    "    \"name\": \"Heidi\",\n",
    "    \"age\": 40,\n",
    "    \"favorite_foods\": [\"Caesar Salad\"]\n",
    "  }\n",
    "]\n",
    "\"\"\"\n",
    "\n",
    "import json\n",
    "json_obj = json.loads(json_string)\n",
    "print(type(json_obj), '\\n')\n",
    "print(json_obj)"
   ]
  },
  {
   "cell_type": "markdown",
   "metadata": {},
   "source": [
    "We can observe a few things:\n",
    "\n",
    "* The formatting from our original string is gone. This is because printing Python lists and dictionaries has a simple formatting structure.\n",
    "* The order of the keys in the dictionary have changed. This is because (prior to version 3.6) Python dictionaries don't have fixed order."
   ]
  },
  {
   "cell_type": "code",
   "execution_count": 3,
   "metadata": {
    "scrolled": true
   },
   "outputs": [
    {
     "output_type": "execute_result",
     "data": {
      "text/plain": [
       "[{'team_1': 'France',\n",
       "  'team_2': 'Croatia',\n",
       "  'game_type': 'Final',\n",
       "  'score': [4, 2]},\n",
       " {'team_1': 'Belgium',\n",
       "  'team_2': 'England',\n",
       "  'game_type': '3rd/4th Playoff',\n",
       "  'score': [2, 0]}]"
      ]
     },
     "metadata": {},
     "execution_count": 3
    }
   ],
   "source": [
    "world_cup_str = \"\"\"\n",
    "[\n",
    "    {\n",
    "        \"team_1\": \"France\",\n",
    "        \"team_2\": \"Croatia\",\n",
    "        \"game_type\": \"Final\",\n",
    "        \"score\" : [4, 2]\n",
    "    },\n",
    "    {\n",
    "        \"team_1\": \"Belgium\",\n",
    "        \"team_2\": \"England\",\n",
    "        \"game_type\": \"3rd/4th Playoff\",\n",
    "        \"score\" : [2, 0]\n",
    "    }\n",
    "]\n",
    "\"\"\"\n",
    "import json\n",
    "world_cup_obj = json.loads(world_cup_str)\n",
    "world_cup_obj"
   ]
  },
  {
   "cell_type": "markdown",
   "metadata": {},
   "source": [
    "#### Reading a JSON File\n",
    "One of the places where the JSON format is commonly used is in the results returned by an Application programming interface (API). APIs are interfaces that can be used to send and transmit data between different computer systems. \n",
    "To read a file from JSON format, we use the json.load() function. Note that the function is json.load() without an \"s\" at the end. The json.loads() function is used for loading JSON data from a string (\"loads\" is short for \"load string\"), whereas the json.load() function is used to load from a file object."
   ]
  },
  {
   "cell_type": "code",
   "execution_count": 4,
   "metadata": {
    "scrolled": false
   },
   "outputs": [
    {
     "output_type": "stream",
     "name": "stdout",
     "text": [
      "<class 'list'> \n\n35806 \n\n<class 'dict'> \n\ndict_keys(['author', 'numComments', 'points', 'url', 'storyText', 'createdAt', 'tags', 'createdAtI', 'title', 'objectId'])\n"
     ]
    }
   ],
   "source": [
    "import json\n",
    "file = open(\"./datasets/hn_2014.json\")\n",
    "# Returns a list\n",
    "hn = json.load(file)\n",
    "\n",
    "print(type(hn), '\\n')\n",
    "print(len(hn), '\\n')\n",
    "print(type(hn[0]), '\\n')\n",
    "print(hn[0].keys())"
   ]
  },
  {
   "cell_type": "markdown",
   "metadata": {},
   "source": [
    "#### JSON Obj To String\n",
    "Create a function which will print a JSON object with formatting to make it easier to read.\n",
    "The function will use the **json.dumps()** function **(\"dump string\")** which does the opposite of the **json.loads()** function — it takes a JSON object and returns a string version of it. The json.dumps() function accepts arguments that can specify formatting for the string, which we'll use to make things easier to read"
   ]
  },
  {
   "cell_type": "code",
   "execution_count": 5,
   "metadata": {},
   "outputs": [
    {
     "output_type": "stream",
     "name": "stdout",
     "text": [
      "{\n    \"author\": \"jcr\",\n    \"createdAt\": \"2014-05-29T08:05:58Z\",\n    \"createdAtI\": 1401350758,\n    \"numComments\": 0,\n    \"objectId\": \"7815234\",\n    \"points\": 1,\n    \"storyText\": \"\",\n    \"tags\": [\n        \"story\",\n        \"author_jcr\",\n        \"story_7815234\"\n    ],\n    \"title\": \"Telemba Turns Your Old Roomba and Tablet Into a Telepresence Robot\",\n    \"url\": \"http://spectrum.ieee.org/automaton/robotics/home-robots/telemba-telepresence-robot\"\n}\n"
     ]
    }
   ],
   "source": [
    "def jprint(obj):\n",
    "    # create a formatted string of the Python JSON object\n",
    "    text = json.dumps(obj, sort_keys=True, indent=4)\n",
    "    print(text)\n",
    "\n",
    "#hn is a list, for a DF it will throw a \"TypeError: Object of type DataFrame is not JSON serializable error\"\n",
    "first_story = hn[1] \n",
    "jprint(first_story)"
   ]
  },
  {
   "cell_type": "markdown",
   "metadata": {},
   "source": [
    "#### Deleting Dictionary Keys\n",
    "You may notice that the createdAt and createdAtI keys both have the date and time data in two different formats. Because the format of createdAt is much easier to understand, let's do some data cleaning by deleting the createdAtI key from every dictionary.\n",
    "\n",
    "To delete a key from a dictionary, we can use the [del](https://docs.python.org/3.7/reference/simple_stmts.html#del) statement."
   ]
  },
  {
   "cell_type": "code",
   "execution_count": 6,
   "metadata": {},
   "outputs": [
    {
     "output_type": "stream",
     "name": "stdout",
     "text": [
      "{\n    \"author\": \"dragongraphics\",\n    \"createdAt\": \"2014-05-29T08:07:50Z\",\n    \"createdAtI\": 1401350870,\n    \"numComments\": 0,\n    \"objectId\": \"7815238\",\n    \"points\": 2,\n    \"storyText\": \"\",\n    \"tags\": [\n        \"story\",\n        \"author_dragongraphics\",\n        \"story_7815238\"\n    ],\n    \"title\": \"Are we getting too Sassy? Weighing up micro-optimisation vs. maintainability\",\n    \"url\": \"http://ashleynolan.co.uk/blog/are-we-getting-too-sassy\"\n}\nDeleting [createdAtI]\n{\n    \"author\": \"dragongraphics\",\n    \"createdAt\": \"2014-05-29T08:07:50Z\",\n    \"numComments\": 0,\n    \"objectId\": \"7815238\",\n    \"points\": 2,\n    \"storyText\": \"\",\n    \"tags\": [\n        \"story\",\n        \"author_dragongraphics\",\n        \"story_7815238\"\n    ],\n    \"title\": \"Are we getting too Sassy? Weighing up micro-optimisation vs. maintainability\",\n    \"url\": \"http://ashleynolan.co.uk/blog/are-we-getting-too-sassy\"\n}\n"
     ]
    }
   ],
   "source": [
    "def del_key(dict_, key):\n",
    "    # create a copy so we don't\n",
    "    # modify the original dict\n",
    "    modified_dict = dict_.copy()\n",
    "    del modified_dict[key]\n",
    "    return modified_dict\n",
    "\n",
    "first_story = hn[0]\n",
    "jprint(first_story) \n",
    "print('Deleting [createdAtI]')\n",
    "\n",
    "first_story = del_key(first_story, 'createdAtI')\n",
    "jprint(first_story)"
   ]
  },
  {
   "cell_type": "markdown",
   "metadata": {},
   "source": [
    "Remove the createdAtI key from every story in our Hacker News data set"
   ]
  },
  {
   "cell_type": "code",
   "execution_count": 7,
   "metadata": {},
   "outputs": [
    {
     "output_type": "execute_result",
     "data": {
      "text/plain": [
       "{'author': 'dragongraphics',\n",
       " 'numComments': 0,\n",
       " 'points': 2,\n",
       " 'url': 'http://ashleynolan.co.uk/blog/are-we-getting-too-sassy',\n",
       " 'storyText': '',\n",
       " 'createdAt': '2014-05-29T08:07:50Z',\n",
       " 'tags': ['story', 'author_dragongraphics', 'story_7815238'],\n",
       " 'title': 'Are we getting too Sassy? Weighing up micro-optimisation vs. maintainability',\n",
       " 'objectId': '7815238'}"
      ]
     },
     "metadata": {},
     "execution_count": 7
    }
   ],
   "source": [
    "def del_key(dict_, key):\n",
    "    # create a copy so we don't\n",
    "    # modify the original dict\n",
    "    modified_dict = dict_.copy()\n",
    "    del modified_dict[key]\n",
    "    return modified_dict\n",
    "\n",
    "hn_clean = []\n",
    "for h in hn:\n",
    "    modified_story = del_key(h, 'createdAtI')\n",
    "    hn_clean.append(modified_story)\n",
    "    \n",
    "hn_clean[0]"
   ]
  },
  {
   "cell_type": "markdown",
   "metadata": {},
   "source": [
    "#### Writing List Comprehensions\n",
    "The task we performed is an extremely common one.\n",
    "* Iterated over values in a list.\n",
    "* Performed a transformation on those values.\n",
    "* Assigned the result to a new list.\n",
    "\n",
    "Python includes a special syntax shortcut for tasks that meet these criteria: List Comprehensions. A list comprehension provides a concise way of creating lists in a single line of code.\n",
    "![title](./img/ListTrns_1.png)\n",
    "\n",
    "**Example 1: Add 1 to each item in a list of integers**"
   ]
  },
  {
   "cell_type": "code",
   "execution_count": 8,
   "metadata": {},
   "outputs": [
    {
     "output_type": "stream",
     "name": "stdout",
     "text": [
      "[2, 3, 4, 5]\n"
     ]
    }
   ],
   "source": [
    "ints = [1, 2, 3, 4]\n",
    "\n",
    "plus_one = []\n",
    "for i in ints:\n",
    "    plus_one.append(i + 1)\n",
    "\n",
    "print(plus_one)"
   ]
  },
  {
   "cell_type": "markdown",
   "metadata": {},
   "source": [
    "To transform this structure into a list comprehension, we do the following within brackets:\n",
    "\n",
    "* Start with the code that transforms each item.\n",
    "* Continue with our for statement (without a colon).\n",
    "\n",
    "We can then assign the list comprehension to a variable name. The image below shows how we convert the manual loop version to a list comprehension.\n",
    "![title](./img/ListTrns_2.png)\n",
    "\n",
    "**Example 2: Multiply each item in the list by 10**"
   ]
  },
  {
   "cell_type": "code",
   "execution_count": 9,
   "metadata": {},
   "outputs": [
    {
     "output_type": "stream",
     "name": "stdout",
     "text": [
      "[10, 20, 30, 40]\n"
     ]
    }
   ],
   "source": [
    "times_ten = []\n",
    "for i in ints:\n",
    "    times_ten.append(i * 10)\n",
    "\n",
    "print(times_ten)"
   ]
  },
  {
   "cell_type": "code",
   "execution_count": 10,
   "metadata": {},
   "outputs": [
    {
     "output_type": "execute_result",
     "data": {
      "text/plain": [
       "[10, 20, 30, 40]"
      ]
     },
     "metadata": {},
     "execution_count": 10
    }
   ],
   "source": [
    "times_ten = [i * 10 for i in ints]\n",
    "times_ten"
   ]
  },
  {
   "cell_type": "markdown",
   "metadata": {},
   "source": [
    "The **\"transformation\"** step of our list comprehension can be anything, including a function or method. In the example below, we are applying a function to a list of floats to round them to integers."
   ]
  },
  {
   "cell_type": "markdown",
   "metadata": {},
   "source": [
    "**Example 3: Applying a function to a list of floats**"
   ]
  },
  {
   "cell_type": "code",
   "execution_count": 11,
   "metadata": {
    "scrolled": true
   },
   "outputs": [
    {
     "output_type": "stream",
     "name": "stdout",
     "text": [
      "[2, 9, 4, 9]\n"
     ]
    }
   ],
   "source": [
    "floats = [2.1, 8.7, 4.2, 8.9]\n",
    "\n",
    "rounded = []\n",
    "for f in floats:\n",
    "    rounded.append(round(f))\n",
    "\n",
    "print(rounded)"
   ]
  },
  {
   "cell_type": "code",
   "execution_count": 12,
   "metadata": {},
   "outputs": [
    {
     "output_type": "execute_result",
     "data": {
      "text/plain": [
       "[2, 9, 4, 9]"
      ]
     },
     "metadata": {},
     "execution_count": 12
    }
   ],
   "source": [
    "rounded = [round(f) for f in floats]\n",
    "rounded"
   ]
  },
  {
   "cell_type": "markdown",
   "metadata": {},
   "source": [
    "**Example 4: Apply a method to each string in a list to capitalize it**"
   ]
  },
  {
   "cell_type": "code",
   "execution_count": 13,
   "metadata": {},
   "outputs": [
    {
     "output_type": "execute_result",
     "data": {
      "text/plain": [
       "['A', 'B', 'C', 'D']"
      ]
     },
     "metadata": {},
     "execution_count": 13
    }
   ],
   "source": [
    "letters = ['a', 'b', 'c', 'd']\n",
    "\n",
    "caps = []\n",
    "for l in letters:\n",
    "    caps.append(l.upper())\n",
    "    \n",
    "caps"
   ]
  },
  {
   "cell_type": "code",
   "execution_count": 14,
   "metadata": {
    "scrolled": true
   },
   "outputs": [
    {
     "output_type": "execute_result",
     "data": {
      "text/plain": [
       "['A', 'B', 'C', 'D']"
      ]
     },
     "metadata": {},
     "execution_count": 14
    }
   ],
   "source": [
    "caps = [l.upper() for l in letters]\n",
    "caps"
   ]
  },
  {
   "cell_type": "markdown",
   "metadata": {},
   "source": [
    " A list comprehension can be used where we:\n",
    "* Iterated over values in a list.\n",
    "* Performed a transformation on those values.\n",
    "* Assigned the result to a new list.\n",
    "\n",
    "To transform a loop to a list comprehension, in brackets we:\n",
    "* Start with the code that transforms each item.\n",
    "* Continue with our for statement (without a colon).\n",
    "\n",
    "![title](./img/ListTrns_5.png)"
   ]
  },
  {
   "cell_type": "code",
   "execution_count": 15,
   "metadata": {},
   "outputs": [
    {
     "output_type": "execute_result",
     "data": {
      "text/plain": [
       "[{'author': 'dragongraphics',\n",
       "  'numComments': 0,\n",
       "  'points': 2,\n",
       "  'url': 'http://ashleynolan.co.uk/blog/are-we-getting-too-sassy',\n",
       "  'storyText': '',\n",
       "  'createdAt': '2014-05-29T08:07:50Z',\n",
       "  'tags': ['story', 'author_dragongraphics', 'story_7815238'],\n",
       "  'title': 'Are we getting too Sassy? Weighing up micro-optimisation vs. maintainability',\n",
       "  'objectId': '7815238'},\n",
       " {'author': 'jcr',\n",
       "  'numComments': 0,\n",
       "  'points': 1,\n",
       "  'url': 'http://spectrum.ieee.org/automaton/robotics/home-robots/telemba-telepresence-robot',\n",
       "  'storyText': '',\n",
       "  'createdAt': '2014-05-29T08:05:58Z',\n",
       "  'tags': ['story', 'author_jcr', 'story_7815234'],\n",
       "  'title': 'Telemba Turns Your Old Roomba and Tablet Into a Telepresence Robot',\n",
       "  'objectId': '7815234'}]"
      ]
     },
     "metadata": {},
     "execution_count": 15
    }
   ],
   "source": [
    "hn_clean = [del_key(d, 'createdAtI') for d in hn]\n",
    "hn_clean[0:2]"
   ]
  },
  {
   "cell_type": "markdown",
   "metadata": {},
   "source": [
    "#### Using List Comprehensions to Transform and Create Lists\n",
    "List comprehensions can be used for many different things. Three common applications are:\n",
    "1. Transforming a list\n",
    "2. Creating a new list\n",
    "3. Reducing a list\n",
    "\n",
    "The first application, **transforming a list**, is the category that all the examples you've seen so far fit under. You are taking an existing list, applying a transformation to every value, and assigning it to a variable.\n",
    "\n",
    "The second application, creating a new list, is useful for creating test data or data that is based on a set of numbers."
   ]
  },
  {
   "cell_type": "code",
   "execution_count": 16,
   "metadata": {},
   "outputs": [
    {
     "output_type": "stream",
     "name": "stdout",
     "text": [
      "   col_1  col_2  col_3  col_4\n0    0.0    0.0    0.0    0.0\n1    0.0    0.0    0.0    0.0\n2    0.0    0.0    0.0    0.0\n3    0.0    0.0    0.0    0.0\n"
     ]
    }
   ],
   "source": [
    "# Create an empty dataframe with labels\n",
    "import pandas as pd\n",
    "\n",
    "cols = ['col_{}'.format(i) for i in range(1, 5)]\n",
    "data = np.zeros((4, 4))\n",
    "\n",
    "df = pd.DataFrame(data, columns=cols)\n",
    "print(df)"
   ]
  },
  {
   "cell_type": "code",
   "execution_count": 17,
   "metadata": {},
   "outputs": [
    {
     "output_type": "execute_result",
     "data": {
      "text/plain": [
       "['http://ashleynolan.co.uk/blog/are-we-getting-too-sassy',\n",
       " 'http://spectrum.ieee.org/automaton/robotics/home-robots/telemba-telepresence-robot',\n",
       " 'http://online.wsj.com/articles/apple-to-buy-beats-1401308971',\n",
       " 'http://alexsblog.org/2014/05/29/dont-wait-for-inspiration/',\n",
       " 'http://techcrunch.com/2014/05/28/hackerone-get-9m-in-series-a-funding-to-build-bug-tracking-bounty-programs/']"
      ]
     },
     "metadata": {},
     "execution_count": 17
    }
   ],
   "source": [
    "urls = [d['url'] for d in hn_clean]\n",
    "urls[0:5]"
   ]
  },
  {
   "cell_type": "markdown",
   "metadata": {},
   "source": [
    "#### Using List Comprehensions to Reduce a List\n",
    "The last common application of list comprehensions is reducing a list. Let's say we had a list of integers and we wanted to remove any integers that were smaller than 50"
   ]
  },
  {
   "cell_type": "code",
   "execution_count": 18,
   "metadata": {},
   "outputs": [
    {
     "output_type": "stream",
     "name": "stdout",
     "text": [
      "[84, 77, 56]\n"
     ]
    }
   ],
   "source": [
    "ints = [25, 14, 13, 84, 43, 6, 77, 56]\n",
    "\n",
    "big_ints = [i for i in ints if i>=50]\n",
    "print(big_ints)"
   ]
  },
  {
   "cell_type": "code",
   "execution_count": 19,
   "metadata": {},
   "outputs": [
    {
     "output_type": "stream",
     "name": "stdout",
     "text": [
      "9279\n"
     ]
    }
   ],
   "source": [
    "has_comments = [d for d in hn_clean if d['numComments'] > 0]\n",
    "\n",
    "num_comments = len(has_comments)\n",
    "print(num_comments)"
   ]
  },
  {
   "cell_type": "code",
   "execution_count": 20,
   "metadata": {},
   "outputs": [
    {
     "output_type": "execute_result",
     "data": {
      "text/plain": [
       "8"
      ]
     },
     "metadata": {},
     "execution_count": 20
    }
   ],
   "source": [
    "thousand_points = [d for d in hn_clean if d['points'] > 1000]\n",
    "num_thousand_points = len(thousand_points)\n",
    "num_thousand_points"
   ]
  },
  {
   "cell_type": "markdown",
   "metadata": {},
   "source": [
    "#### Passing Functions As Arguments\n",
    "\n",
    "\n",
    "Let's try and use Python to return the dictionary of the person with the lowest age:\n",
    "min(json_obj)\n",
    "\n",
    "\n",
    "TypeError               Traceback (most recent call last)\n",
    "<ipython-input-290-60cd4510e136> in module()\n",
    "----> 1 min(json_obj)\n",
    "TypeError: unorderable types: dict() < dict()\n",
    "        \n",
    "                                           \n",
    "We get an error because Python doesn't have any way to tell whether one dictionary object is \"greater\" than another.\n",
    "There is a way we can actually tell functions like min(), max(), and sorted() how to sort complex objects like dictionaries and lists of lists. We do this by using the optional key argument. The official Python documentation contains the following excerpts that describe how the argument works:\n",
    "The key argument specifies a one-argument ordering function like that used for list.sort().\n",
    "\n",
    "**key specifies a function of one argument that is used to extract a comparison key from each list element. The key corresponding to each item in the list is calculated once and then used for the entire sorting process.**\n",
    "\n",
    "These excerpts tell us we need to specify a function as an argument to control the comparison between values. Up until now, we've only passed variables or values as arguments, but not functions!"
   ]
  },
  {
   "cell_type": "code",
   "execution_count": 21,
   "metadata": {},
   "outputs": [
    {
     "output_type": "stream",
     "name": "stdout",
     "text": [
      "<class 'str'>\n"
     ]
    }
   ],
   "source": [
    "def greet():\n",
    "    return \"hello\"\n",
    "\n",
    "greet()\n",
    "t = type(greet())\n",
    "print(t)"
   ]
  },
  {
   "cell_type": "markdown",
   "metadata": {},
   "source": [
    "![title](./img/FuncArg_1.png)\n",
    "We need to find a way to look at the function itself, rather than the result of the function. The key to this is the parentheses: ().\n",
    "\n",
    "The parentheses are what tells Python to execute the function, so if we omit the parentheses we can treat a function like a variable, rather than working with the output of the function:\n",
    "There are other variable-like behaviors we can also use when we omit the parentheses from a function. For instance, we can assign a function to a new variable name:"
   ]
  },
  {
   "cell_type": "code",
   "execution_count": 22,
   "metadata": {},
   "outputs": [
    {
     "output_type": "stream",
     "name": "stdout",
     "text": [
      "<class 'function'>\n"
     ]
    },
    {
     "output_type": "execute_result",
     "data": {
      "text/plain": [
       "'hello'"
      ]
     },
     "metadata": {},
     "execution_count": 22
    }
   ],
   "source": [
    "t = type(greet)\n",
    "print(t)\n",
    "\n",
    "greet_2 = greet\n",
    "greet_2()"
   ]
  },
  {
   "cell_type": "code",
   "execution_count": 23,
   "metadata": {},
   "outputs": [
    {
     "output_type": "stream",
     "name": "stdout",
     "text": [
      "RUNNING FUNCTION: <function greet at 0x0000017CB7AC7678>\n"
     ]
    },
    {
     "output_type": "execute_result",
     "data": {
      "text/plain": [
       "'hello'"
      ]
     },
     "metadata": {},
     "execution_count": 23
    }
   ],
   "source": [
    "def run_func(func):\n",
    "    print(\"RUNNING FUNCTION: {}\".format(func))\n",
    "    return func()\n",
    "\n",
    "run_func(greet)"
   ]
  },
  {
   "cell_type": "markdown",
   "metadata": {},
   "source": [
    "![title](./img/FuncArg_2.png)\n",
    "Let's see how to use a function to control the behavior of the sorted()\n",
    "\n",
    "![title](./img/FuncArg_3.png)"
   ]
  },
  {
   "cell_type": "code",
   "execution_count": 24,
   "metadata": {},
   "outputs": [
    {
     "output_type": "stream",
     "name": "stdout",
     "text": [
      "{\n    \"age\": 36,\n    \"favorite_foods\": [\n        \"Pumpkin\",\n        \"Oatmeal\"\n    ],\n    \"name\": \"Sabine\"\n}\n"
     ]
    }
   ],
   "source": [
    "def get_age(json_dict):\n",
    "    return json_dict['age']\n",
    "\n",
    "youngest = min(json_obj, key=get_age)\n",
    "jprint(youngest)"
   ]
  },
  {
   "cell_type": "markdown",
   "metadata": {},
   "source": [
    "Find the story that has the greatest number of comments"
   ]
  },
  {
   "cell_type": "code",
   "execution_count": 25,
   "metadata": {},
   "outputs": [
    {
     "output_type": "execute_result",
     "data": {
      "text/plain": [
       "{'author': 'platz',\n",
       " 'numComments': 1208,\n",
       " 'points': 889,\n",
       " 'url': 'https://blog.mozilla.org/blog/2014/04/03/brendan-eich-steps-down-as-mozilla-ceo/',\n",
       " 'storyText': None,\n",
       " 'createdAt': '2014-04-03T19:02:53Z',\n",
       " 'tags': ['story', 'author_platz', 'story_7525198'],\n",
       " 'title': 'Brendan Eich Steps Down as Mozilla CEO',\n",
       " 'objectId': '7525198'}"
      ]
     },
     "metadata": {},
     "execution_count": 25
    }
   ],
   "source": [
    "def get_num_comments(story):\n",
    "    return story['numComments']\n",
    "\n",
    "most_comments = max(hn_clean, key=get_num_comments)\n",
    "most_comments"
   ]
  },
  {
   "cell_type": "markdown",
   "metadata": {},
   "source": [
    "#### Lambda Functions\n",
    "We create functions when we want to perform the same task many times. In the previous exercise, we created a function to use just once — as an argument to max().\n",
    "Python provides a special syntax to create temporary functions for situations like these. These functions are called lambda functions. Lambda functions can be defined in a single line, which allows you to define a function you want to pass as an argument at the time you need it.\n",
    "\n",
    "While it's unusual to assign a lamdba function to a variable name, we'll do that while we learn lambda functions through some simple examples. We'll start with a function that returns a single argument without modifying it:"
   ]
  },
  {
   "source": [
    "**def unchanged(x):\n",
    "      return x**\n",
    "\n",
    "Let's give each component of the function a name \n",
    "![title](./img/LambdaF_1.png)\n",
    "\n",
    "We're calling the returned element \"transformation,\" even though there is no transformation. This will make sense as we introduce more complex examples.\n",
    "\n",
    "To create a lambda function equivalent of this function, we:\n",
    "\n",
    "* Use the lambda keyword, followed by\n",
    "* The parameter and a colon, and then\n",
    "* The transformation we wish to perform on our argument\n",
    "\n",
    "We can then assign that to the function name:\n",
    "![title](./img/LambdaF_2.png)\n",
    "\n",
    "![title](./img/LambdaF_3.png)"
   ],
   "cell_type": "markdown",
   "metadata": {}
  },
  {
   "source": [
    "![title](./img/LambdaF_4.png)"
   ],
   "cell_type": "markdown",
   "metadata": {}
  },
  {
   "source": [
    "![title](./img/LambdaF_5.png)"
   ],
   "cell_type": "markdown",
   "metadata": {}
  },
  {
   "source": [
    "If a function is particularly complex, it may be a better choice to define a regular function rather than create a lambda, even if it will only be used once. \n",
    "\n",
    "For instance, this function below, which extracts digits from a string and then adds one to the resultant integer."
   ],
   "cell_type": "markdown",
   "metadata": {}
  },
  {
   "cell_type": "code",
   "execution_count": 26,
   "metadata": {},
   "outputs": [
    {
     "output_type": "stream",
     "name": "stdout",
     "text": [
      "124\n"
     ]
    }
   ],
   "source": [
    "import re\n",
    "\n",
    "def extract_and_increment(string):\n",
    "    digits = re.search(r'\\d+', string).group()\n",
    "    incremented = int(digits) + 1\n",
    "    return incremented\n",
    "\n",
    "\n",
    "print(extract_and_increment('pingoo123'))"
   ]
  },
  {
   "cell_type": "code",
   "execution_count": 27,
   "metadata": {},
   "outputs": [
    {
     "output_type": "stream",
     "name": "stdout",
     "text": [
      "124\n"
     ]
    }
   ],
   "source": [
    "# Lamda equivalent of the above function\n",
    "extract_and_increment = lambda string: int(re.search(r\"\\d+\", string).group()) + 1\n",
    "\n",
    "print(extract_and_increment('pingoo123'))"
   ]
  },
  {
   "cell_type": "code",
   "execution_count": 28,
   "metadata": {},
   "outputs": [
    {
     "output_type": "stream",
     "name": "stdout",
     "text": [
      "12\n"
     ]
    }
   ],
   "source": [
    "# def multiply(a, b):\n",
    "#    return a * b\n",
    "multiply = lambda a, b: a * b\n",
    "print(multiply(3, 4))"
   ]
  },
  {
   "source": [
    "#### Using Lambda Functions to Analyze JSON Data"
   ],
   "cell_type": "markdown",
   "metadata": {}
  },
  {
   "source": [
    "Assigning a lambda to a variable so it can be called by name is a pretty uncommon pattern. The primary use of lambda functions is to define a function in place, like when we are providing a function as an argument.\n",
    "![title](./img/LambdaF_6.png)"
   ],
   "cell_type": "markdown",
   "metadata": {}
  },
  {
   "cell_type": "code",
   "execution_count": 29,
   "metadata": {},
   "outputs": [
    {
     "output_type": "execute_result",
     "data": {
      "text/plain": [
       "[{'name': 'Sabine', 'age': 36, 'favorite_foods': ['Pumpkin', 'Oatmeal']},\n",
       " {'name': 'Zoe',\n",
       "  'age': 40,\n",
       "  'favorite_foods': ['Chicken', 'Pizza', 'Chocolate']},\n",
       " {'name': 'Heidi', 'age': 40, 'favorite_foods': ['Caesar Salad']}]"
      ]
     },
     "metadata": {},
     "execution_count": 29
    }
   ],
   "source": [
    "import json\n",
    "\n",
    "json_string = \"\"\"\n",
    "[\n",
    "  {\n",
    "    \"name\": \"Sabine\",\n",
    "    \"age\": 36,\n",
    "    \"favorite_foods\": [\"Pumpkin\", \"Oatmeal\"]\n",
    "  },\n",
    "  {\n",
    "    \"name\": \"Zoe\",\n",
    "    \"age\": 40,\n",
    "    \"favorite_foods\": [\"Chicken\", \"Pizza\", \"Chocolate\"]\n",
    "  },\n",
    "  {\n",
    "    \"name\": \"Heidi\",\n",
    "    \"age\": 40,\n",
    "    \"favorite_foods\": [\"Caesar Salad\"]\n",
    "  }\n",
    "]\n",
    "\"\"\"\n",
    "\n",
    "json_obj = json.loads(json_string)\n",
    "json_obj"
   ]
  },
  {
   "source": [
    "**sorted()**\n",
    "\n",
    "![title](./img/LambdaF_7.png)"
   ],
   "cell_type": "markdown",
   "metadata": {}
  },
  {
   "source": [
    "**min()**\n",
    "\n",
    "![title](./img/LambdaF_8.png)"
   ],
   "cell_type": "markdown",
   "metadata": {}
  },
  {
   "source": [
    "**max()**\n",
    "\n",
    "![title](./img/LambdaF_9.png)"
   ],
   "cell_type": "markdown",
   "metadata": {}
  },
  {
   "source": [
    "#### OBSERVATIONS\n",
    "\n",
    "* Learned that functions can be passed as arguments.\n",
    "* Created functions and used them to calculate the minimum, maximum, and to sort lists of lists.\n",
    "* Learned about lambda functions and how to create them.\n",
    "* Learned how to use a lambda function to pass an argument in place when calculating minimums, maximums, and sorting lists of lists.\n"
   ],
   "cell_type": "markdown",
   "metadata": {}
  },
  {
   "source": [
    "**Calculate the posts that had the most points in 2014**"
   ],
   "cell_type": "markdown",
   "metadata": {}
  },
  {
   "cell_type": "code",
   "execution_count": 30,
   "metadata": {
    "tags": []
   },
   "outputs": [
    {
     "output_type": "stream",
     "name": "stdout",
     "text": [
      "[\n    {\n        \"author\": \"frederfred\",\n        \"createdAt\": \"2014-03-10T15:44:42Z\",\n        \"numComments\": 398,\n        \"objectId\": \"7373566\",\n        \"points\": 2732,\n        \"storyText\": \"\",\n        \"tags\": [\n            \"story\",\n            \"author_frederfred\",\n            \"story_7373566\"\n        ],\n        \"title\": \"2048\",\n        \"url\": \"http://gabrielecirulli.github.io/2048/\"\n    },\n    {\n        \"author\": \"brokenparser\",\n        \"createdAt\": \"2014-02-11T08:12:28Z\",\n        \"numComments\": 260,\n        \"objectId\": \"7216471\",\n        \"points\": 1958,\n        \"storyText\": \"\",\n        \"tags\": [\n            \"story\",\n            \"author_brokenparser\",\n            \"story_7216471\"\n        ],\n        \"title\": \"Today is The Day We Fight Back\",\n        \"url\": \"https://thedaywefightback.org/\"\n    }\n]\n"
     ]
    },
    {
     "output_type": "execute_result",
     "data": {
      "text/plain": [
       "['2048',\n",
       " 'Today is The Day We Fight Back',\n",
       " 'Wozniak: “Actually, the movie was largely a lie about me”',\n",
       " 'Microsoft Open Sources C# Compiler',\n",
       " 'Elon Musk: To the People of New Jersey']"
      ]
     },
     "metadata": {},
     "execution_count": 30
    }
   ],
   "source": [
    "hn_sorted_points = sorted(hn_clean, key=lambda d: d['points'], reverse=True)\n",
    "jprint(hn_sorted_points[0:2])\n",
    "\n",
    "top_5_titles = [d['title'] for d in hn_sorted_points[:5]]\n",
    "top_5_titles"
   ]
  },
  {
   "source": [
    "#### Reading JSON Files into Pandas\n",
    "Pandas has the **pandas.read_json()** function, which is designed to read JSON from either a file or a JSON string. In our case, our JSON exists as Python objects already, so we don't need to use this function.\n",
    "\n",
    "Because the structure of JSON objects can vary a lot, sometimes you will need to prepare your data in order to be able to convert it to a tabular form. In our case, our data is a list of dictionaries, which pandas is easily able to convert to a dataframe."
   ],
   "cell_type": "markdown",
   "metadata": {}
  },
  {
   "cell_type": "code",
   "execution_count": 31,
   "metadata": {},
   "outputs": [
    {
     "output_type": "stream",
     "name": "stdout",
     "text": [
      "[\n    {\n        \"age\": 36,\n        \"favorite_foods\": [\n            \"Pumpkin\",\n            \"Oatmeal\"\n        ],\n        \"name\": \"Sabine\"\n    },\n    {\n        \"age\": 40,\n        \"favorite_foods\": [\n            \"Chicken\",\n            \"Pizza\",\n            \"Chocolate\"\n        ],\n        \"name\": \"Zoe\"\n    },\n    {\n        \"age\": 40,\n        \"favorite_foods\": [\n            \"Caesar Salad\"\n        ],\n        \"name\": \"Heidi\"\n    }\n]\n"
     ]
    }
   ],
   "source": [
    "jprint(json_obj)"
   ]
  },
  {
   "source": [
    "Each of the dictionaries will become a row in the dataframe, with each key corresponding to a column name.\n",
    "![title](./img/Json_2.png)"
   ],
   "cell_type": "markdown",
   "metadata": {}
  },
  {
   "source": [
    "We can use the **pandas.DataFrame()** constructor and pass the list of dictionaries directly to it to convert the JSON to a dataframe:"
   ],
   "cell_type": "markdown",
   "metadata": {}
  },
  {
   "cell_type": "code",
   "execution_count": 32,
   "metadata": {},
   "outputs": [
    {
     "output_type": "stream",
     "name": "stdout",
     "text": [
      "     name  age               favorite_foods\n0  Sabine   36           [Pumpkin, Oatmeal]\n1     Zoe   40  [Chicken, Pizza, Chocolate]\n2   Heidi   40               [Caesar Salad]\n"
     ]
    }
   ],
   "source": [
    "json_df = pd.DataFrame(json_obj)\n",
    "print(json_df)"
   ]
  },
  {
   "cell_type": "code",
   "execution_count": 33,
   "metadata": {},
   "outputs": [
    {
     "output_type": "execute_result",
     "data": {
      "text/plain": [
       "           author  numComments  points  \\\n",
       "0  dragongraphics            0       2   \n",
       "1             jcr            0       1   \n",
       "2        callum85            0       1   \n",
       "3          d3v3r0            0       1   \n",
       "4      timmipetit            0       1   \n",
       "\n",
       "                                                 url storyText  \\\n",
       "0  http://ashleynolan.co.uk/blog/are-we-getting-t...             \n",
       "1  http://spectrum.ieee.org/automaton/robotics/ho...             \n",
       "2  http://online.wsj.com/articles/apple-to-buy-be...             \n",
       "3  http://alexsblog.org/2014/05/29/dont-wait-for-...             \n",
       "4  http://techcrunch.com/2014/05/28/hackerone-get...             \n",
       "\n",
       "              createdAt                                           tags  \\\n",
       "0  2014-05-29T08:07:50Z  [story, author_dragongraphics, story_7815238]   \n",
       "1  2014-05-29T08:05:58Z             [story, author_jcr, story_7815234]   \n",
       "2  2014-05-29T08:05:06Z        [story, author_callum85, story_7815230]   \n",
       "3  2014-05-29T08:00:08Z          [story, author_d3v3r0, story_7815222]   \n",
       "4  2014-05-29T07:46:19Z      [story, author_timmipetit, story_7815191]   \n",
       "\n",
       "                                               title objectId  \n",
       "0  Are we getting too Sassy? Weighing up micro-op...  7815238  \n",
       "1  Telemba Turns Your Old Roomba and Tablet Into ...  7815234  \n",
       "2           Apple Agrees to Buy Beats for $3 Billion  7815230  \n",
       "3                         Don’t wait for inspiration  7815222  \n",
       "4  HackerOne Get $9M In Series A Funding To Build...  7815191  "
      ],
      "text/html": "<div>\n<style scoped>\n    .dataframe tbody tr th:only-of-type {\n        vertical-align: middle;\n    }\n\n    .dataframe tbody tr th {\n        vertical-align: top;\n    }\n\n    .dataframe thead th {\n        text-align: right;\n    }\n</style>\n<table border=\"1\" class=\"dataframe\">\n  <thead>\n    <tr style=\"text-align: right;\">\n      <th></th>\n      <th>author</th>\n      <th>numComments</th>\n      <th>points</th>\n      <th>url</th>\n      <th>storyText</th>\n      <th>createdAt</th>\n      <th>tags</th>\n      <th>title</th>\n      <th>objectId</th>\n    </tr>\n  </thead>\n  <tbody>\n    <tr>\n      <th>0</th>\n      <td>dragongraphics</td>\n      <td>0</td>\n      <td>2</td>\n      <td>http://ashleynolan.co.uk/blog/are-we-getting-t...</td>\n      <td></td>\n      <td>2014-05-29T08:07:50Z</td>\n      <td>[story, author_dragongraphics, story_7815238]</td>\n      <td>Are we getting too Sassy? Weighing up micro-op...</td>\n      <td>7815238</td>\n    </tr>\n    <tr>\n      <th>1</th>\n      <td>jcr</td>\n      <td>0</td>\n      <td>1</td>\n      <td>http://spectrum.ieee.org/automaton/robotics/ho...</td>\n      <td></td>\n      <td>2014-05-29T08:05:58Z</td>\n      <td>[story, author_jcr, story_7815234]</td>\n      <td>Telemba Turns Your Old Roomba and Tablet Into ...</td>\n      <td>7815234</td>\n    </tr>\n    <tr>\n      <th>2</th>\n      <td>callum85</td>\n      <td>0</td>\n      <td>1</td>\n      <td>http://online.wsj.com/articles/apple-to-buy-be...</td>\n      <td></td>\n      <td>2014-05-29T08:05:06Z</td>\n      <td>[story, author_callum85, story_7815230]</td>\n      <td>Apple Agrees to Buy Beats for $3 Billion</td>\n      <td>7815230</td>\n    </tr>\n    <tr>\n      <th>3</th>\n      <td>d3v3r0</td>\n      <td>0</td>\n      <td>1</td>\n      <td>http://alexsblog.org/2014/05/29/dont-wait-for-...</td>\n      <td></td>\n      <td>2014-05-29T08:00:08Z</td>\n      <td>[story, author_d3v3r0, story_7815222]</td>\n      <td>Don’t wait for inspiration</td>\n      <td>7815222</td>\n    </tr>\n    <tr>\n      <th>4</th>\n      <td>timmipetit</td>\n      <td>0</td>\n      <td>1</td>\n      <td>http://techcrunch.com/2014/05/28/hackerone-get...</td>\n      <td></td>\n      <td>2014-05-29T07:46:19Z</td>\n      <td>[story, author_timmipetit, story_7815191]</td>\n      <td>HackerOne Get $9M In Series A Funding To Build...</td>\n      <td>7815191</td>\n    </tr>\n  </tbody>\n</table>\n</div>"
     },
     "metadata": {},
     "execution_count": 33
    }
   ],
   "source": [
    "import pandas as pandas\n",
    "\n",
    "hn_df = pd.DataFrame(hn_clean)\n",
    "hn_df.head()"
   ]
  },
  {
   "source": [
    "#### Exploring Tags Using the Apply FUnction"
   ],
   "cell_type": "markdown",
   "metadata": {}
  },
  {
   "source": [
    "Just like the favorite_food column in our example data on the previous screen, the tags column is a column where each item contains the list of data from our original JSON.\n",
    "\n",
    "At first glance, it looks like each values in this JSON list contain three items:\n",
    "\n",
    "1. The string story\n",
    "2. The name of the author\n",
    "3. The story ID\n"
   ],
   "cell_type": "markdown",
   "metadata": {}
  },
  {
   "cell_type": "code",
   "execution_count": 34,
   "metadata": {},
   "outputs": [
    {
     "output_type": "stream",
     "name": "stdout",
     "text": [
      "object\n"
     ]
    }
   ],
   "source": [
    "tags = hn_df['tags']\n",
    "print(tags.dtype)"
   ]
  },
  {
   "source": [
    "The tags column is stored as an object type. Whenever pandas uses the object type, each item in the series uses a Python object to store the data. Most commonly we see this type used for string data.\n",
    "\n",
    "We previously learned that we could use the Series.apply() method to apply a function to every item in a series. Let's look at what we get when we pass the type() function as an argument to the column:\n"
   ],
   "cell_type": "markdown",
   "metadata": {}
  },
  {
   "cell_type": "code",
   "execution_count": 35,
   "metadata": {},
   "outputs": [
    {
     "output_type": "stream",
     "name": "stdout",
     "text": [
      "<class 'list'>    35806\nName: tags, dtype: int64\n"
     ]
    }
   ],
   "source": [
    "tags_types = tags.apply(type)\n",
    "type_counts = tags_types.value_counts(dropna=False)\n",
    "print(type_counts)"
   ]
  },
  {
   "cell_type": "code",
   "execution_count": 36,
   "metadata": {},
   "outputs": [
    {
     "output_type": "stream",
     "name": "stdout",
     "text": [
      "3    33459\n4     2347\nName: tags, dtype: int64\n"
     ]
    }
   ],
   "source": [
    "tags_types = tags.apply(len)\n",
    "type_lengths = tags_types.value_counts(dropna=False)\n",
    "print(type_lengths)"
   ]
  },
  {
   "cell_type": "code",
   "execution_count": 37,
   "metadata": {},
   "outputs": [
    {
     "output_type": "execute_result",
     "data": {
      "text/plain": [
       "43       [story, author_alamgir_mand, story_7813869, sh...\n",
       "86         [story, author_cweagans, story_7812404, ask_hn]\n",
       "104      [story, author_nightstrike789, story_7812099, ...\n",
       "107      [story, author_ISeemToBeAVerb, story_7812048, ...\n",
       "109         [story, author_Swizec, story_7812018, show_hn]\n",
       "                               ...                        \n",
       "35747      [story, author_rpm4321, story_6994970, show_hn]\n",
       "35759            [story, author_ct, story_6994828, ask_hn]\n",
       "35778    [story, author_ChrisNorstrom, story_6994370, a...\n",
       "35787    [story, author_benjamincburns, story_6994163, ...\n",
       "35792      [story, author_randall, story_6993981, show_hn]\n",
       "Name: tags, Length: 2347, dtype: object"
      ]
     },
     "metadata": {},
     "execution_count": 37
    }
   ],
   "source": [
    "tags = hn_df['tags']\n",
    "has_four_tags = tags.apply(len) == 4\n",
    "four_tags = tags[has_four_tags]\n",
    "four_tags"
   ]
  },
  {
   "source": [
    "#### Extracting Tags Using Apply with a Lambda Function\n",
    "![title](./img/Tags_2.png)\n",
    "\n",
    "![title](./img/Tags_3.png)"
   ],
   "cell_type": "markdown",
   "metadata": {}
  },
  {
   "cell_type": "code",
   "execution_count": 38,
   "metadata": {},
   "outputs": [
    {
     "output_type": "execute_result",
     "data": {
      "text/plain": [
       "0        None\n",
       "1        None\n",
       "2        None\n",
       "3        None\n",
       "4        None\n",
       "         ... \n",
       "35801    None\n",
       "35802    None\n",
       "35803    None\n",
       "35804    None\n",
       "35805    None\n",
       "Name: tags, Length: 35806, dtype: object"
      ]
     },
     "metadata": {},
     "execution_count": 38
    }
   ],
   "source": [
    "# def extract_tag(l):\n",
    "#     return l[-1] if len(l) == 4 else None\n",
    "\n",
    "cleaned_tags = tags.apply(lambda l: l[-1] if len(l) == 4 else None)\n",
    "hn_df['tags'] = cleaned_tags\n",
    "cleaned_tags"
   ]
  }
 ],
 "metadata": {
  "hide_input": false,
  "kernelspec": {
   "display_name": "Python 3",
   "language": "python",
   "name": "python3"
  },
  "language_info": {
   "codemirror_mode": {
    "name": "ipython",
    "version": 3
   },
   "file_extension": ".py",
   "mimetype": "text/x-python",
   "name": "python",
   "nbconvert_exporter": "python",
   "pygments_lexer": "ipython3",
   "version": "3.7.9-final"
  },
  "latex_envs": {
   "LaTeX_envs_menu_present": true,
   "autoclose": false,
   "autocomplete": true,
   "bibliofile": "biblio.bib",
   "cite_by": "apalike",
   "current_citInitial": 1,
   "eqLabelWithNumbers": true,
   "eqNumInitial": 1,
   "hotkeys": {
    "equation": "Ctrl-E",
    "itemize": "Ctrl-I"
   },
   "labels_anchors": false,
   "latex_user_defs": false,
   "report_style_numbering": false,
   "user_envs_cfg": false
  },
  "toc": {
   "base_numbering": 1,
   "nav_menu": {},
   "number_sections": true,
   "sideBar": true,
   "skip_h1_title": false,
   "title_cell": "Table of Contents",
   "title_sidebar": "Contents",
   "toc_cell": false,
   "toc_position": {},
   "toc_section_display": true,
   "toc_window_display": false
  },
  "varInspector": {
   "cols": {
    "lenName": 16,
    "lenType": 16,
    "lenVar": 40
   },
   "kernels_config": {
    "python": {
     "delete_cmd_postfix": "",
     "delete_cmd_prefix": "del ",
     "library": "var_list.py",
     "varRefreshCmd": "print(var_dic_list())"
    },
    "r": {
     "delete_cmd_postfix": ") ",
     "delete_cmd_prefix": "rm(",
     "library": "var_list.r",
     "varRefreshCmd": "cat(var_dic_list()) "
    }
   },
   "types_to_exclude": [
    "module",
    "function",
    "builtin_function_or_method",
    "instance",
    "_Feature"
   ],
   "window_display": false
  }
 },
 "nbformat": 4,
 "nbformat_minor": 4
}