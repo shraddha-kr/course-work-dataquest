{
 "metadata": {
  "language_info": {
   "codemirror_mode": {
    "name": "ipython",
    "version": 3
   },
   "file_extension": ".py",
   "mimetype": "text/x-python",
   "name": "python",
   "nbconvert_exporter": "python",
   "pygments_lexer": "ipython3",
   "version": 3
  },
  "orig_nbformat": 2
 },
 "nbformat": 4,
 "nbformat_minor": 2,
 "cells": [
  {
   "source": [
    "### Conditional Probability Fundamentals\n",
    "\n",
    "REFERENCES\n",
    "\n",
    "https://www.mathsisfun.com/data/probability-events-conditional.html\n",
    "https://en.wikipedia.org/wiki/Conditional_probability\n",
    "\n",
    "\n",
    "OBJECTIVE\n",
    "* Learning how to calculate Probabilities based on certain conditions.\n",
    "* Assign probabilities to events based on certain **conditions** by using **conditional probability** rules.\n",
    "* Assign probabilities to events based on whether they are in a relationship of statistical independence or not with other events.\n",
    "* Assign probabilities to events based on prior knowledge by using Bayes' theorem.\n",
    "* Create a spam filter for SMS messages using the multinomial Naive Bayes algorithm."
   ],
   "cell_type": "markdown",
   "metadata": {}
  },
  {
   "source": [
    "#### Re-Cap\n",
    "\n",
    "![title](./img/1_conPro.png)\n",
    "\n",
    "Consider rolling a fair six-sided die once and calculate:\n",
    "\n",
    "    1. The probability of getting a 2. Assign your answer to p_2.\n",
    "    2. The probability of getting an odd number (1, 3, or 5). Assign your answer to p_odd.\n",
    "    3. The probability of getting a 2 or a 4, Assign your answer to p_2_or_4.\n",
    "\n",
    "\n",
    "p_2 = 1/6\n",
    "\n",
    "p_odd = 3/6\n",
    "\n",
    "p_2_or_4 = 2/6\n"
   ],
   "cell_type": "markdown",
   "metadata": {}
  },
  {
   "source": [
    "#### Updating Probabilities\n",
    "\n",
    "Now suppose the die is rolled and we're told some new information: the die showed an odd number (1, 3, or 5) after landing. Is the probability of getting a 5 still P(5)=1/6? Or should we instead update the probability based on the information we have?\n",
    "\n",
    "When we don't know whether the number is odd, the possible outcomes of the experiment are 1, 2, 3, 4, 5, or 6. But after we find out the number is odd, the possible outcomes are 1, 3, or 5. In other words, the new information we got reduced the sample space from {1, 2, 3, 4, 5, 6} to {1, 3, 5}:\n",
    "\n",
    "![title](./img/2_conPro.png)\n",
    "\n",
    "A fair six-sided die is rolled. All we know is that **the number we got is less than 5**. Calculate:\n",
    "\n",
    "    1. The probability of getting a 3. Assign your answer to p_3.\n",
    "    2. The probability of getting a 6. Assign your answer to p_6.\n",
    "    3. The probability of getting an odd number. Assign your answer to p_odd.\n",
    "    4. The probability of getting an even number Assign your answer to p_even.\n",
    "\n",
    "\n",
    "p_3 = 1/4\n",
    "\n",
    "p_6 = 0/4\n",
    "\n",
    "p_odd = 2/4\n",
    "\n",
    "p_even = 2/4\n"
   ],
   "cell_type": "markdown",
   "metadata": {}
  },
  {
   "source": [
    "#### Conditional Probability\n",
    "\n",
    "![title](./img/3_conPro.png)\n",
    "\n",
    "For notation simplicity, P(5 given the die showed an odd number) becomes \n",
    "**P(5 | odd)**. The vertical bar character **( | )** should be read as **\"given.\"** We can read **P(5 | odd)**\n",
    "\n",
    "as **\"the probability of getting a 5 given that the die showed an odd number.\"**\n",
    "\n",
    "Another way to read **P(5 | odd)**\n",
    "is \"the probability of getting a 5 with the condition that the die showed an odd number.\" For this reason, we can also call **P(5 | odd)** the conditional probability of getting a 5 given the die showed an odd number."
   ],
   "cell_type": "markdown",
   "metadata": {}
  },
  {
   "source": [
    "A student is randomly selected from a class. All we know is that he was born during winter. Assume the winter months are December, January, and February and ignore the fact that these three months have different number of days. Find:\n",
    "\n",
    "    1. The probability that he was born in December. Assign your answer to p_december.\n",
    "    2. The probability that he was born during summer. Assign your answer to p_summer.\n",
    "    3. The probability that he was born in a month which ends in letter \"r\" — \"September\", for instance, ends in \"r\", while \"April\" doesn't. Assign your answer to p_ends_r\n",
    "\n",
    "    p_december = 1/3\n",
    "    p_summer = 0/3\n",
    "    p_ends_r = 1/3"
   ],
   "cell_type": "markdown",
   "metadata": {}
  },
  {
   "source": [
    "#### Conditional Probability Formula\n",
    "\n",
    "![title](./img/4_conPro.png)\n",
    "![title](./img/5_conPro.png)\n",
    "![title](./img/6_conPro.png)\n",
    "![title](./img/7_conPro.png)"
   ],
   "cell_type": "markdown",
   "metadata": {}
  },
  {
   "source": [
    "![title](./img/8_conPro.png)\n",
    "![title](./img/9_conPro.png)\n",
    "\n"
   ],
   "cell_type": "markdown",
   "metadata": {}
  }
 ]
}