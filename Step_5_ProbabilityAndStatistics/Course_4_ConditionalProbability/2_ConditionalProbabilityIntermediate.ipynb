{
 "metadata": {
  "language_info": {
   "codemirror_mode": {
    "name": "ipython",
    "version": 3
   },
   "file_extension": ".py",
   "mimetype": "text/x-python",
   "name": "python",
   "nbconvert_exporter": "python",
   "pygments_lexer": "ipython3",
   "version": 3
  },
  "orig_nbformat": 2
 },
 "nbformat": 4,
 "nbformat_minor": 2,
 "cells": [
  {
   "source": [
    "### Condtional Probability Intermediate\n",
    "\n",
    "![title](./img/11_conPro.png)\n",
    "![title](./img/12_conPro.png)"
   ],
   "cell_type": "markdown",
   "metadata": {}
  }
 ]
}