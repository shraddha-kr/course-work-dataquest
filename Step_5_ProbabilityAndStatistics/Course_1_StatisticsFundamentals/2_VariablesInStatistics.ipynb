{
 "metadata": {
  "language_info": {
   "codemirror_mode": {
    "name": "ipython",
    "version": 3
   },
   "file_extension": ".py",
   "mimetype": "text/x-python",
   "name": "python",
   "nbconvert_exporter": "python",
   "pygments_lexer": "ipython3",
   "version": 3
  },
  "orig_nbformat": 2
 },
 "nbformat": 4,
 "nbformat_minor": 2,
 "cells": [
  {
   "source": [
    "### Variable Statistics\n",
    "\n",
    "### Introduction & Definition\n",
    "We'll focus on understanding the structural parts of a dataset, and how they're measured.\n",
    "Whether a sample or a population, a dataset is generally an attempt to describe correctly a relatively small part of the world. \n",
    "Other datasets might attempt to describe the stock market, patient symptoms, stars from galaxies other than ours, movie ratings, customer purchases, and all sorts of other things.\n",
    "\n",
    "The things we want to describe usually have a myriad of properties. A human, for instance, besides the property of being a human, can also have properties like height, weight, age, name, hair color, gender, nationality, whether they're married or not, whether they have a job or not, etc.\n",
    "In practice, we limit ourselves to the properties relevant to the questions we want to answer, and to the properties that we can actually measure.\n",
    "\n",
    "Each row describes an individual having a series of properties: name, team, position on the field, height, etc. For most properties, the values vary from row to row. All players have a height, for example, but the height values vary from player to player.\n",
    "\n",
    "The properties with varying values we call **variables**. The height property in our dataset is an example of a variable. In fact, all the properties described in our dataset are variables.\n",
    "\n",
    "A row in our dataset describes the actual values that each variable takes for a given individual."
   ],
   "cell_type": "markdown",
   "metadata": {}
  },
  {
   "source": [
    "### Quantitative & Qualitative Variables\n",
    "Variables in statistics can describe either **quantities**, or **qualities**.\n",
    "Generally, a variable that describes how much there is of something describes a quantity, and, for this reason, it's called a **quantitative variable**.\n",
    "Usually, quantitative variables describe a quantity using real numbers, but there are also cases when words are used instead. Height, for example,can be described using real numbers, like in our dataset, but it can also be described using labels like \"tall\" or \"short\".\n",
    "\n",
    "The Name, Team, and College variables describe for each individual a quality, that is, a property that is not quantitative. Variables that describe qualities are called **qualitative variables** or **categorical variables**. Generally, qualitative variables describe what or how something is.\n",
    "Usually, qualitative variables describe qualities using words, but numbers can also be used. For instance, the number of a player's shirt or the number of a racing car are described using numbers. The numbers don't bear any quantitative meaning though, they are just names, not quantities.\n",
    "\n",
    "![title](./img/1_V.png)\n",
    "\n",
    "You can find useful documentation about each variable [here](https://www.basketball-reference.com/about/glossary.html) and [here](https://www.kaggle.com/jinxbe/wnba-player-stats-2017)."
   ],
   "cell_type": "markdown",
   "metadata": {}
  },
  {
   "cell_type": "code",
   "execution_count": null,
   "metadata": {},
   "outputs": [],
   "source": [
    "# For each of the variables selected, indicate whether it's quantitative or qualitative.\n",
    "import pandas as pd\n",
    "wnba = pd.read_csv('wnba.csv')\n",
    "\n",
    "variables = {'Name': 'qualitative', 'Team': 'qualitative', 'Pos': 'qualitative', 'Height': 'quantitative', 'BMI': 'quantitative',\n",
    "             'Birth_Place': 'qualitative', 'Birthdate': 'quantitative', 'Age': 'quantitative', 'College': 'qualitative', 'Experience': 'quantitative',\n",
    "             'Games Played': 'quantitative', 'MIN': 'quantitative', 'FGM': 'quantitative', 'FGA': 'quantitative',\n",
    "             '3PA': 'quantitative', 'FTM': 'quantitative', 'FTA': 'quantitative', 'FT%': 'quantitative', 'OREB': 'quantitative', 'DREB': 'quantitative',\n",
    "             'REB': 'quantitative', 'AST': 'quantitative', 'PTS': 'quantitative'}"
   ]
  },
  {
   "source": [
    "### Scales Of Measurement\n",
    "The amount of information a variable provides depends on its nature (whether it's quantitative or qualitative), and on the way it's measured.\n",
    "\n",
    "For instance, if we analyze the Team variable for any two individuals:\n",
    "\n",
    "    We can tell whether or not the two individuals are different from each other with respect to the team they play.\n",
    "    But if there's a difference:\n",
    "        We can't tell the size of the difference.\n",
    "        We can't tell the direction of the difference - we can't say that team A is greater or less than team B.\n",
    "\n",
    "On the other side, if we analyze the Height variable:\n",
    "\n",
    "    We can tell whether or not two individuals are different.\n",
    "    If there's a difference:\n",
    "        We can tell the size of the difference. If player A has 190 cm and player B has 192 cm, then the difference between the two is 2 cm.\n",
    "        We can tell the direction of the difference from each perspective: player A has 2 cm less than player B, and player B has 2 cm more than player A.\n",
    "![title](./img/2_Variables.png)\n",
    "\n",
    "The Team and Height variables provide different amounts of information because they have a different **nature** (one is qualitative, the other quantitative), and because they are measured differently.\n",
    "\n",
    "The system of rules that define how each variable is measured is called **scale of measurement** or, less often, level of measurement.\n",
    "\n",
    "In the next screens, we'll learn about a system of measurement made up of four different scales of measurement: **nominal, ordinal, interval, and ratio**. As we'll see, the characteristics of each **scale pivot** around three main questions:\n",
    "\n",
    "    Can we tell whether two individuals are different?\n",
    "    Can we tell the direction of the difference?\n",
    "    Can we tell the size of the difference?\n"
   ],
   "cell_type": "markdown",
   "metadata": {}
  },
  {
   "source": [
    "### The Nominal Scale\n"
   ],
   "cell_type": "markdown",
   "metadata": {}
  }
 ]
}