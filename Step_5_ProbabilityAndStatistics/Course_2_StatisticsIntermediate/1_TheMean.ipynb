{
 "metadata": {
  "language_info": {
   "codemirror_mode": {
    "name": "ipython",
    "version": 3
   },
   "file_extension": ".py",
   "mimetype": "text/x-python",
   "name": "python",
   "nbconvert_exporter": "python",
   "pygments_lexer": "ipython3",
   "version": "3.7.9-final"
  },
  "orig_nbformat": 2,
  "kernelspec": {
   "name": "python3",
   "display_name": "Python 3",
   "language": "python"
  }
 },
 "nbformat": 4,
 "nbformat_minor": 2,
 "cells": [
  {
   "source": [
    "### The MEAN\n",
    "\n"
   ],
   "cell_type": "markdown",
   "metadata": {}
  },
  {
   "source": [
    "![title](./img/1_mean.png)\n",
    "\n",
    "![title](./img/2_mean.png)\n",
    "\n",
    "![title](./img/3_mean.png)"
   ],
   "cell_type": "markdown",
   "metadata": {}
  },
  {
   "cell_type": "code",
   "execution_count": 1,
   "metadata": {},
   "outputs": [
    {
     "output_type": "execute_result",
     "data": {
      "text/plain": [
       "True"
      ]
     },
     "metadata": {},
     "execution_count": 1
    }
   ],
   "source": [
    "distribution = [0,2,3,3,3,4,13]\n",
    "\n",
    "mean = (sum(distribution))/len(distribution)\n",
    "center = False\n",
    "\n",
    "above = []\n",
    "below = []\n",
    "\n",
    "for value in distribution:\n",
    "    if value < mean:\n",
    "        below.append(mean - value)\n",
    "    if value > mean:\n",
    "        above.append(value - mean)\n",
    "        \n",
    "equal_distances = sum(above) == sum(below)\n",
    "equal_distances"
   ]
  },
  {
   "source": [
    "#### The MEAN as a Balance Point\n",
    "\n",
    "![title](./img/4_mean.png)\n",
    "\n",
    "![title](./img/5_mean.png)\n",
    "\n",
    "![title](./img/6_lever.png)\n",
    "\n",
    "![title](./img/7_rod.png)\n",
    "\n",
    "**If the total distances above and below the mean were equivalent to the forces exerted by the weights on the rod of the lever, then there would be the same amount of force exerted on each side of the mean. This will make the rod stay in perfect equilibrium. The total distances below the mean equal the total distances above the mean.**"
   ],
   "cell_type": "markdown",
   "metadata": {}
  },
  {
   "cell_type": "code",
   "execution_count": 2,
   "metadata": {},
   "outputs": [
    {
     "output_type": "stream",
     "name": "stdout",
     "text": [
      "5000\n"
     ]
    }
   ],
   "source": [
    "# Check the rule 'Total distances below the mean equal the total distances above the mean' by measuring the distances for 5000 different distributions below\n",
    "from numpy.random import randint, seed\n",
    "equal_distances = 0\n",
    "\n",
    "for i in range(5000):\n",
    "    seed(i)\n",
    "    distribution = randint(0, 1000, 10)\n",
    "\n",
    "    mean = sum(distribution) / len(distribution)\n",
    "\n",
    "    above = []\n",
    "    below = []\n",
    "    for value in distribution:\n",
    "        if value == mean:\n",
    "            continue #Continue with the next iteration because the distance is 0\n",
    "        if value < mean:\n",
    "            below.append(mean - value)\n",
    "        if value > mean:\n",
    "            above.append(value - mean)\n",
    "\n",
    "    sum_above = round(sum(above), 1)\n",
    "    sum_below = round(sum(below), 1)  \n",
    "\n",
    "    if (sum_above == sum_below):\n",
    "        equal_distances += 1  \n",
    "\n",
    "print(equal_distances)        "
   ]
  },
  {
   "source": [
    "#### Defining the MEAN Algebraically\n",
    "\n",
    "![title](./img/4_1_mean.png)\n",
    "![title](./img/4_2_mean.png)\n",
    "![title](./img/4_3_mean.png)"
   ],
   "cell_type": "markdown",
   "metadata": {}
  },
  {
   "source": [
    "#### An Alternative Definition\n",
    "\n",
    "![title](./img/6_mean.png)\n",
    "\n",
    "![title](./img/7_mean.png)\n",
    "\n",
    "![title](./img/8_mean.png)\n",
    "\n",
    "![title](./img/9_mean.png)"
   ],
   "cell_type": "markdown",
   "metadata": {}
  },
  {
   "cell_type": "code",
   "execution_count": null,
   "metadata": {},
   "outputs": [],
   "source": [
    "# Write a function that takes in an array of numbers and returns its mean value.\n",
    "\n",
    "distribution_1 = [42, 24, 32, 11]\n",
    "distribution_2 = [102, 32, 74, 15, 38, 45, 22]\n",
    "distribution_3 = [3, 12, 7, 2, 15, 1, 21]\n",
    "\n",
    "def mean(distribution):\n",
    "    sum_distribution = 0\n",
    "    for value in distribution:\n",
    "        sum_distribution += value\n",
    "\n",
    "    return sum_distribution / len(distribution)\n",
    "\n",
    "mean_1 = round(mean(distribution_1), 1)\n",
    "mean_2 = round(mean(distribution_2), 1)\n",
    "mean_3 = round(mean(distribution_3), 1)\n",
    "\n",
    "print(mean_1, mean_2, mean_3)"
   ]
  },
  {
   "source": [
    "#### Data Set Details\n",
    "The data set was collected by professor Dean DeCock. He described in great detail the data collection process [in this paper](https://www.tandfonline.com/doi/abs/10.1080/10691898.2011.11889627) published in the Journal of Statistics Education. The documentation of the data set can be found [here](https://s3.amazonaws.com/dq-content/307/data_description.txt).\n",
    "\n",
    "We slightly modified the original data set for teaching purposes. You can download the original data set from [here](https://s3.amazonaws.com/dq-content/305/AmesHousing.txt)"
   ],
   "cell_type": "markdown",
   "metadata": {}
  },
  {
   "cell_type": "code",
   "execution_count": null,
   "metadata": {},
   "outputs": [],
   "source": [
    "import pandas as pd\n",
    "\n",
    "houses = pd.read_table('./datasets/AmesHousing_1.txt')\n",
    "houses.head()"
   ]
  },
  {
   "cell_type": "code",
   "execution_count": null,
   "metadata": {},
   "outputs": [],
   "source": [
    "print('MEAN - ',houses['SalePrice'].mean())\n",
    "\n",
    "houses['SalePrice'].describe()"
   ]
  },
  {
   "source": [
    "#### MEAN House Prices\n",
    "\n"
   ],
   "cell_type": "markdown",
   "metadata": {}
  },
  {
   "cell_type": "code",
   "execution_count": null,
   "metadata": {},
   "outputs": [],
   "source": [
    "def mean(distribution):\n",
    "    sum_distribution = 0\n",
    "    for value in distribution:\n",
    "        sum_distribution += value\n",
    "        \n",
    "    return sum_distribution / len(distribution)\n",
    "\n",
    "function_mean = mean(houses['SalePrice'])\n",
    "\n",
    "pandas_mean = houses['SalePrice'].mean()\n",
    "\n",
    "means_are_equal = function_mean == pandas_mean\n",
    "\n",
    "print(function_mean, pandas_mean, means_are_equal)"
   ]
  },
  {
   "source": [
    "In practice, we almost always work with samples. But most of the times we're not interested in answering questions about samples — we want to answer questions about populations. A lot of the questions we want to answer in practice can be reduced to finding the mean of a population:\n",
    "\n",
    "    What is the mean amount of money our customers spent last year on our website?\n",
    "    What is the mean amount of time customers spent daily the first week after the promotion we ran? How does that compare to the mean amount of time spent daily in the week before the promotion?\n",
    "    What is the mean sale price of a house in Ames, Iowa for the period 2006-2010?\n",
    "\n",
    "When we only have a sample but want to find the mean in the population, the best we can do is to compute the sample mean ¯x\n",
    "and hope it's a good estimate for the population mean μ. When estimating the population mean μ using the sample mean ¯x, there are three possible scenarios:\n",
    "\n",
    "The sample mean ¯x overestimates the population mean μ. This means that ¯x>μ\n",
    "The sample mean ¯x underestimates the population mean μ. This means that ¯x<μ\n",
    "The sample mean ¯x\n",
    "is equal to the population mean μ. This means that ¯x=μ\n",
    "\n",
    "\n",
    "When ¯x>μ and ¯x<μ, sampling error occurs. Remember that **sampling error is given by the difference between a population's parameter and a sample's statistic**. μ is a parameter, and ¯x is a statistic, so the sampling error is given by:\n",
    "\n",
    "**sampling error=μ −¯x**\n",
    "\n",
    "Our aim is to reduce the sampling error. Two important factors that influence the sampling error are:\n",
    "\n",
    "**Sample representativity** — the more representative a sample is, the closer ¯x will be to μ\n",
    "**Sample size** — the larger the sample, the more chances we have to get a representative sample. By consequence, this means less sampling error.\n",
    "\n",
    "**This emphasizes once more the importance of the sampling process, where we should try our best to get a representative sample.\n",
    "We'll try to visualize on a scatter plot how the sampling error changes as we increase the sample size.**"
   ],
   "cell_type": "markdown",
   "metadata": {}
  },
  {
   "cell_type": "code",
   "execution_count": null,
   "metadata": {},
   "outputs": [],
   "source": [
    "parameter = houses['SalePrice'].mean()\n",
    "sample_size = 5\n",
    "\n",
    "sample_sizes = []\n",
    "sampling_errors = []\n",
    "\n",
    "for i in range(101):\n",
    "    sample = houses['SalePrice'].sample(sample_size , random_state = i)\n",
    "    statistic = sample.mean()\n",
    "    sampling_error = parameter - statistic\n",
    "    sampling_errors.append(sampling_error)\n",
    "    sample_sizes.append(sample_size)\n",
    "    sample_size += 29\n",
    "    \n",
    "import matplotlib.pyplot as plt\n",
    "plt.scatter(sample_sizes, sampling_errors)\n",
    "plt.axhline(0)\n",
    "plt.axvline(2930)\n",
    "plt.xlabel('Sample size')\n",
    "plt.ylabel('Sampling error')"
   ]
  },
  {
   "source": [
    "#### Estimates from Low-sized Samples\n",
    "We've seen in the previous exercise that the general tendency for the sampling error is to decrease as the sample size increases. This tendency, however, has exceptions. For instance, there are cases where small sample sizes (100-500 sample points) gave us better estimates for the population mean μ than large sample sizes (2500 sample points or more) did.\n",
    "![title](./img/10_mean.png)\n",
    "\n",
    "For any given sample size, we can have many combinations of values. For instance, for a sample size of 3, we can have many possible combinations of sale prices: [220000, 143000, 281000], [123600, 209500, 202665], [287000, 142500, 440000], etc. Most of the samples of size 3 will give a good estimate of the population mean μ\n",
    "\n",
    "To prove this point, in the code below we will:\n",
    "\n",
    "    * Measure the mean for 10000 samples of size 3.\n",
    "    * Use a histogram to visualize the distribution of the sample means.\n",
    "    * Draw a vertical line corresponding to the population mean μ"
   ],
   "cell_type": "markdown",
   "metadata": {}
  },
  {
   "cell_type": "code",
   "execution_count": null,
   "metadata": {},
   "outputs": [],
   "source": [
    "means = []\n",
    "for i in range(10000):\n",
    "    sample = houses['SalePrice'].sample(3, random_state=i)\n",
    "    means.append(sample.mean())\n",
    "\n",
    "plt.hist(means)    \n",
    "plt.axvline(houses['SalePrice'].mean())"
   ]
  },
  {
   "source": [
    "We can see that most sample means cluster around the population mean. This means that when we take a sample of size 3 and compute ¯x, we have fairly good chances to get a good estimate for the population mean μ.\n",
    "This explains what we've seen in the scatter plot above, where we got good estimates from low-sized samples.\n",
    "It's also worth noting that the mean of the 10000 samples' means we computed is very close to the population's mean μ"
   ],
   "cell_type": "markdown",
   "metadata": {}
  },
  {
   "cell_type": "code",
   "execution_count": null,
   "metadata": {},
   "outputs": [],
   "source": [
    "print(sum(means) / len(means))\n",
    "\n",
    "print(houses['SalePrice'].mean())"
   ]
  },
  {
   "cell_type": "code",
   "execution_count": null,
   "metadata": {},
   "outputs": [],
   "source": [
    "means = []\n",
    "for i in range(10000):\n",
    "    sample = houses['SalePrice'].sample(100, random_state=i)\n",
    "    means.append(sample.mean())\n",
    "\n",
    "plt.hist(means)    \n",
    "plt.axvline(houses['SalePrice'].mean())\n",
    "plt.xlabel('Sample Mean')\n",
    "plt.ylabel('Frequency')\n",
    "plt.xlim(0,500000)"
   ]
  },
  {
   "source": [
    "#### Variability around the Population MEAN\n",
    "\n",
    "Generally, as we increase the sample size, there will be less and less variability around the population mean. If there's less variability, there are less chances to get a poor estimate for the population mean — the worst sample means we can get are fairly close to the population mean, which is good.\n",
    "\n",
    "We can clearly see that sample means vary less and less and less as we increase the sample size\n",
    "\n",
    "![title](./img/11_mean.png)"
   ],
   "cell_type": "markdown",
   "metadata": {}
  },
  {
   "source": [
    "#### The Sample Mean as an Unbiased Estimator\n",
    "![title](./img/12_mean.png)\n",
    "\n",
    "![title](./img/13_mean.png)\n",
    "\n",
    "![title](./img/14_mean.png)\n",
    "\n",
    "**When a statistic is on average equal to the parameter it estimates, we call that statistic an unbiased estimator**"
   ],
   "cell_type": "markdown",
   "metadata": {}
  },
  {
   "cell_type": "code",
   "execution_count": null,
   "metadata": {},
   "outputs": [],
   "source": [
    "population = [3, 7, 2]\n",
    "samples =[\n",
    "           [3, 7], [3, 2],\n",
    "           [7, 2], [7, 3],\n",
    "           [2, 3], [2, 7]\n",
    "         ]\n",
    "\n",
    "sample_means = []\n",
    "\n",
    "for sample in samples:\n",
    "    sample_means.append(sum(sample) / len(sample))\n",
    "\n",
    "population_mean = sum(population) / len(population)    \n",
    "mean_of_sample_means = sum(sample_means) / len(sample_means)\n",
    "\n",
    "unbiased = population_mean == mean_of_sample_means\n",
    "unbiased"
   ]
  },
  {
   "cell_type": "code",
   "execution_count": null,
   "metadata": {},
   "outputs": [],
   "source": []
  }
 ]
}