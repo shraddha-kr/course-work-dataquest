{
 "metadata": {
  "language_info": {
   "codemirror_mode": {
    "name": "ipython",
    "version": 3
   },
   "file_extension": ".py",
   "mimetype": "text/x-python",
   "name": "python",
   "nbconvert_exporter": "python",
   "pygments_lexer": "ipython3",
   "version": "3.7.9-final"
  },
  "orig_nbformat": 2,
  "kernelspec": {
   "name": "python3",
   "display_name": "Python 3",
   "language": "python"
  }
 },
 "nbformat": 4,
 "nbformat_minor": 2,
 "cells": [
  {
   "source": [
    "### Significance Testing"
   ],
   "cell_type": "markdown",
   "metadata": {}
  },
  {
   "source": [
    "#### Hypothesis Testing\n",
    "\n",
    "A **hypothesis** is a pattern or rule about a process that we can test. We use hypothesis testing to determine if a change we made had a meaningful impact or not.\n",
    "\n",
    "You can use hypothesis testing to help you determine the following:\n",
    "* If a new banner ad on a website caused a drop in the user engagement\n",
    "* If raising the price of a product caused a drop in sales\n",
    "* If a new weight loss pill helped people lose more weight\n",
    "\n",
    "Observing a decrease in user engagement or sales after instituting a change doesn't automatically mean that the change was the cause. Hypothesis testing allows us to calculate the probability that random chance was responsible for the difference in outcome. **Every process has some inherent amount of randomness that we can't measure and understanding the role of chance helps us reach a more likely conclusion.**\n",
    "\n",
    "Let's begin with a null hypothesis that describes the status quo, then state an alternative hypothesis. We use the alternate hypothesis in comparison with the null hypothesis to decide which describes the data better. In the end, we need to do one of the folllowing:\n",
    "\n",
    "* Reject the null hypothesis\n",
    "* Fail to reject the null hypothesis\n",
    "\n",
    "We can frame each of the studies above as these rival pairs of hypotheses:\n",
    "\n",
    "* If a new banner ad on a website caused a drop in user engagement:\n",
    "    * Null hypothesis: Users who saw the banner ad spent the same amount of time on the website as those who didn't.\n",
    "    * Alternative hypothesis: Users who saw the banner ad spent less time on the website than those who didn't.\n",
    "\n",
    "* If raising the price of a product caused a drop in sales:\n",
    "    * Null hypothesis: the number of purchases was the same at the lower price as it was at the higher price.\n",
    "    * Alternative hypothesis: The number of purchases was lower at the higher price than it was at the lower price.\n",
    "\n",
    "* If a new weight loss pill helped people lose more weight:\n",
    "    * Null hypothesis: Patients who went on the weight loss pill didn't lose any additional weight compared to those who did not take the pill.\n",
    "    * Alternative hypothesis: Patients who went on the weight loss pill lost more weight than those who didn't.\n"
   ],
   "cell_type": "markdown",
   "metadata": {}
  },
  {
   "source": [
    "* The **null hypothesis** is the commonly accepted fact; it is the opposite of the **alternate hypothesis**.\n",
    "* Researchers work to reject, **nullify** or disprove the null hypothesis. Researchers come up with an alternate hypothesis, one that they think explains a phenomenon, and then work to reject the null hypothesis.\n",
    "* The word **“null”** in this context means that it’s a commonly accepted fact that researchers work to nullify. It doesn’t mean that the statement is null (i.e. amounts to nothing) itself!\n",
    "\n",
    "* **Example: ** \n",
    "* Null hypothesis: H0: The world is flat.\n",
    "* Alternate hypothesis: The world is round.\n"
   ],
   "cell_type": "markdown",
   "metadata": {}
  },
  {
   "source": [
    "#### Research Design\n",
    "\n",
    "To help us determine if the weight loss pill was effective, we conducted a study with 100 volunteers and split them into two groups randomly:\n",
    "\n",
    "* Group A received a placebo to consume on a daily basis.\n",
    "* Group B received the actual weight loss pill to consume on a daily basis.\n",
    "\n",
    "Both groups received instructions not to change anything else about their diets. Group A is referred to as the control group while group B is referred to as the treatment group. This type of study is called a [blind experiment](https://en.wikipedia.org/wiki/Blinded_experiment) since the participants didn't know which pill they were receiving. This helps us reduce the potential bias that is introduced when participants know which pill they were given. For example, participants who are aware they are given the weight loss pill may try to add healthier foods to their diet to help them lose more weight. Both groups were weighed before the study began and a month after the study ended.\n",
    "\n",
    "Understanding the **research design** for a study is an important first step that impacts the rest of your analysis. It helps us uncover potential flaws in the study that we need to keep in mind as we dive deeper. The weight loss pill study we conducted is known as an **experimental study**. Experimental studies usually involve bringing in participants, instructing them to perform certain tasks, and observing them. A key part of running an experimental study is random assignment, which involves assigning participants in the study to random groups without revealing which group each participant is assigned. Before exploring and analyzing a dataset, it's important to understand how the study was conducted. Flaws within the study can lead you to the wrong conclusions."
   ],
   "cell_type": "markdown",
   "metadata": {}
  },
  {
   "source": [
    "#### Statistical Significance\n",
    "\n",
    "Statistics helps determine if the difference in the weight lost is because of random chance or an actual difference in the outcomes. If there is a meaningful difference, we say that the results are statistically significant. We'll dive into what this means over the course of this mission.\n",
    "\n",
    "Now that we're familiar with the study, let's state our null and alternative hypotheses more precisely. Our null hypothesis should describe the default position of skepticism, which is that there's no statistically significant difference between the outcomes of the 2 groups. Ultimately, it should state that any difference is due to random chance. Our alternative hypothesis should state that there is in fact a statistically significant difference between the outcomes of the 2 groups.\n",
    "\n",
    "* **Null hypothesis:** participants who consumed the weight loss pills lost the same amount of weight as those who didn't take the pill.\n",
    "* **Alternative hypothesis:** participants who consumed the weight loss pills lost more weight than those who didn't take the pill."
   ],
   "cell_type": "markdown",
   "metadata": {}
  },
  {
   "cell_type": "code",
   "execution_count": 7,
   "metadata": {},
   "outputs": [
    {
     "output_type": "stream",
     "name": "stdout",
     "text": [
      "[mean_group_a] -  2.82 [mean_group_b] -  5.34\n"
     ]
    }
   ],
   "source": [
    "#The lists weight_lost_a and weight_lost_b contain the amount of weight (in pounds) that the participants in each group lost. Let's explore and become more familiar with the data.\n",
    "\n",
    "import numpy as np\n",
    "import matplotlib.pyplot as plt\n",
    "weight_lost_a = [3,2,3,4,3,2,2,2,1,3,2,3,1,3,4,1,3,2,1,3,4,3,2,3,7,2,3,2,5,1,1,1,3,2,4,10,2,3,2,5,6,2,3,2,3,4,1,3,3,1]\n",
    "\n",
    "weight_lost_b = [5,4,5,5,4,5,7,5,4,3,3,5,10,3,4,9,7,6,9,4,2,5,7,7,7,5,4,8,9,6,7,6,7,6,3,5,5,4,2,3,3,5,6,9,7,6,4,5,4,3]\n",
    " \n",
    "mean_group_a = np.mean(weight_lost_a)\n",
    "mean_group_b = np.mean(weight_lost_b)\n",
    "\n",
    "print('[mean_group_a] - ',mean_group_a, '[mean_group_b] - ', mean_group_b)"
   ]
  },
  {
   "source": [
    "#### Test Statistic\n",
    "\n",
    "To determine which hypothesis accurately describes the data, we need to frame the hypotheses quantitatively. The first step is to decide a test statistic, which is a numerical value that summarizes the data and one we can use in statistical formulas. **The test statistic runs a statistical test that determines whether the difference between the groups was due to random chance.**\n",
    "\n",
    "Since we want to know if the amount of weight lost between the groups is significantly different, **we will use the difference in the means(also known as the mean difference) of weight lost for each group as the test statistic**.\n",
    "\n",
    "The following symbol is used to represent the sample mean in statistics:\n",
    "**¯x**\n",
    "\n",
    "We'll use:\n",
    "**¯xa**\n",
    "\n",
    "to denote the mean of group A and\n",
    "**¯xb**\n",
    "\n",
    "to denote the mean of group B. For the mean difference, we'll subtract the mean of group A from group B:\n",
    "**¯xb−¯xa**\n",
    "\n",
    "Now that we have decided on a test statistic, we can rewrite our hypotheses to be more precise:\n",
    "\n",
    "Null hypothesis: **¯xb−¯xa = 0**\n",
    "\n",
    "Alternative hypothesis: **¯xb−¯xa > 0**"
   ],
   "cell_type": "markdown",
   "metadata": {}
  },
  {
   "cell_type": "code",
   "execution_count": 8,
   "metadata": {},
   "outputs": [
    {
     "output_type": "stream",
     "name": "stdout",
     "text": [
      "2.52\n"
     ]
    }
   ],
   "source": [
    "import numpy as np\n",
    "import matplotlib.pyplot as plt\n",
    "\n",
    "mean_group_a = np.mean(weight_lost_a)\n",
    "mean_group_b = np.mean(weight_lost_b)\n",
    "mean_difference = mean_group_b - mean_group_a\n",
    "print(mean_difference)"
   ]
  },
  {
   "source": [
    "#### Permutation Test\n",
    "\n",
    "**The purpose of a statistical test is to work out the likelihood that the result we achieved was due to random chance.**\n",
    "\n",
    "The permutation test is a statistical test that involves rerunning the study many times and recalculating the test statistic for each iteration. **The goal is to calculate a distribution of the test statistics over these many iterations. This distribution is called the sampling distribution and it approximates the full range of possible test statistics under the null hypothesis.** We can then benchmark the test statistic we observed in the data (a mean difference of 2.52) to determine how likely it is to observe this mean difference under the null hypothesis. If the null hypothesis is true, that the weight loss pill doesn't help people lose more weight, then the observed mean difference of 2.52 should be quite common in the sampling distribution. If it's instead extremely rare, then we should reject the null hypothesis instead.\n",
    "\n",
    "To simulate rerunning the study, we randomly reassign each data point (weight lost) to either group A or group B. We keep track of the recalculated test statistics as a separate list. By re-randomizing the groups that the weight loss values belong to, we're simulating what randomly generated groupings of these weight loss values would look like. We then use these randomly generated groupings to understand how rare the groupings in our actual data were.\n",
    "\n",
    "Ideally, the number of times we re-randomize the groups that each data point belongs to matches the total number of possible permutations. Usually, the number of total permutations is too high for even powerful supercomputers to calculate within a reasonable time frame. While we'll use 1000 iterations for now, in later missions we'll learn how to quantify the tradeoff we make between accuracy and speed to determine the optimal number of iterations.\n",
    "\n",
    "Since we'll be randomizing the groups each value belongs to, we created a list named all_values that contains just the weight loss values."
   ],
   "cell_type": "markdown",
   "metadata": {}
  },
  {
   "cell_type": "code",
   "execution_count": 9,
   "metadata": {},
   "outputs": [
    {
     "output_type": "stream",
     "name": "stdout",
     "text": [
      "[3, 5, 2, 4, 3, 5, 4, 5, 3, 4, 2, 5, 2, 7, 2, 5, 1, 4, 3, 3, 2, 3, 3, 5, 1, 10, 3, 3, 4, 4, 1, 9, 3, 7, 2, 6, 1, 9, 3, 4, 4, 2, 3, 5, 2, 7, 3, 7, 7, 7, 2, 5, 3, 4, 2, 8, 5, 9, 1, 6, 1, 7, 1, 6, 3, 7, 2, 6, 4, 3, 10, 5, 2, 5, 3, 4, 2, 2, 5, 3, 6, 3, 2, 5, 3, 6, 2, 9, 3, 7, 4, 6, 1, 4, 3, 5, 3, 4, 1, 3]\n"
     ]
    },
    {
     "output_type": "display_data",
     "data": {
      "text/plain": "<Figure size 432x288 with 1 Axes>",
      "image/svg+xml": "<?xml version=\"1.0\" encoding=\"utf-8\" standalone=\"no\"?>\r\n<!DOCTYPE svg PUBLIC \"-//W3C//DTD SVG 1.1//EN\"\r\n  \"http://www.w3.org/Graphics/SVG/1.1/DTD/svg11.dtd\">\r\n<!-- Created with matplotlib (https://matplotlib.org/) -->\r\n<svg height=\"248.518125pt\" version=\"1.1\" viewBox=\"0 0 375.2875 248.518125\" width=\"375.2875pt\" xmlns=\"http://www.w3.org/2000/svg\" xmlns:xlink=\"http://www.w3.org/1999/xlink\">\r\n <metadata>\r\n  <rdf:RDF xmlns:cc=\"http://creativecommons.org/ns#\" xmlns:dc=\"http://purl.org/dc/elements/1.1/\" xmlns:rdf=\"http://www.w3.org/1999/02/22-rdf-syntax-ns#\">\r\n   <cc:Work>\r\n    <dc:type rdf:resource=\"http://purl.org/dc/dcmitype/StillImage\"/>\r\n    <dc:date>2021-01-19T05:30:15.356549</dc:date>\r\n    <dc:format>image/svg+xml</dc:format>\r\n    <dc:creator>\r\n     <cc:Agent>\r\n      <dc:title>Matplotlib v3.3.2, https://matplotlib.org/</dc:title>\r\n     </cc:Agent>\r\n    </dc:creator>\r\n   </cc:Work>\r\n  </rdf:RDF>\r\n </metadata>\r\n <defs>\r\n  <style type=\"text/css\">*{stroke-linecap:butt;stroke-linejoin:round;}</style>\r\n </defs>\r\n <g id=\"figure_1\">\r\n  <g id=\"patch_1\">\r\n   <path d=\"M 0 248.518125 \r\nL 375.2875 248.518125 \r\nL 375.2875 0 \r\nL 0 0 \r\nz\r\n\" style=\"fill:none;\"/>\r\n  </g>\r\n  <g id=\"axes_1\">\r\n   <g id=\"patch_2\">\r\n    <path d=\"M 33.2875 224.64 \r\nL 368.0875 224.64 \r\nL 368.0875 7.2 \r\nL 33.2875 7.2 \r\nz\r\n\" style=\"fill:#ffffff;\"/>\r\n   </g>\r\n   <g id=\"patch_3\">\r\n    <path clip-path=\"url(#p073a6fc43d)\" d=\"M 48.505682 224.64 \r\nL 78.942045 224.64 \r\nL 78.942045 219.669943 \r\nL 48.505682 219.669943 \r\nz\r\n\" style=\"fill:#1f77b4;\"/>\r\n   </g>\r\n   <g id=\"patch_4\">\r\n    <path clip-path=\"url(#p073a6fc43d)\" d=\"M 78.942045 224.64 \r\nL 109.378409 224.64 \r\nL 109.378409 206.416457 \r\nL 78.942045 206.416457 \r\nz\r\n\" style=\"fill:#1f77b4;\"/>\r\n   </g>\r\n   <g id=\"patch_5\">\r\n    <path clip-path=\"url(#p073a6fc43d)\" d=\"M 109.378409 224.64 \r\nL 139.814773 224.64 \r\nL 139.814773 155.887543 \r\nL 109.378409 155.887543 \r\nz\r\n\" style=\"fill:#1f77b4;\"/>\r\n   </g>\r\n   <g id=\"patch_6\">\r\n    <path clip-path=\"url(#p073a6fc43d)\" d=\"M 139.814773 224.64 \r\nL 170.251136 224.64 \r\nL 170.251136 81.336686 \r\nL 139.814773 81.336686 \r\nz\r\n\" style=\"fill:#1f77b4;\"/>\r\n   </g>\r\n   <g id=\"patch_7\">\r\n    <path clip-path=\"url(#p073a6fc43d)\" d=\"M 170.251136 224.64 \r\nL 200.6875 224.64 \r\nL 200.6875 22.524343 \r\nL 170.251136 22.524343 \r\nz\r\n\" style=\"fill:#1f77b4;\"/>\r\n   </g>\r\n   <g id=\"patch_8\">\r\n    <path clip-path=\"url(#p073a6fc43d)\" d=\"M 200.6875 224.64 \r\nL 231.123864 224.64 \r\nL 231.123864 17.554286 \r\nL 200.6875 17.554286 \r\nz\r\n\" style=\"fill:#1f77b4;\"/>\r\n   </g>\r\n   <g id=\"patch_9\">\r\n    <path clip-path=\"url(#p073a6fc43d)\" d=\"M 231.123864 224.64 \r\nL 261.560227 224.64 \r\nL 261.560227 94.590171 \r\nL 231.123864 94.590171 \r\nz\r\n\" style=\"fill:#1f77b4;\"/>\r\n   </g>\r\n   <g id=\"patch_10\">\r\n    <path clip-path=\"url(#p073a6fc43d)\" d=\"M 261.560227 224.64 \r\nL 291.996591 224.64 \r\nL 291.996591 184.0512 \r\nL 261.560227 184.0512 \r\nz\r\n\" style=\"fill:#1f77b4;\"/>\r\n   </g>\r\n   <g id=\"patch_11\">\r\n    <path clip-path=\"url(#p073a6fc43d)\" d=\"M 291.996591 224.64 \r\nL 322.432955 224.64 \r\nL 322.432955 213.871543 \r\nL 291.996591 213.871543 \r\nz\r\n\" style=\"fill:#1f77b4;\"/>\r\n   </g>\r\n   <g id=\"patch_12\">\r\n    <path clip-path=\"url(#p073a6fc43d)\" d=\"M 322.432955 224.64 \r\nL 352.869318 224.64 \r\nL 352.869318 222.154971 \r\nL 322.432955 222.154971 \r\nz\r\n\" style=\"fill:#1f77b4;\"/>\r\n   </g>\r\n   <g id=\"matplotlib.axis_1\">\r\n    <g id=\"xtick_1\">\r\n     <g id=\"line2d_1\">\r\n      <defs>\r\n       <path d=\"M 0 0 \r\nL 0 3.5 \r\n\" id=\"md5a83accbc\" style=\"stroke:#000000;stroke-width:0.8;\"/>\r\n      </defs>\r\n      <g>\r\n       <use style=\"stroke:#000000;stroke-width:0.8;\" x=\"43.931109\" xlink:href=\"#md5a83accbc\" y=\"224.64\"/>\r\n      </g>\r\n     </g>\r\n     <g id=\"text_1\">\r\n      <!-- −1.5 -->\r\n      <g transform=\"translate(31.789702 239.238437)scale(0.1 -0.1)\">\r\n       <defs>\r\n        <path d=\"M 10.59375 35.5 \r\nL 73.1875 35.5 \r\nL 73.1875 27.203125 \r\nL 10.59375 27.203125 \r\nz\r\n\" id=\"DejaVuSans-8722\"/>\r\n        <path d=\"M 12.40625 8.296875 \r\nL 28.515625 8.296875 \r\nL 28.515625 63.921875 \r\nL 10.984375 60.40625 \r\nL 10.984375 69.390625 \r\nL 28.421875 72.90625 \r\nL 38.28125 72.90625 \r\nL 38.28125 8.296875 \r\nL 54.390625 8.296875 \r\nL 54.390625 0 \r\nL 12.40625 0 \r\nz\r\n\" id=\"DejaVuSans-49\"/>\r\n        <path d=\"M 10.6875 12.40625 \r\nL 21 12.40625 \r\nL 21 0 \r\nL 10.6875 0 \r\nz\r\n\" id=\"DejaVuSans-46\"/>\r\n        <path d=\"M 10.796875 72.90625 \r\nL 49.515625 72.90625 \r\nL 49.515625 64.59375 \r\nL 19.828125 64.59375 \r\nL 19.828125 46.734375 \r\nQ 21.96875 47.46875 24.109375 47.828125 \r\nQ 26.265625 48.1875 28.421875 48.1875 \r\nQ 40.625 48.1875 47.75 41.5 \r\nQ 54.890625 34.8125 54.890625 23.390625 \r\nQ 54.890625 11.625 47.5625 5.09375 \r\nQ 40.234375 -1.421875 26.90625 -1.421875 \r\nQ 22.3125 -1.421875 17.546875 -0.640625 \r\nQ 12.796875 0.140625 7.71875 1.703125 \r\nL 7.71875 11.625 \r\nQ 12.109375 9.234375 16.796875 8.0625 \r\nQ 21.484375 6.890625 26.703125 6.890625 \r\nQ 35.15625 6.890625 40.078125 11.328125 \r\nQ 45.015625 15.765625 45.015625 23.390625 \r\nQ 45.015625 31 40.078125 35.4375 \r\nQ 35.15625 39.890625 26.703125 39.890625 \r\nQ 22.75 39.890625 18.8125 39.015625 \r\nQ 14.890625 38.140625 10.796875 36.28125 \r\nz\r\n\" id=\"DejaVuSans-53\"/>\r\n       </defs>\r\n       <use xlink:href=\"#DejaVuSans-8722\"/>\r\n       <use x=\"83.789062\" xlink:href=\"#DejaVuSans-49\"/>\r\n       <use x=\"147.412109\" xlink:href=\"#DejaVuSans-46\"/>\r\n       <use x=\"179.199219\" xlink:href=\"#DejaVuSans-53\"/>\r\n      </g>\r\n     </g>\r\n    </g>\r\n    <g id=\"xtick_2\">\r\n     <g id=\"line2d_2\">\r\n      <g>\r\n       <use style=\"stroke:#000000;stroke-width:0.8;\" x=\"94.576717\" xlink:href=\"#md5a83accbc\" y=\"224.64\"/>\r\n      </g>\r\n     </g>\r\n     <g id=\"text_2\">\r\n      <!-- −1.0 -->\r\n      <g transform=\"translate(82.43531 239.238437)scale(0.1 -0.1)\">\r\n       <defs>\r\n        <path d=\"M 31.78125 66.40625 \r\nQ 24.171875 66.40625 20.328125 58.90625 \r\nQ 16.5 51.421875 16.5 36.375 \r\nQ 16.5 21.390625 20.328125 13.890625 \r\nQ 24.171875 6.390625 31.78125 6.390625 \r\nQ 39.453125 6.390625 43.28125 13.890625 \r\nQ 47.125 21.390625 47.125 36.375 \r\nQ 47.125 51.421875 43.28125 58.90625 \r\nQ 39.453125 66.40625 31.78125 66.40625 \r\nz\r\nM 31.78125 74.21875 \r\nQ 44.046875 74.21875 50.515625 64.515625 \r\nQ 56.984375 54.828125 56.984375 36.375 \r\nQ 56.984375 17.96875 50.515625 8.265625 \r\nQ 44.046875 -1.421875 31.78125 -1.421875 \r\nQ 19.53125 -1.421875 13.0625 8.265625 \r\nQ 6.59375 17.96875 6.59375 36.375 \r\nQ 6.59375 54.828125 13.0625 64.515625 \r\nQ 19.53125 74.21875 31.78125 74.21875 \r\nz\r\n\" id=\"DejaVuSans-48\"/>\r\n       </defs>\r\n       <use xlink:href=\"#DejaVuSans-8722\"/>\r\n       <use x=\"83.789062\" xlink:href=\"#DejaVuSans-49\"/>\r\n       <use x=\"147.412109\" xlink:href=\"#DejaVuSans-46\"/>\r\n       <use x=\"179.199219\" xlink:href=\"#DejaVuSans-48\"/>\r\n      </g>\r\n     </g>\r\n    </g>\r\n    <g id=\"xtick_3\">\r\n     <g id=\"line2d_3\">\r\n      <g>\r\n       <use style=\"stroke:#000000;stroke-width:0.8;\" x=\"145.222325\" xlink:href=\"#md5a83accbc\" y=\"224.64\"/>\r\n      </g>\r\n     </g>\r\n     <g id=\"text_3\">\r\n      <!-- −0.5 -->\r\n      <g transform=\"translate(133.080919 239.238437)scale(0.1 -0.1)\">\r\n       <use xlink:href=\"#DejaVuSans-8722\"/>\r\n       <use x=\"83.789062\" xlink:href=\"#DejaVuSans-48\"/>\r\n       <use x=\"147.412109\" xlink:href=\"#DejaVuSans-46\"/>\r\n       <use x=\"179.199219\" xlink:href=\"#DejaVuSans-53\"/>\r\n      </g>\r\n     </g>\r\n    </g>\r\n    <g id=\"xtick_4\">\r\n     <g id=\"line2d_4\">\r\n      <g>\r\n       <use style=\"stroke:#000000;stroke-width:0.8;\" x=\"195.867933\" xlink:href=\"#md5a83accbc\" y=\"224.64\"/>\r\n      </g>\r\n     </g>\r\n     <g id=\"text_4\">\r\n      <!-- 0.0 -->\r\n      <g transform=\"translate(187.91637 239.238437)scale(0.1 -0.1)\">\r\n       <use xlink:href=\"#DejaVuSans-48\"/>\r\n       <use x=\"63.623047\" xlink:href=\"#DejaVuSans-46\"/>\r\n       <use x=\"95.410156\" xlink:href=\"#DejaVuSans-48\"/>\r\n      </g>\r\n     </g>\r\n    </g>\r\n    <g id=\"xtick_5\">\r\n     <g id=\"line2d_5\">\r\n      <g>\r\n       <use style=\"stroke:#000000;stroke-width:0.8;\" x=\"246.513541\" xlink:href=\"#md5a83accbc\" y=\"224.64\"/>\r\n      </g>\r\n     </g>\r\n     <g id=\"text_5\">\r\n      <!-- 0.5 -->\r\n      <g transform=\"translate(238.561979 239.238437)scale(0.1 -0.1)\">\r\n       <use xlink:href=\"#DejaVuSans-48\"/>\r\n       <use x=\"63.623047\" xlink:href=\"#DejaVuSans-46\"/>\r\n       <use x=\"95.410156\" xlink:href=\"#DejaVuSans-53\"/>\r\n      </g>\r\n     </g>\r\n    </g>\r\n    <g id=\"xtick_6\">\r\n     <g id=\"line2d_6\">\r\n      <g>\r\n       <use style=\"stroke:#000000;stroke-width:0.8;\" x=\"297.159149\" xlink:href=\"#md5a83accbc\" y=\"224.64\"/>\r\n      </g>\r\n     </g>\r\n     <g id=\"text_6\">\r\n      <!-- 1.0 -->\r\n      <g transform=\"translate(289.207587 239.238437)scale(0.1 -0.1)\">\r\n       <use xlink:href=\"#DejaVuSans-49\"/>\r\n       <use x=\"63.623047\" xlink:href=\"#DejaVuSans-46\"/>\r\n       <use x=\"95.410156\" xlink:href=\"#DejaVuSans-48\"/>\r\n      </g>\r\n     </g>\r\n    </g>\r\n    <g id=\"xtick_7\">\r\n     <g id=\"line2d_7\">\r\n      <g>\r\n       <use style=\"stroke:#000000;stroke-width:0.8;\" x=\"347.804757\" xlink:href=\"#md5a83accbc\" y=\"224.64\"/>\r\n      </g>\r\n     </g>\r\n     <g id=\"text_7\">\r\n      <!-- 1.5 -->\r\n      <g transform=\"translate(339.853195 239.238437)scale(0.1 -0.1)\">\r\n       <use xlink:href=\"#DejaVuSans-49\"/>\r\n       <use x=\"63.623047\" xlink:href=\"#DejaVuSans-46\"/>\r\n       <use x=\"95.410156\" xlink:href=\"#DejaVuSans-53\"/>\r\n      </g>\r\n     </g>\r\n    </g>\r\n   </g>\r\n   <g id=\"matplotlib.axis_2\">\r\n    <g id=\"ytick_1\">\r\n     <g id=\"line2d_8\">\r\n      <defs>\r\n       <path d=\"M 0 0 \r\nL -3.5 0 \r\n\" id=\"m253e058d86\" style=\"stroke:#000000;stroke-width:0.8;\"/>\r\n      </defs>\r\n      <g>\r\n       <use style=\"stroke:#000000;stroke-width:0.8;\" x=\"33.2875\" xlink:href=\"#m253e058d86\" y=\"224.64\"/>\r\n      </g>\r\n     </g>\r\n     <g id=\"text_8\">\r\n      <!-- 0 -->\r\n      <g transform=\"translate(19.925 228.439219)scale(0.1 -0.1)\">\r\n       <use xlink:href=\"#DejaVuSans-48\"/>\r\n      </g>\r\n     </g>\r\n    </g>\r\n    <g id=\"ytick_2\">\r\n     <g id=\"line2d_9\">\r\n      <g>\r\n       <use style=\"stroke:#000000;stroke-width:0.8;\" x=\"33.2875\" xlink:href=\"#m253e058d86\" y=\"183.222857\"/>\r\n      </g>\r\n     </g>\r\n     <g id=\"text_9\">\r\n      <!-- 50 -->\r\n      <g transform=\"translate(13.5625 187.022076)scale(0.1 -0.1)\">\r\n       <use xlink:href=\"#DejaVuSans-53\"/>\r\n       <use x=\"63.623047\" xlink:href=\"#DejaVuSans-48\"/>\r\n      </g>\r\n     </g>\r\n    </g>\r\n    <g id=\"ytick_3\">\r\n     <g id=\"line2d_10\">\r\n      <g>\r\n       <use style=\"stroke:#000000;stroke-width:0.8;\" x=\"33.2875\" xlink:href=\"#m253e058d86\" y=\"141.805714\"/>\r\n      </g>\r\n     </g>\r\n     <g id=\"text_10\">\r\n      <!-- 100 -->\r\n      <g transform=\"translate(7.2 145.604933)scale(0.1 -0.1)\">\r\n       <use xlink:href=\"#DejaVuSans-49\"/>\r\n       <use x=\"63.623047\" xlink:href=\"#DejaVuSans-48\"/>\r\n       <use x=\"127.246094\" xlink:href=\"#DejaVuSans-48\"/>\r\n      </g>\r\n     </g>\r\n    </g>\r\n    <g id=\"ytick_4\">\r\n     <g id=\"line2d_11\">\r\n      <g>\r\n       <use style=\"stroke:#000000;stroke-width:0.8;\" x=\"33.2875\" xlink:href=\"#m253e058d86\" y=\"100.388571\"/>\r\n      </g>\r\n     </g>\r\n     <g id=\"text_11\">\r\n      <!-- 150 -->\r\n      <g transform=\"translate(7.2 104.18779)scale(0.1 -0.1)\">\r\n       <use xlink:href=\"#DejaVuSans-49\"/>\r\n       <use x=\"63.623047\" xlink:href=\"#DejaVuSans-53\"/>\r\n       <use x=\"127.246094\" xlink:href=\"#DejaVuSans-48\"/>\r\n      </g>\r\n     </g>\r\n    </g>\r\n    <g id=\"ytick_5\">\r\n     <g id=\"line2d_12\">\r\n      <g>\r\n       <use style=\"stroke:#000000;stroke-width:0.8;\" x=\"33.2875\" xlink:href=\"#m253e058d86\" y=\"58.971429\"/>\r\n      </g>\r\n     </g>\r\n     <g id=\"text_12\">\r\n      <!-- 200 -->\r\n      <g transform=\"translate(7.2 62.770647)scale(0.1 -0.1)\">\r\n       <defs>\r\n        <path d=\"M 19.1875 8.296875 \r\nL 53.609375 8.296875 \r\nL 53.609375 0 \r\nL 7.328125 0 \r\nL 7.328125 8.296875 \r\nQ 12.9375 14.109375 22.625 23.890625 \r\nQ 32.328125 33.6875 34.8125 36.53125 \r\nQ 39.546875 41.84375 41.421875 45.53125 \r\nQ 43.3125 49.21875 43.3125 52.78125 \r\nQ 43.3125 58.59375 39.234375 62.25 \r\nQ 35.15625 65.921875 28.609375 65.921875 \r\nQ 23.96875 65.921875 18.8125 64.3125 \r\nQ 13.671875 62.703125 7.8125 59.421875 \r\nL 7.8125 69.390625 \r\nQ 13.765625 71.78125 18.9375 73 \r\nQ 24.125 74.21875 28.421875 74.21875 \r\nQ 39.75 74.21875 46.484375 68.546875 \r\nQ 53.21875 62.890625 53.21875 53.421875 \r\nQ 53.21875 48.921875 51.53125 44.890625 \r\nQ 49.859375 40.875 45.40625 35.40625 \r\nQ 44.1875 33.984375 37.640625 27.21875 \r\nQ 31.109375 20.453125 19.1875 8.296875 \r\nz\r\n\" id=\"DejaVuSans-50\"/>\r\n       </defs>\r\n       <use xlink:href=\"#DejaVuSans-50\"/>\r\n       <use x=\"63.623047\" xlink:href=\"#DejaVuSans-48\"/>\r\n       <use x=\"127.246094\" xlink:href=\"#DejaVuSans-48\"/>\r\n      </g>\r\n     </g>\r\n    </g>\r\n    <g id=\"ytick_6\">\r\n     <g id=\"line2d_13\">\r\n      <g>\r\n       <use style=\"stroke:#000000;stroke-width:0.8;\" x=\"33.2875\" xlink:href=\"#m253e058d86\" y=\"17.554286\"/>\r\n      </g>\r\n     </g>\r\n     <g id=\"text_13\">\r\n      <!-- 250 -->\r\n      <g transform=\"translate(7.2 21.353504)scale(0.1 -0.1)\">\r\n       <use xlink:href=\"#DejaVuSans-50\"/>\r\n       <use x=\"63.623047\" xlink:href=\"#DejaVuSans-53\"/>\r\n       <use x=\"127.246094\" xlink:href=\"#DejaVuSans-48\"/>\r\n      </g>\r\n     </g>\r\n    </g>\r\n   </g>\r\n   <g id=\"patch_13\">\r\n    <path d=\"M 33.2875 224.64 \r\nL 33.2875 7.2 \r\n\" style=\"fill:none;stroke:#000000;stroke-linecap:square;stroke-linejoin:miter;stroke-width:0.8;\"/>\r\n   </g>\r\n   <g id=\"patch_14\">\r\n    <path d=\"M 368.0875 224.64 \r\nL 368.0875 7.2 \r\n\" style=\"fill:none;stroke:#000000;stroke-linecap:square;stroke-linejoin:miter;stroke-width:0.8;\"/>\r\n   </g>\r\n   <g id=\"patch_15\">\r\n    <path d=\"M 33.2875 224.64 \r\nL 368.0875 224.64 \r\n\" style=\"fill:none;stroke:#000000;stroke-linecap:square;stroke-linejoin:miter;stroke-width:0.8;\"/>\r\n   </g>\r\n   <g id=\"patch_16\">\r\n    <path d=\"M 33.2875 7.2 \r\nL 368.0875 7.2 \r\n\" style=\"fill:none;stroke:#000000;stroke-linecap:square;stroke-linejoin:miter;stroke-width:0.8;\"/>\r\n   </g>\r\n  </g>\r\n </g>\r\n <defs>\r\n  <clipPath id=\"p073a6fc43d\">\r\n   <rect height=\"217.44\" width=\"334.8\" x=\"33.2875\" y=\"7.2\"/>\r\n  </clipPath>\r\n </defs>\r\n</svg>\r\n",
      "image/png": "[encoded data removed]"
     },
     "metadata": {
      "needs_background": "light"
     }
    }
   ],
   "source": [
    "all_values = [3, 5, 2, 4, 3, 5, 4, 5, 3, 4, 2, 5, 2, 7, 2, 5, 1, 4, 3, 3, 2, 3, 3, 5, 1, 10, 3, 3, 4, 4, 1, 9, 3, 7, 2, 6, 1, 9, 3, 4, 4, 2, 3, 5, 2, 7, 3, 7, 7, 7, 2, 5, 3, 4, 2, 8, 5, 9, 1, 6, 1, 7, 1, 6, 3, 7, 2, 6, 4, 3, 10, 5, 2, 5, 3, 4, 2, 2, 5, 3, 6, 3, 2, 5, 3, 6, 2, 9, 3, 7, 4, 6, 1, 4, 3, 5, 3, 4, 1, 3]\n",
    "\n",
    "mean_difference = 2.52\n",
    "print(all_values)\n",
    "\n",
    "mean_differences = []\n",
    "for i in range(1000):\n",
    "    group_a = []\n",
    "    group_b = []\n",
    "    for value in all_values:\n",
    "        assignment_chance = np.random.rand()\n",
    "        if assignment_chance >= 0.5:\n",
    "            group_a.append(value)\n",
    "        else:\n",
    "            group_b.append(value)\n",
    "    iteration_mean_difference = np.mean(group_b) - np.mean(group_a)\n",
    "    mean_differences.append(iteration_mean_difference)\n",
    "    \n",
    "plt.hist(mean_differences)\n",
    "plt.show()"
   ]
  },
  {
   "source": [
    "#### Dictionary Representation of a Distribution\n",
    "\n",
    "![title](./img/1_dictget.png)"
   ],
   "cell_type": "markdown",
   "metadata": {}
  },
  {
   "cell_type": "code",
   "execution_count": 10,
   "metadata": {},
   "outputs": [],
   "source": [
    "#In the following code block, we use the get method and set the default value to False:\n",
    "\n",
    "empty = {}\n",
    "\n",
    "# Since \"a\" isn't a key in empty, the value False is returned.\n",
    "key_a = empty.get(\"a\", False)\n",
    "\n",
    "empty[\"b\"] = \"boat\"\n",
    "\n",
    "# key_b is the value for the key \"b\" in empty.\n",
    "key_b = empty.get(\"b\", False)\n",
    "# \"boat\" is assigned to key_b.\n"
   ]
  },
  {
   "cell_type": "code",
   "execution_count": 11,
   "metadata": {},
   "outputs": [],
   "source": [
    "# We can use the value returned from the get() method in an if statement to express our logic\n",
    "\n",
    "empty = {\"c\": 1}\n",
    "if empty.get(\"c\", False):\n",
    "    # If in the dictionary, grab the value, increment by 1, reassign.\n",
    "    val = empty.get(\"c\")\n",
    "    inc = val + 1\n",
    "    empty[\"c\"] = inc\n",
    "else:\n",
    "    # If not in the dictionary, assign `1` as the value to that key.\n",
    "    empty[\"c\"] = 1"
   ]
  },
  {
   "cell_type": "code",
   "execution_count": 15,
   "metadata": {},
   "outputs": [
    {
     "output_type": "execute_result",
     "data": {
      "text/plain": [
       "{-0.5891472868217051: 1,\n",
       " 0.46060606060606046: 1,\n",
       " -0.10837438423645374: 2,\n",
       " -0.11378205128205199: 4,\n",
       " 0.2799999999999998: 3}"
      ]
     },
     "metadata": {},
     "execution_count": 15
    }
   ],
   "source": [
    "# Create an empty dictionary called sampling_distribution whose keys will be the test statistics and whose values are the frequencies of the test statistics\n",
    "import itertools\n",
    "\n",
    "sampling_distribution = {}\n",
    "for df in mean_differences:\n",
    "    if sampling_distribution.get(df, False):\n",
    "        sampling_distribution[df] = sampling_distribution[df] + 1\n",
    "    else:\n",
    "        sampling_distribution[df] = 1\n",
    "\n",
    "dict(itertools.islice(sampling_distribution.items(), 5))  "
   ]
  },
  {
   "source": [
    "#### P Value\n",
    "\n",
    "In the sampling distribution we generated, most of the values are closely centered around the mean difference of 0. This means that if it were purely up to chance, both groups would have lost the same amount of weight (the null hypothesis). But since the observed test statistic is not near 0, it could mean that the weight loss pills could be responsible for the mean difference in the study.\n",
    "\n",
    "We can now use the sampling distribution to determine the number of times a value of 2.52 or higher appeared in our simulations. If we divide that frequency by 1000, we'll have the probability of observing a mean difference of 2.52 or higher purely due to random chance.\n",
    "\n",
    "This probability is called the **p value**. If this value is high, it means that the difference in the amount of weight both groups lost could have easily happened randomly and the weight loss pills probably didn't play a role. On the other hand, a low p value implies that there's an incredibly small probability that the mean difference we observed was because of random chance.\n",
    "\n",
    "In general, it's good practice to set the p value threshold before conducting the study:\n",
    "\n",
    "* If the p value is less than the threshold, we:\n",
    "    * reject the null hypothesis that there's no difference in the mean amount of weight lost by participants in both groups; and\n",
    "    * conclude that there is some evidence that the weight loss pill does affect the amount of weight people lost.\n",
    "\n",
    "* If the p value is greater than the threshold, we:\n",
    "    * fail to reject the null hypothesis that there's no difference in the mean amount of weight lost by participants in both groups,\n",
    "    * conclude that the weight loss pill doesn't seem to be effective in helping people lose weight.\n",
    "\n",
    "The most common p value threshold is **0.05 or 5%**, which is what we'll use in this mission. Although .05 is an arbitrary threshold, it means that there's only a 5% chance that the results are due to random chance, which most researchers are comfortable with."
   ],
   "cell_type": "markdown",
   "metadata": {}
  },
  {
   "cell_type": "code",
   "execution_count": 18,
   "metadata": {},
   "outputs": [
    {
     "output_type": "execute_result",
     "data": {
      "text/plain": [
       "0.0"
      ]
     },
     "metadata": {},
     "execution_count": 18
    }
   ],
   "source": [
    "frequencies = []\n",
    "for sp in sampling_distribution.keys():\n",
    "    if sp >= 2.52:\n",
    "        frequencies.append(sampling_distribution[sp])\n",
    "p_value = np.sum(frequencies) / 1000\n",
    "p_value"
   ]
  },
  {
   "source": [
    "Since the p value of 0 is less than the threshold we set of 0.05, we conclude that the difference in weight lost can't be attributed to random chance alone. We therefore reject the null hypothesis. A few caveats:\n",
    "\n",
    "* Research design is incredibly important and can lead to inaccurate results. For example, if the participants in group A realized they were given placebo sugar pills, they may modify their behavior and affect the outcome.\n",
    "* The p value threshold you set can also affect the conclusion you reach.\n",
    "    * If you set too high of a p value threshold, you may reject the null hypothesis incorrectly. This is known as a **type I error**.\n",
    "    * If you set too low of a p value threshold, you may fail to reject the null hypothesis incorrectly. This is known as a **type II error**.\n"
   ],
   "cell_type": "markdown",
   "metadata": {}
  }
 ]
}