{
 "metadata": {
  "language_info": {
   "codemirror_mode": {
    "name": "ipython",
    "version": 3
   },
   "file_extension": ".py",
   "mimetype": "text/x-python",
   "name": "python",
   "nbconvert_exporter": "python",
   "pygments_lexer": "ipython3",
   "version": "3.7.9-final"
  },
  "orig_nbformat": 2,
  "kernelspec": {
   "name": "python3",
   "display_name": "Python 3",
   "language": "python"
  }
 },
 "nbformat": 4,
 "nbformat_minor": 2,
 "cells": [
  {
   "source": [
    "### Multi Category Chi-Squared Tests\n",
    "\n",
    "#### REFERENCES\n",
    "https://en.wikipedia.org/wiki/Chi-squared_test"
   ],
   "cell_type": "markdown",
   "metadata": {}
  },
  {
   "source": [
    "#### QUESTIONS\n",
    "\n",
    "1. How to calculate Expected Values?"
   ],
   "cell_type": "markdown",
   "metadata": {}
  },
  {
   "source": [
    "#### Multiple Categories\n",
    "\n",
    "![title](./img/1_mulchi.png)\n",
    "![title](./img/2_mulchi.png)"
   ],
   "cell_type": "markdown",
   "metadata": {}
  },
  {
   "source": [
    "#### Calculating Expected Values\n",
    "\n",
    "![title](./img/3_mulchi.png)\n",
    "![title](./img/4_mulchi.png)"
   ],
   "cell_type": "markdown",
   "metadata": {}
  },
  {
   "source": [
    "Above proportion table can be easily calculated as below,\n",
    "\n",
    "32561 - 7841\n",
    "1 - ? x\n",
    "\n",
    "(7841 * 1) /32561 = 0.241"
   ],
   "cell_type": "markdown",
   "metadata": {}
  },
  {
   "source": [
    "Using the expected proportions in the table above, calculate the expected values for each of the 4 cells in the table.\n",
    "\n",
    "* Calculate the expected value for Males who earn >50k, and assign to males_over50k.\n",
    "* Calculate the expected value for Males who earn <=50k, and assign to males_under50k.\n",
    "* Calculate the expected value for Females who earn >50k, and assign to females_over50k.\n",
    "* Calculate the expected value for Females who earn <=50k, and assign to females_under50k."
   ],
   "cell_type": "markdown",
   "metadata": {}
  },
  {
   "cell_type": "code",
   "execution_count": 4,
   "metadata": {},
   "outputs": [],
   "source": [
    "males_over50k = .67 * .241 * 32561\n",
    "males_under50k = .67 * .759 * 32561\n",
    "females_over50k = .33 * .241 * 32561\n",
    "females_under50k = .33 * .759 * 32561"
   ]
  },
  {
   "source": [
    "#### Calculating Chi-Squared\n",
    "\n",
    "![title](./img/mulchi_5.png)\n",
    "![title](./img/mulchi_6.png)"
   ],
   "cell_type": "markdown",
   "metadata": {}
  },
  {
   "cell_type": "code",
   "execution_count": 5,
   "metadata": {},
   "outputs": [
    {
     "output_type": "execute_result",
     "data": {
      "text/plain": [
       "1520.0362248035606"
      ]
     },
     "metadata": {},
     "execution_count": 5
    }
   ],
   "source": [
    "observed = [6662, 1179, 15128, 9592]\n",
    "expected = [5257.6, 2589.6, 16558.2, 8155.6]\n",
    "values = []\n",
    "\n",
    "for i, obs in enumerate(observed):\n",
    "    exp = expected[i]\n",
    "    value = (obs - exp) ** 2 / exp\n",
    "    values.append(value)\n",
    "\n",
    "chisq_gender_income = sum(values)\n",
    "chisq_gender_income"
   ]
  },
  {
   "source": [
    "#### Finding Statistical Significance\n",
    "\n",
    "![title](./img/mulchi_7.png)\n",
    "\n",
    "![title](./img/mulchi_8.png)\n"
   ],
   "cell_type": "markdown",
   "metadata": {}
  },
  {
   "cell_type": "code",
   "execution_count": 6,
   "metadata": {},
   "outputs": [
    {
     "output_type": "stream",
     "name": "stdout",
     "text": [
      "[Chi-Squared Value] -  1520.0362248035606 [P-Value] - 0.0\n"
     ]
    }
   ],
   "source": [
    "import numpy as np\n",
    "from scipy.stats import chisquare\n",
    "\n",
    "observed = np.array([6662, 1179, 15128, 9592])\n",
    "expected = np.array([5257.6, 2589.6, 16558.2, 8155.6])\n",
    "\n",
    "chisq_value, pvalue_gender_income = chisquare(observed, expected)\n",
    "\n",
    "print('[Chi-Squared Value] - ', chisq_value, '[P-Value] -',pvalue_gender_income)"
   ]
  },
  {
   "source": [
    "#### Cross Tables\n",
    "\n",
    "![title](./img/mulchi_9.png)"
   ],
   "cell_type": "markdown",
   "metadata": {}
  },
  {
   "cell_type": "code",
   "execution_count": 9,
   "metadata": {},
   "outputs": [
    {
     "output_type": "execute_result",
     "data": {
      "text/plain": [
       "race      Amer-Indian-Eskimo   Asian-Pac-Islander   Black   Other   White\n",
       "sex                                                                      \n",
       " Female                  119                  346    1555     109    8642\n",
       " Male                    192                  693    1569     162   19174"
      ],
      "text/html": "<div>\n<style scoped>\n    .dataframe tbody tr th:only-of-type {\n        vertical-align: middle;\n    }\n\n    .dataframe tbody tr th {\n        vertical-align: top;\n    }\n\n    .dataframe thead th {\n        text-align: right;\n    }\n</style>\n<table border=\"1\" class=\"dataframe\">\n  <thead>\n    <tr style=\"text-align: right;\">\n      <th>race</th>\n      <th>Amer-Indian-Eskimo</th>\n      <th>Asian-Pac-Islander</th>\n      <th>Black</th>\n      <th>Other</th>\n      <th>White</th>\n    </tr>\n    <tr>\n      <th>sex</th>\n      <th></th>\n      <th></th>\n      <th></th>\n      <th></th>\n      <th></th>\n    </tr>\n  </thead>\n  <tbody>\n    <tr>\n      <th>Female</th>\n      <td>119</td>\n      <td>346</td>\n      <td>1555</td>\n      <td>109</td>\n      <td>8642</td>\n    </tr>\n    <tr>\n      <th>Male</th>\n      <td>192</td>\n      <td>693</td>\n      <td>1569</td>\n      <td>162</td>\n      <td>19174</td>\n    </tr>\n  </tbody>\n</table>\n</div>"
     },
     "metadata": {},
     "execution_count": 9
    }
   ],
   "source": [
    "# Use the pandas.crosstab function to print out a table comparing the sex column of income to the race column of income.\n",
    "\n",
    "import pandas as pd\n",
    "\n",
    "income = pd.read_csv('./datasets/income.csv')\n",
    "table = pandas.crosstab(income[\"sex\"], [income[\"race\"]])\n",
    "\n",
    "table"
   ]
  },
  {
   "source": [
    "#### Finding Expected Values\n",
    "![title](./img/mulchi_10.png)\n",
    "\n",
    "You can also directly pass the result of the **pandas.crosstab** function into the **scipy.stats.chi2_contingency** function, which makes it easier to perform a chi-squared test."
   ],
   "cell_type": "markdown",
   "metadata": {}
  },
  {
   "cell_type": "code",
   "execution_count": 18,
   "metadata": {},
   "outputs": [
    {
     "output_type": "stream",
     "name": "stdout",
     "text": [
      "[chi-squared value]  454.2671089131088 \n\n[p-value]  5.192061302760456e-97 \n\n[degrees of freedom]  4 \n\n[expected frequencies]  [[  102.87709223   343.69549461  1033.40204539    89.64531188\n   9201.3800559 ]\n [  208.12290777   695.30450539  2090.59795461   181.35468812\n  18614.6199441 ]]\n"
     ]
    }
   ],
   "source": [
    "import pandas\n",
    "from scipy.stats import chi2_contingency\n",
    "\n",
    "table = pandas.crosstab(income[\"sex\"], [income[\"race\"]])\n",
    "\n",
    "# The function takes in a cross table of observed counts, and returns the chi-squared value, the p-value, the degrees of freedom, and the expected frequencies.\n",
    "chisq_value, pvalue_gender_race, df, expected = chi2_contingency(table)\n",
    "\n",
    "print('[chi-squared value] ',chisq_value, '\\n')\n",
    "\n",
    "print('[p-value] ', pvalue_gender_race,'\\n')\n",
    "\n",
    "print('[degrees of freedom] ', df,'\\n')\n",
    "\n",
    "print('[expected frequencies] ', expected)"
   ]
  },
  {
   "source": [
    "#### Caveats\n",
    "\n",
    "Now that we've learned the chi-squared test, you should be able to figure out if the association between two columns of categorical data is statistically significant or not. There are a few caveats to using the chi-squared test that are important to cover, though:\n",
    "\n",
    "* Finding that a result isn't significant doesn't mean that no association between the columns exists. For instance, if we found that the chi-squared test between the sex and race columns returned a p-value of .1, it wouldn't mean that there is no relationship between sex and race. It just means that there isn't a statistically significant relationship.\n",
    "* Finding a statistically significant result doesn't imply anything about what the correlation is. For instance, finding that a chi-squared test between sex and race results in a p-value of .01 doesn't mean that the dataset contains too many Females who are White (or too few). **A statistically significant finding means that some evidence of a relationship between the variables exists but needs to be investigated further**.\n",
    "* Chi-squared tests can only be applied in the case where **each possibility within a category is independent**. For instance, the Census counts individuals as either Male or Female, not both.\n",
    "* **Chi-squared tests are more valid when the numbers in each cell of the cross table are larger**. So if each number is 100, great -- if each number is 1, you may need to gather more data.\n"
   ],
   "cell_type": "markdown",
   "metadata": {}
  }
 ]
}