{
  "nbformat": 4,
  "nbformat_minor": 0,
  "metadata": {
    "colab": {
      "name": "Pandas-Basics.ipynb",
      "provenance": [],
      "collapsed_sections": [
        "MtqSkwmHnxDo"
      ]
    },
    "kernelspec": {
      "name": "python3",
      "display_name": "Python 3"
    }
  },
  "cells": [
    {
      "cell_type": "markdown",
      "metadata": {
        "id": "C1KjyXn8kcwG"
      },
      "source": [
        "PANDAS\n",
        "-------"
      ]
    },
    {
      "cell_type": "markdown",
      "metadata": {
        "id": "3mpvg9b9lhWu"
      },
      "source": [
        "Python's pandas library is one of the things that makes python a great programming language for data analysis. Pandas makes importing, analyzing and visualizing data much easier. It builds on packages like NumPy and matplotlib to give you a single, convenient, place to do most of your data analysis and visualization work."
      ]
    },
    {
      "cell_type": "markdown",
      "metadata": {
        "id": "y8LiVgYFmQ9k"
      },
      "source": [
        "To work data effectively in Python and pandas, we'll need to read the csv file into a Pandas DataFrame.\n",
        "A DataFrame is a way to represent and work with tabular data - data that's in table form, like a spreadsheet. \n",
        "Tabular data has rows and columns, just like our csv file, but it'll be easier for us to read and sort through if we can view it as a table."
      ]
    },
    {
      "cell_type": "markdown",
      "metadata": {
        "id": "MtqSkwmHnxDo"
      },
      "source": [
        "#### Mounting GDrive to access DataSets"
      ]
    },
    {
      "cell_type": "code",
      "metadata": {
        "id": "Oo73NifXnqgs",
        "colab": {
          "base_uri": "https://localhost:8080/"
        },
        "outputId": "22add878-4d79-4719-a28c-e3564c0e59c8"
      },
      "source": [
        "from google.colab import drive\n",
        "drive.mount('/content/drive')"
      ],
      "execution_count": null,
      "outputs": [
        {
          "output_type": "stream",
          "text": [
            "Drive already mounted at /content/drive; to attempt to forcibly remount, call drive.mount(\"/content/drive\", force_remount=True).\n"
          ],
          "name": "stdout"
        }
      ]
    },
    {
      "cell_type": "markdown",
      "metadata": {
        "id": "mw5uS0ScqUmY"
      },
      "source": [
        "#### Importing Data with Pandas"
      ]
    },
    {
      "cell_type": "markdown",
      "metadata": {
        "id": "y8JnchQBoDSF"
      },
      "source": [
        "pandas.read_csv function takes in a csv file and return a DataFrame"
      ]
    },
    {
      "cell_type": "code",
      "metadata": {
        "id": "TiEMRilgm_Dy"
      },
      "source": [
        "import pandas as pd\n",
        "\n",
        "reviews = pd.read_csv('/content/drive/My Drive/DataSets/ign.csv')"
      ],
      "execution_count": null,
      "outputs": []
    },
    {
      "cell_type": "markdown",
      "metadata": {
        "id": "_iTYEVjboWvw"
      },
      "source": [
        "Once we read in a DataFrame, Pandas gives us two methods that make it fast to print out the data as a table.\n",
        "* DataFrame.head() - prints the first N rows of a dataFrame, where N is a number you pass as an argument to the function. If you don't pass any argument, the default is 5.\n",
        "* DataFrame.tail() - prints the last N rows of a DataFrame. Again, the default is 5"
      ]
    },
    {
      "cell_type": "code",
      "metadata": {
        "id": "6Alnp0P0-z5l",
        "colab": {
          "base_uri": "https://localhost:8080/",
          "height": 417
        },
        "outputId": "705abf6c-e778-4e5d-dee3-f9d03246e567"
      },
      "source": [
        "reviews.head()"
      ],
      "execution_count": null,
      "outputs": [
        {
          "output_type": "execute_result",
          "data": {
            "text/html": [
              "<div>\n",
              "<style scoped>\n",
              "    .dataframe tbody tr th:only-of-type {\n",
              "        vertical-align: middle;\n",
              "    }\n",
              "\n",
              "    .dataframe tbody tr th {\n",
              "        vertical-align: top;\n",
              "    }\n",
              "\n",
              "    .dataframe thead th {\n",
              "        text-align: right;\n",
              "    }\n",
              "</style>\n",
              "<table border=\"1\" class=\"dataframe\">\n",
              "  <thead>\n",
              "    <tr style=\"text-align: right;\">\n",
              "      <th></th>\n",
              "      <th>Unnamed: 0</th>\n",
              "      <th>score_phrase</th>\n",
              "      <th>title</th>\n",
              "      <th>url</th>\n",
              "      <th>platform</th>\n",
              "      <th>score</th>\n",
              "      <th>genre</th>\n",
              "      <th>editors_choice</th>\n",
              "      <th>release_year</th>\n",
              "      <th>release_month</th>\n",
              "      <th>release_day</th>\n",
              "    </tr>\n",
              "  </thead>\n",
              "  <tbody>\n",
              "    <tr>\n",
              "      <th>0</th>\n",
              "      <td>0</td>\n",
              "      <td>Amazing</td>\n",
              "      <td>LittleBigPlanet PS Vita</td>\n",
              "      <td>/games/littlebigplanet-vita/vita-98907</td>\n",
              "      <td>PlayStation Vita</td>\n",
              "      <td>9.0</td>\n",
              "      <td>Platformer</td>\n",
              "      <td>Y</td>\n",
              "      <td>2012</td>\n",
              "      <td>9</td>\n",
              "      <td>12</td>\n",
              "    </tr>\n",
              "    <tr>\n",
              "      <th>1</th>\n",
              "      <td>1</td>\n",
              "      <td>Amazing</td>\n",
              "      <td>LittleBigPlanet PS Vita -- Marvel Super Hero E...</td>\n",
              "      <td>/games/littlebigplanet-ps-vita-marvel-super-he...</td>\n",
              "      <td>PlayStation Vita</td>\n",
              "      <td>9.0</td>\n",
              "      <td>Platformer</td>\n",
              "      <td>Y</td>\n",
              "      <td>2012</td>\n",
              "      <td>9</td>\n",
              "      <td>12</td>\n",
              "    </tr>\n",
              "    <tr>\n",
              "      <th>2</th>\n",
              "      <td>2</td>\n",
              "      <td>Great</td>\n",
              "      <td>Splice: Tree of Life</td>\n",
              "      <td>/games/splice/ipad-141070</td>\n",
              "      <td>iPad</td>\n",
              "      <td>8.5</td>\n",
              "      <td>Puzzle</td>\n",
              "      <td>N</td>\n",
              "      <td>2012</td>\n",
              "      <td>9</td>\n",
              "      <td>12</td>\n",
              "    </tr>\n",
              "    <tr>\n",
              "      <th>3</th>\n",
              "      <td>3</td>\n",
              "      <td>Great</td>\n",
              "      <td>NHL 13</td>\n",
              "      <td>/games/nhl-13/xbox-360-128182</td>\n",
              "      <td>Xbox 360</td>\n",
              "      <td>8.5</td>\n",
              "      <td>Sports</td>\n",
              "      <td>N</td>\n",
              "      <td>2012</td>\n",
              "      <td>9</td>\n",
              "      <td>11</td>\n",
              "    </tr>\n",
              "    <tr>\n",
              "      <th>4</th>\n",
              "      <td>4</td>\n",
              "      <td>Great</td>\n",
              "      <td>NHL 13</td>\n",
              "      <td>/games/nhl-13/ps3-128181</td>\n",
              "      <td>PlayStation 3</td>\n",
              "      <td>8.5</td>\n",
              "      <td>Sports</td>\n",
              "      <td>N</td>\n",
              "      <td>2012</td>\n",
              "      <td>9</td>\n",
              "      <td>11</td>\n",
              "    </tr>\n",
              "  </tbody>\n",
              "</table>\n",
              "</div>"
            ],
            "text/plain": [
              "   Unnamed: 0 score_phrase  ... release_month release_day\n",
              "0           0      Amazing  ...             9          12\n",
              "1           1      Amazing  ...             9          12\n",
              "2           2        Great  ...             9          12\n",
              "3           3        Great  ...             9          11\n",
              "4           4        Great  ...             9          11\n",
              "\n",
              "[5 rows x 11 columns]"
            ]
          },
          "metadata": {
            "tags": []
          },
          "execution_count": 3
        }
      ]
    },
    {
      "cell_type": "markdown",
      "metadata": {
        "id": "FpXCeT2xpPbe"
      },
      "source": [
        "To see how many rows and columns are in reviews"
      ]
    },
    {
      "cell_type": "code",
      "metadata": {
        "id": "ycY_ZrQ-pGlC",
        "colab": {
          "base_uri": "https://localhost:8080/"
        },
        "outputId": "bf8da276-f90f-41b4-86d2-018d48eeb39c"
      },
      "source": [
        "reviews.shape"
      ],
      "execution_count": null,
      "outputs": [
        {
          "output_type": "execute_result",
          "data": {
            "text/plain": [
              "(18625, 11)"
            ]
          },
          "metadata": {
            "tags": []
          },
          "execution_count": 4
        }
      ]
    },
    {
      "cell_type": "markdown",
      "metadata": {
        "id": "8ARsKA-2pmDP"
      },
      "source": [
        "One of the big advantages of using Pandas over a similar Python package like NumPy is that Pandas allows us to have columns with different data types. In our data set, reviews, we have columns that store float values like score, string values like score_phrase and integers like release_year, so using NumPy here would be difficult, but Pandas and Python handle it well."
      ]
    },
    {
      "cell_type": "markdown",
      "metadata": {
        "id": "-4DM2yvm1KWv"
      },
      "source": [
        "#### Indexing DataFrames with Pandas\n",
        "\n",
        "The same thing could be accomplished using the pandas.DataFrame.iloc method. The iloc method allows us to retrieve rows and columns by position. We need to specify the positions of the rows and columns that we want. The below code will replicate the results of our reviews.head() by selecting rows zero to five, and all of the columns in our data set."
      ]
    },
    {
      "cell_type": "code",
      "metadata": {
        "id": "tYyo0eK62LMX",
        "colab": {
          "base_uri": "https://localhost:8080/",
          "height": 417
        },
        "outputId": "84fe21f2-bf21-4f93-98de-ca049d5b4bf9"
      },
      "source": [
        "reviews.iloc[0:5, :]"
      ],
      "execution_count": null,
      "outputs": [
        {
          "output_type": "execute_result",
          "data": {
            "text/html": [
              "<div>\n",
              "<style scoped>\n",
              "    .dataframe tbody tr th:only-of-type {\n",
              "        vertical-align: middle;\n",
              "    }\n",
              "\n",
              "    .dataframe tbody tr th {\n",
              "        vertical-align: top;\n",
              "    }\n",
              "\n",
              "    .dataframe thead th {\n",
              "        text-align: right;\n",
              "    }\n",
              "</style>\n",
              "<table border=\"1\" class=\"dataframe\">\n",
              "  <thead>\n",
              "    <tr style=\"text-align: right;\">\n",
              "      <th></th>\n",
              "      <th>Unnamed: 0</th>\n",
              "      <th>score_phrase</th>\n",
              "      <th>title</th>\n",
              "      <th>url</th>\n",
              "      <th>platform</th>\n",
              "      <th>score</th>\n",
              "      <th>genre</th>\n",
              "      <th>editors_choice</th>\n",
              "      <th>release_year</th>\n",
              "      <th>release_month</th>\n",
              "      <th>release_day</th>\n",
              "    </tr>\n",
              "  </thead>\n",
              "  <tbody>\n",
              "    <tr>\n",
              "      <th>0</th>\n",
              "      <td>0</td>\n",
              "      <td>Amazing</td>\n",
              "      <td>LittleBigPlanet PS Vita</td>\n",
              "      <td>/games/littlebigplanet-vita/vita-98907</td>\n",
              "      <td>PlayStation Vita</td>\n",
              "      <td>9.0</td>\n",
              "      <td>Platformer</td>\n",
              "      <td>Y</td>\n",
              "      <td>2012</td>\n",
              "      <td>9</td>\n",
              "      <td>12</td>\n",
              "    </tr>\n",
              "    <tr>\n",
              "      <th>1</th>\n",
              "      <td>1</td>\n",
              "      <td>Amazing</td>\n",
              "      <td>LittleBigPlanet PS Vita -- Marvel Super Hero E...</td>\n",
              "      <td>/games/littlebigplanet-ps-vita-marvel-super-he...</td>\n",
              "      <td>PlayStation Vita</td>\n",
              "      <td>9.0</td>\n",
              "      <td>Platformer</td>\n",
              "      <td>Y</td>\n",
              "      <td>2012</td>\n",
              "      <td>9</td>\n",
              "      <td>12</td>\n",
              "    </tr>\n",
              "    <tr>\n",
              "      <th>2</th>\n",
              "      <td>2</td>\n",
              "      <td>Great</td>\n",
              "      <td>Splice: Tree of Life</td>\n",
              "      <td>/games/splice/ipad-141070</td>\n",
              "      <td>iPad</td>\n",
              "      <td>8.5</td>\n",
              "      <td>Puzzle</td>\n",
              "      <td>N</td>\n",
              "      <td>2012</td>\n",
              "      <td>9</td>\n",
              "      <td>12</td>\n",
              "    </tr>\n",
              "    <tr>\n",
              "      <th>3</th>\n",
              "      <td>3</td>\n",
              "      <td>Great</td>\n",
              "      <td>NHL 13</td>\n",
              "      <td>/games/nhl-13/xbox-360-128182</td>\n",
              "      <td>Xbox 360</td>\n",
              "      <td>8.5</td>\n",
              "      <td>Sports</td>\n",
              "      <td>N</td>\n",
              "      <td>2012</td>\n",
              "      <td>9</td>\n",
              "      <td>11</td>\n",
              "    </tr>\n",
              "    <tr>\n",
              "      <th>4</th>\n",
              "      <td>4</td>\n",
              "      <td>Great</td>\n",
              "      <td>NHL 13</td>\n",
              "      <td>/games/nhl-13/ps3-128181</td>\n",
              "      <td>PlayStation 3</td>\n",
              "      <td>8.5</td>\n",
              "      <td>Sports</td>\n",
              "      <td>N</td>\n",
              "      <td>2012</td>\n",
              "      <td>9</td>\n",
              "      <td>11</td>\n",
              "    </tr>\n",
              "  </tbody>\n",
              "</table>\n",
              "</div>"
            ],
            "text/plain": [
              "   Unnamed: 0 score_phrase  ... release_month release_day\n",
              "0           0      Amazing  ...             9          12\n",
              "1           1      Amazing  ...             9          12\n",
              "2           2        Great  ...             9          12\n",
              "3           3        Great  ...             9          11\n",
              "4           4        Great  ...             9          11\n",
              "\n",
              "[5 rows x 11 columns]"
            ]
          },
          "metadata": {
            "tags": []
          },
          "execution_count": 5
        }
      ]
    },
    {
      "cell_type": "markdown",
      "metadata": {
        "id": "UCYOBlgN2hRy"
      },
      "source": [
        "If we leave off the first position value, like :5, it's assumed we mean 0. If we leave off the last position value, like 0:, it's assumed we mean the last row or column in the DataFrame. \n",
        "\n",
        "We wanted all of the columns, so we specified just a colon(:), without any positions. This gave us the columns from 0 to the last column.\n",
        "Indexing by position is very similar to NumPy indexing. \n",
        "\n",
        "![image.png](data:image/png;base64,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)"
      ]
    },
    {
      "cell_type": "code",
      "metadata": {
        "id": "4ivY2SkO3Qrw",
        "colab": {
          "base_uri": "https://localhost:8080/",
          "height": 400
        },
        "outputId": "29944c9c-698b-439b-b26e-c32c39a0a73b"
      },
      "source": [
        "# remove the first column\n",
        "reviews = reviews.iloc[:, 1:]\n",
        "reviews.head()"
      ],
      "execution_count": null,
      "outputs": [
        {
          "output_type": "execute_result",
          "data": {
            "text/html": [
              "<div>\n",
              "<style scoped>\n",
              "    .dataframe tbody tr th:only-of-type {\n",
              "        vertical-align: middle;\n",
              "    }\n",
              "\n",
              "    .dataframe tbody tr th {\n",
              "        vertical-align: top;\n",
              "    }\n",
              "\n",
              "    .dataframe thead th {\n",
              "        text-align: right;\n",
              "    }\n",
              "</style>\n",
              "<table border=\"1\" class=\"dataframe\">\n",
              "  <thead>\n",
              "    <tr style=\"text-align: right;\">\n",
              "      <th></th>\n",
              "      <th>score_phrase</th>\n",
              "      <th>title</th>\n",
              "      <th>url</th>\n",
              "      <th>platform</th>\n",
              "      <th>score</th>\n",
              "      <th>genre</th>\n",
              "      <th>editors_choice</th>\n",
              "      <th>release_year</th>\n",
              "      <th>release_month</th>\n",
              "      <th>release_day</th>\n",
              "    </tr>\n",
              "  </thead>\n",
              "  <tbody>\n",
              "    <tr>\n",
              "      <th>0</th>\n",
              "      <td>Amazing</td>\n",
              "      <td>LittleBigPlanet PS Vita</td>\n",
              "      <td>/games/littlebigplanet-vita/vita-98907</td>\n",
              "      <td>PlayStation Vita</td>\n",
              "      <td>9.0</td>\n",
              "      <td>Platformer</td>\n",
              "      <td>Y</td>\n",
              "      <td>2012</td>\n",
              "      <td>9</td>\n",
              "      <td>12</td>\n",
              "    </tr>\n",
              "    <tr>\n",
              "      <th>1</th>\n",
              "      <td>Amazing</td>\n",
              "      <td>LittleBigPlanet PS Vita -- Marvel Super Hero E...</td>\n",
              "      <td>/games/littlebigplanet-ps-vita-marvel-super-he...</td>\n",
              "      <td>PlayStation Vita</td>\n",
              "      <td>9.0</td>\n",
              "      <td>Platformer</td>\n",
              "      <td>Y</td>\n",
              "      <td>2012</td>\n",
              "      <td>9</td>\n",
              "      <td>12</td>\n",
              "    </tr>\n",
              "    <tr>\n",
              "      <th>2</th>\n",
              "      <td>Great</td>\n",
              "      <td>Splice: Tree of Life</td>\n",
              "      <td>/games/splice/ipad-141070</td>\n",
              "      <td>iPad</td>\n",
              "      <td>8.5</td>\n",
              "      <td>Puzzle</td>\n",
              "      <td>N</td>\n",
              "      <td>2012</td>\n",
              "      <td>9</td>\n",
              "      <td>12</td>\n",
              "    </tr>\n",
              "    <tr>\n",
              "      <th>3</th>\n",
              "      <td>Great</td>\n",
              "      <td>NHL 13</td>\n",
              "      <td>/games/nhl-13/xbox-360-128182</td>\n",
              "      <td>Xbox 360</td>\n",
              "      <td>8.5</td>\n",
              "      <td>Sports</td>\n",
              "      <td>N</td>\n",
              "      <td>2012</td>\n",
              "      <td>9</td>\n",
              "      <td>11</td>\n",
              "    </tr>\n",
              "    <tr>\n",
              "      <th>4</th>\n",
              "      <td>Great</td>\n",
              "      <td>NHL 13</td>\n",
              "      <td>/games/nhl-13/ps3-128181</td>\n",
              "      <td>PlayStation 3</td>\n",
              "      <td>8.5</td>\n",
              "      <td>Sports</td>\n",
              "      <td>N</td>\n",
              "      <td>2012</td>\n",
              "      <td>9</td>\n",
              "      <td>11</td>\n",
              "    </tr>\n",
              "  </tbody>\n",
              "</table>\n",
              "</div>"
            ],
            "text/plain": [
              "  score_phrase  ... release_day\n",
              "0      Amazing  ...          12\n",
              "1      Amazing  ...          12\n",
              "2        Great  ...          12\n",
              "3        Great  ...          11\n",
              "4        Great  ...          11\n",
              "\n",
              "[5 rows x 10 columns]"
            ]
          },
          "metadata": {
            "tags": []
          },
          "execution_count": 6
        }
      ]
    },
    {
      "cell_type": "markdown",
      "metadata": {
        "id": "IhyHG04n4JeF"
      },
      "source": [
        ""
      ]
    },
    {
      "cell_type": "markdown",
      "metadata": {
        "id": "llsQPd_I4LsA"
      },
      "source": [
        "#### Indexing using labels in Python with Pandas\n",
        "\n"
      ]
    },
    {
      "cell_type": "markdown",
      "metadata": {
        "id": "gqpjnQBvXuOF"
      },
      "source": [
        "#### Pandas Plotting\n",
        "\n",
        "We can create plots to observe the review distribution for the 'Xbox One' v/s the review distribution for the 'PlayStation 4'. This will help to figure out which console has better games.\n",
        "\n",
        "We can make a histogram for each console using the pandas.DataFrame.plot method. This method utilizes matplotlib, the Python plotting library, under the hood, to generate plots.\n",
        "\n",
        "The plot method defaults to drawing a line graph. We will need to pass in the keyword argument kind='hist' to draw a histogram instead"
      ]
    },
    {
      "cell_type": "code",
      "metadata": {
        "id": "N_4ZFR9DXtg6",
        "colab": {
          "base_uri": "https://localhost:8080/",
          "height": 283
        },
        "outputId": "a5c8f014-3d89-4597-e0b5-56103203613e"
      },
      "source": [
        "# %matplotlib inline\n",
        "reviews[reviews['platform'] == 'Xbox One']['score'].plot(kind='hist')"
      ],
      "execution_count": null,
      "outputs": [
        {
          "output_type": "execute_result",
          "data": {
            "text/plain": [
              "<matplotlib.axes._subplots.AxesSubplot at 0x7f88fa61efd0>"
            ]
          },
          "metadata": {
            "tags": []
          },
          "execution_count": 4
        },
        {
          "output_type": "display_data",
          "data": {
            "image/png": "[encoded data removed]",
            "text/plain": [
              "<Figure size 432x288 with 1 Axes>"
            ]
          },
          "metadata": {
            "tags": [],
            "needs_background": "light"
          }
        }
      ]
    },
    {
      "cell_type": "markdown",
      "metadata": {
        "id": "yb3gRx1yQ5rD"
      },
      "source": [
        "#### REFERENCES\n",
        "\n",
        "* https://www.dataquest.io/blog/pandas-python-tutorial/"
      ]
    }
  ]
}